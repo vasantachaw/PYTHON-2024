{
 "cells": [
  {
   "cell_type": "code",
   "execution_count": 1,
   "id": "201fef8c-6fe8-4d9e-bce6-7f450010e301",
   "metadata": {},
   "outputs": [
    {
     "data": {
      "text/plain": [
       "11"
      ]
     },
     "execution_count": 1,
     "metadata": {},
     "output_type": "execute_result"
    }
   ],
   "source": [
    "a=5\n",
    "b=6\n",
    "sum =a+b\n",
    "sum"
   ]
  },
  {
   "cell_type": "code",
   "execution_count": 6,
   "id": "9d8c0f69-04d5-4889-b753-7d39de73196b",
   "metadata": {},
   "outputs": [
    {
     "data": {
      "text/plain": [
       "39"
      ]
     },
     "execution_count": 6,
     "metadata": {},
     "output_type": "execute_result"
    }
   ],
   "source": [
    "def sum(a,b):\n",
    "    return a+b,'hi'\n",
    "sum(35,4)[0]\n",
    "    "
   ]
  },
  {
   "cell_type": "code",
   "execution_count": 8,
   "id": "b9ef973a-8780-4184-9aec-54bfe2b31036",
   "metadata": {},
   "outputs": [
    {
     "name": "stdout",
     "output_type": "stream",
     "text": [
      "1 2 3 4 5 6 "
     ]
    }
   ],
   "source": [
    "x=[1,2,3,4,5,6]\n",
    "def items(ls):\n",
    "    for items in ls:\n",
    "        print(items,end=\" \")\n",
    "items(x)"
   ]
  },
  {
   "cell_type": "code",
   "execution_count": 9,
   "id": "db49e595-2e77-43ca-85f4-da704d87c942",
   "metadata": {},
   "outputs": [
    {
     "name": "stdout",
     "output_type": "stream",
     "text": [
      "120\n"
     ]
    }
   ],
   "source": [
    "fact=1\n",
    "n=5\n",
    "for i in range(1,n+1):\n",
    "    fact*=i\n",
    "print(fact)"
   ]
  },
  {
   "cell_type": "code",
   "execution_count": 12,
   "id": "fead588a-6097-4f6c-b07e-148d130499e3",
   "metadata": {},
   "outputs": [
    {
     "data": {
      "text/plain": [
       "123"
      ]
     },
     "execution_count": 12,
     "metadata": {},
     "output_type": "execute_result"
    }
   ],
   "source": [
    "1*1+1*2+2*3+6*4+18*5"
   ]
  },
  {
   "cell_type": "code",
   "execution_count": 14,
   "id": "8ae78299-8990-45af-a13e-d33a4f01d1b3",
   "metadata": {},
   "outputs": [
    {
     "data": {
      "text/plain": [
       "120"
      ]
     },
     "execution_count": 14,
     "metadata": {},
     "output_type": "execute_result"
    }
   ],
   "source": [
    "1*2*3*4*5"
   ]
  },
  {
   "cell_type": "code",
   "execution_count": 4,
   "id": "b4345735-74ce-49d5-89b4-69154229eb4e",
   "metadata": {},
   "outputs": [
    {
     "name": "stdout",
     "output_type": "stream",
     "text": [
      "5\n",
      "4\n",
      "3\n",
      "2\n",
      "1\n",
      "0\n",
      "-1\n",
      "-2\n",
      "-3\n",
      "-4\n"
     ]
    }
   ],
   "source": [
    "def show(n):\n",
    "    if n==-5:\n",
    "        return \n",
    "    print(n)\n",
    "    show(n-1)\n",
    "show(5)"
   ]
  },
  {
   "cell_type": "code",
   "execution_count": 5,
   "id": "40b474b2-df3a-46bf-8587-f49955067443",
   "metadata": {},
   "outputs": [
    {
     "data": {
      "text/plain": [
       "120"
      ]
     },
     "execution_count": 5,
     "metadata": {},
     "output_type": "execute_result"
    }
   ],
   "source": [
    "def fact(n):\n",
    "    if n==1 or n==0:\n",
    "        return 1\n",
    "    return fact(n-1)*n\n",
    "fact(5)"
   ]
  },
  {
   "cell_type": "code",
   "execution_count": 9,
   "id": "9788c964-2b5c-48e5-b296-14188dcdf977",
   "metadata": {},
   "outputs": [
    {
     "data": {
      "text/plain": [
       "6"
      ]
     },
     "execution_count": 9,
     "metadata": {},
     "output_type": "execute_result"
    }
   ],
   "source": [
    "def sum(n):\n",
    "    if n==0:\n",
    "        return 0\n",
    "    return sum(n-1)+n\n",
    "    \n",
    "sum(3)"
   ]
  },
  {
   "cell_type": "code",
   "execution_count": 17,
   "id": "f03f15a4-31a6-4e3e-83e4-00cc9b56f430",
   "metadata": {},
   "outputs": [
    {
     "name": "stdout",
     "output_type": "stream",
     "text": [
      "1 2 3 4 5 6 7 "
     ]
    }
   ],
   "source": [
    "x=[1,2,3,4,5,6,7]\n",
    "def liss(li,ind=0):\n",
    "    if ind==len(li):\n",
    "        return \n",
    "    print(li[ind],end=\" \")\n",
    "    liss(li,ind+1)\n",
    "liss(x)\n",
    "\n",
    "    "
   ]
  },
  {
   "cell_type": "code",
   "execution_count": null,
   "id": "779b4b5c-7f09-4c37-a991-f912e15dd6d8",
   "metadata": {},
   "outputs": [],
   "source": []
  }
 ],
 "metadata": {
  "kernelspec": {
   "display_name": "Python 3 (ipykernel)",
   "language": "python",
   "name": "python3"
  },
  "language_info": {
   "codemirror_mode": {
    "name": "ipython",
    "version": 3
   },
   "file_extension": ".py",
   "mimetype": "text/x-python",
   "name": "python",
   "nbconvert_exporter": "python",
   "pygments_lexer": "ipython3",
   "version": "3.8.5"
  }
 },
 "nbformat": 4,
 "nbformat_minor": 5
}
