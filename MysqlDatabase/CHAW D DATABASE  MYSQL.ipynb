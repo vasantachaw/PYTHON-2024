{
 "cells": [
  {
   "cell_type": "code",
   "execution_count": 1,
   "id": "9f4025f3-3c04-463a-9e1a-1eefe35b41ca",
   "metadata": {},
   "outputs": [],
   "source": [
    "import mysql.connector as mq"
   ]
  },
  {
   "cell_type": "code",
   "execution_count": 3,
   "id": "d0248c80-d7e6-430f-881b-c3ece34a0506",
   "metadata": {},
   "outputs": [
    {
     "name": "stdout",
     "output_type": "stream",
     "text": [
      "16\n"
     ]
    }
   ],
   "source": [
    "db=mq.connect(host=\"localhost\",user=\"root\",password=\"\")\n",
    "print(db.connection_id)"
   ]
  },
  {
   "cell_type": "code",
   "execution_count": null,
   "id": "7b022215-bf21-48cb-b6b4-85900da4167d",
   "metadata": {},
   "outputs": [],
   "source": [
    "db=mq.connect(host=\"localhost\",user=\"root\",password=\"\")\n",
    "cr=db.cursor()\n"
   ]
  },
  {
   "cell_type": "code",
   "execution_count": 1,
   "id": "0f3e2c57-6ac3-4454-b3de-b242ce4f0d72",
   "metadata": {},
   "outputs": [],
   "source": [
    "import mysql.connector as mq\n",
    "from mysql.connector import Error"
   ]
  },
  {
   "cell_type": "code",
   "execution_count": 13,
   "id": "430d65a8-8963-46e0-8ae1-c2bd386086a1",
   "metadata": {},
   "outputs": [
    {
     "name": "stdout",
     "output_type": "stream",
     "text": [
      "Connection Successfully  !\n",
      "Connection closed.\n"
     ]
    }
   ],
   "source": [
    "db_connection=mq.connect(host=\"localhost\",user=\"root\",password=\"\")\n",
    "try:\n",
    "    if db_connection.is_connected():\n",
    "        print(\"Connection Successfully  !\")\n",
    "except Error as e:\n",
    "    print(f\"Error {e}\")\n",
    "finally:\n",
    "    if db_connection.is_connected():\n",
    "        db_connection.close()\n",
    "        print(\"Connection closed.\")"
   ]
  },
  {
   "cell_type": "code",
   "execution_count": 15,
   "id": "24a4d256-15ad-443e-986e-3da2a6651aff",
   "metadata": {},
   "outputs": [],
   "source": [
    "#How to shows the tables and databasesin python @ mysql"
   ]
  },
  {
   "cell_type": "code",
   "execution_count": 33,
   "id": "08a0f32c-e891-48a0-8164-845e20455483",
   "metadata": {},
   "outputs": [
    {
     "name": "stdout",
     "output_type": "stream",
     "text": [
      "Enter Your Query :   show databases\n"
     ]
    },
    {
     "name": "stdout",
     "output_type": "stream",
     "text": [
      "Your : databases.\n",
      "Your databases Is : chaw_d_vasant\n",
      "Your databases Is : information_schema\n",
      "Your databases Is : mysql\n",
      "Your databases Is : performance_schema\n",
      "Your databases Is : phpmyadmin\n",
      "Your databases Is : test\n",
      "Connection closed .\n"
     ]
    }
   ],
   "source": [
    "import mysql\n",
    "import mysql.connector as mq\n",
    "from mysql.connector import Error\n",
    "\n",
    "db_connection = mq.connect(host=\"localhost\", user=\"root\", password=\"\")\n",
    "try:\n",
    "    if db_connection.is_connected():\n",
    "        user = str(input(\"Enter Your Query : \"))\n",
    "        cursor = db_connection.cursor()\n",
    "        cursor.execute(user)\n",
    "        print(f\"Your : {user.split()[1]}.\")\n",
    "        for i in cursor.fetchall():\n",
    "            print(f\"Your {user.split()[1]} Is : {i[0]}\")\n",
    "except mysql.connector.Error as e:\n",
    "    print(f\"Error {e}\")\n",
    "finally:\n",
    "    if db_connection.is_connected():\n",
    "        db_connection.close()\n",
    "        cursor.close()\n",
    "        print(\"Connection closed .\")\n"
   ]
  },
  {
   "cell_type": "code",
   "execution_count": 39,
   "id": "2162b786-68e9-4309-a399-b8ef8fc48b11",
   "metadata": {},
   "outputs": [
    {
     "name": "stdout",
     "output_type": "stream",
     "text": [
      "Enter your database name :  chaw_d_vasant\n",
      "Enter Your Query :  show tables\n"
     ]
    },
    {
     "name": "stdout",
     "output_type": "stream",
     "text": [
      "Your Tables Is : person_details\n",
      "Your Tables Is : personal\n",
      "connection closed !\n"
     ]
    }
   ],
   "source": [
    "import mysql.connector as mq\n",
    "db_conn=mq.connect(host=\"localhost\",user=\"root\",password=\"\")\n",
    "try:\n",
    "    if db_conn.is_connected():\n",
    "        cursor=db_conn.cursor()\n",
    "        inp=str(input(\"Enter your database name : \"))\n",
    "        sql=f\"use {inp}\"\n",
    "        cursor.execute(sql)\n",
    "        tab=str(input(\"Enter Your Query : \"))\n",
    "        cursor.execute(tab)\n",
    "        for tables in cursor.fetchall():\n",
    "            print(f\"Your Tables Is : {tables[0]}\")\n",
    "except mysql.connector.Error as e:\n",
    "    print(\"Error \",e)\n",
    "finally:\n",
    "    if db_conn.is_connected():\n",
    "        cursor.close()\n",
    "        db_conn.close()\n",
    "        print(f'connection closed !')\n",
    "        "
   ]
  },
  {
   "cell_type": "code",
   "execution_count": null,
   "id": "df02019c-1e7c-4a25-aad3-c1754b330db1",
   "metadata": {},
   "outputs": [
    {
     "name": "stdout",
     "output_type": "stream",
     "text": [
      "Enter your database name :  chaw_d_vasant\n",
      "Enter Your table name :  person_details\n"
     ]
    },
    {
     "name": "stdout",
     "output_type": "stream",
     "text": [
      "1 Vasant 23\n",
      "2 Rohit 24\n",
      "3 Rannjan 25\n",
      "4 Ratan 28\n",
      "5 Kull 24\n",
      "connection closed !\n"
     ]
    }
   ],
   "source": [
    "import mysql.connector as mq # type: ignore\n",
    "db_conn=mq.connect(host=\"localhost\",user=\"root\",password=\"\")\n",
    "try:\n",
    "    if db_conn.is_connected():\n",
    "        cursor=db_conn.cursor()\n",
    "        inp=str(input(\"Enter your database name : \"))\n",
    "        sql=f\"use {inp}\"\n",
    "        cursor.execute(sql)\n",
    "        tab=str(input(\"Enter Your table name : \"))\n",
    "        sqll=f'select * from {tab}'\n",
    "        cursor.execute(sqll)\n",
    "        rows=cursor.fetchall()\n",
    "        for row in rows:\n",
    "            print(f\"{row[0]} {row[1]} {row[2]}\")\n",
    "except mysql.connector.Error as e:\n",
    "    print(\"Error \",e)\n",
    "finally:\n",
    "    if db_conn.is_connected():\n",
    "        cursor.close()\n",
    "        db_conn.close()\n",
    "        print(f'connection closed !')\n",
    "        "
   ]
  },
  {
   "cell_type": "code",
   "execution_count": null,
   "id": "c3dba329-5db2-48ff-9857-4dd1f75ea013",
   "metadata": {},
   "outputs": [],
   "source": [
    "from tqdm import tqdm\n",
    "import time\n",
    "import mysql.connector as mq\n",
    "import numpy as np\n",
    "from mysql.connector import Error\n",
    "\n",
    "\n",
    "class SBI_DATABASE:\n",
    "    def __init__(self):\n",
    "        sbi_db_connection = mq.connect(host=\"localhost\", user=\"root\", password=\"\")\n",
    "        try:\n",
    "            if sbi_db_connection.is_connected():\n",
    "                cursor = sbi_db_connection.cursor()\n",
    "                print(\"connection successfully !\")\n",
    "        except Error as e:\n",
    "            print(f\"Error {e}\")\n",
    "\n",
    "\n",
    "class SBI_BANK:\n",
    "    fname, lname, age,sex, address,dob, occupation, add_email = (\n",
    "        \"\",\n",
    "        \"\",\n",
    "        \"\",\n",
    "        \"\",\n",
    "        \"\",\n",
    "        \"\",\n",
    "        \"\",\n",
    "        \"\",\n",
    "    )\n",
    "    phone = 0\n",
    "    pincode = 0\n",
    "\n",
    "    def __init__(self):\n",
    "        print(\"\\n\\n\")\n",
    "        print(np.char.center(\" S B I    R E G I S T E R A T I O NN    F O R M\", 160))\n",
    "        print(\"\\n\")\n",
    "\n",
    "    def register(self):\n",
    "        print()\n",
    "        self.fname=str(input(\" Enter your First Name : \"))\n",
    "        self.lname=str(input(\" Enter your last Name : \"))\n",
    "        self.age=int(input(\" Enter your Age : \"))\n",
    "        self.sex=str(input(\" Enter your Gender M/F : \"))\n",
    "        self.address=str(input(\" Enter your Address : \"))\n",
    "        self.dob=str(input(\" Enter your Date Of Birth : \")\n",
    "        self.add_email=str(input(\" Enter your Email Id : \")\n",
    "        self.occupation=str(input(\" Enter your Occupation : \"))\n",
    "        self.phone=int(input(\" Enter your Phone Number : \"))\n",
    "        self.pincode=int(input(\" Set Your New pin Code : \"))\n",
    "\n",
    "\n",
    "class SBI_ATM:\n",
    "    balance = 0\n",
    "    pin = 0\n",
    "\n",
    "    def __init__(self):\n",
    "        print(\" \\n\\n WE L C O M E   T O    S B I    A T M \\n\")\n",
    "        print(\" Please Insert Your Card .\")\n",
    "        for i in tqdm(range(101), desc=\" Loading…\", ascii=False, ncols=75):\n",
    "            time.sleep(0.05)\n",
    "        print(\"\\n 1. Set Your Pin Code .\")\n",
    "        print(\" 2. Deposite Your Amount .\")\n",
    "        print(\" 3. Withdraw Your Amount .\")\n",
    "        print(\" 4. Inqury Your blance .\")\n",
    "        print(\" 5. Cancel . \", end=\"\")\n",
    "\n",
    "    def enter_pin(self):\n",
    "        self.pin_code = int(input(\" Enter Your Pin Code : \"))\n",
    "\n",
    "    def enter_amount(self):\n",
    "        self.amount = int(input(\" Enter Your amount : \"))\n",
    "\n",
    "    def set_your_pin(self):\n",
    "        self.pin = int(input(\" Set Your New Pin Code :\"))\n",
    "\n",
    "        print(\" Successfully Set your Pin !\")\n",
    "\n",
    "    def deposite_amount(self):\n",
    "        try:\n",
    "            self.enter_pin()\n",
    "            if self.pin_code == self.pin:\n",
    "                self.enter_amount()\n",
    "                self.balance += self.amount\n",
    "                print(\" Successfully Deposited !\")\n",
    "            else:\n",
    "                print(\" Invalid Pin Code !\")\n",
    "        except ValueError as e:\n",
    "            print(e)\n",
    "\n",
    "    def inqury_balannc(self):\n",
    "        print(f\" Your Total Amount : ${self.balance}\")\n",
    "\n",
    "    def withdraw_amount(self):\n",
    "        try:\n",
    "            self.enter_pin()\n",
    "            if self.pin == self.pin_code:\n",
    "                self.enter_amount()\n",
    "                if self.balance > self.amount and self.balance > 100:\n",
    "                    self.balance -= self.amount\n",
    "                    print(f\" Successfully Withdraw : ${self.amount}\")\n",
    "                else:\n",
    "                    print(\" Insufficiant balance !\")\n",
    "            else:\n",
    "                print(\" Invalid Pin Code !\")\n",
    "        except ValueError as e:\n",
    "            print(e)\n",
    "\n",
    "\n",
    "if __name__ == \"__main__\":\n",
    "    SBI_BANK()\n",
    "    # sbi = SBI_ATM()\n",
    "    # while True:\n",
    "    #     chose = int(input())\n",
    "    #     match chose:\n",
    "    #         case 1:\n",
    "    #             sbi.set_your_pin()\n",
    "\n",
    "    #         case 2:\n",
    "    #             sbi.deposite_amount()\n",
    "\n",
    "    #         case 3:\n",
    "    #             sbi.withdraw_amount()\n",
    "\n",
    "    #         case 4:\n",
    "    #             sbi.inqury_balannc()\n",
    "    #         case 5:\n",
    "    #             break\n"
   ]
  }
 ],
 "metadata": {
  "kernelspec": {
   "display_name": "Python 3 (ipykernel)",
   "language": "python",
   "name": "python3"
  },
  "language_info": {
   "codemirror_mode": {
    "name": "ipython",
    "version": 3
   },
   "file_extension": ".py",
   "mimetype": "text/x-python",
   "name": "python",
   "nbconvert_exporter": "python",
   "pygments_lexer": "ipython3",
   "version": "3.12.3"
  }
 },
 "nbformat": 4,
 "nbformat_minor": 5
}
