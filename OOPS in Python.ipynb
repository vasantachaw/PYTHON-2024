{
 "cells": [
  {
   "cell_type": "code",
   "execution_count": 1,
   "id": "c854470a-d5f9-4698-b018-999e6b15ab59",
   "metadata": {},
   "outputs": [
    {
     "data": {
      "text/plain": [
       "'chaw'"
      ]
     },
     "execution_count": 1,
     "metadata": {},
     "output_type": "execute_result"
    }
   ],
   "source": [
    "class Vasant:\n",
    "    name='chaw'\n",
    "Vasant.name"
   ]
  },
  {
   "cell_type": "code",
   "execution_count": 4,
   "id": "b54d9ade-cc33-431a-a233-433c80126baf",
   "metadata": {},
   "outputs": [
    {
     "name": "stdout",
     "output_type": "stream",
     "text": [
      "Hello World !\n"
     ]
    }
   ],
   "source": [
    "class Vasant:\n",
    "     def __init__(self):\n",
    "         print('Hello World !')\n",
    "\n",
    "a=Vasant()"
   ]
  },
  {
   "cell_type": "code",
   "execution_count": 12,
   "id": "8c3bee3c-7e2c-4f13-b515-945a381afb65",
   "metadata": {},
   "outputs": [
    {
     "name": "stdout",
     "output_type": "stream",
     "text": [
      "Vasant chaw your avg score is : 9.666666666666666\n",
      "good\n"
     ]
    }
   ],
   "source": [
    "class Student:\n",
    "    def __init__(self,name,marks):\n",
    "        self.name=name\n",
    "        self.marks=marks\n",
    "        \n",
    "    @staticmethod\n",
    "    def say():\n",
    "        print('good')\n",
    "        \n",
    "    def get_avg(self):\n",
    "        sum=0\n",
    "        for val in self.marks:\n",
    "            sum+=val\n",
    "        print(f'{self.name} your avg score is : {sum/len(self.marks)}')\n",
    "s=Student('Vasant chaw',[12,13,4])\n",
    "s.get_avg()\n",
    "s.say()"
   ]
  },
  {
   "cell_type": "code",
   "execution_count": 13,
   "id": "14520a11-f229-46f9-9a98-669b4dd6e781",
   "metadata": {},
   "outputs": [
    {
     "name": "stdout",
     "output_type": "stream",
     "text": [
      "Car started ..\n"
     ]
    }
   ],
   "source": [
    "class Car:\n",
    "    def __init__(self):\n",
    "        self.acc=False\n",
    "        self.brk=False\n",
    "        self.clutch=False\n",
    "    def start(self):\n",
    "        self.clutch=True\n",
    "        self.acc=True\n",
    "        print('Car started ..')\n",
    "c=Car()\n",
    "c.start()"
   ]
  },
  {
   "cell_type": "code",
   "execution_count": 15,
   "id": "a75a6f28-8f87-4854-98c4-e5a2f9b26843",
   "metadata": {},
   "outputs": [
    {
     "name": "stdout",
     "output_type": "stream",
     "text": [
      "Rs. 11  was debited\n",
      "989\n",
      "Rs. 111 was credited\n"
     ]
    }
   ],
   "source": [
    "class Account :\n",
    "    def __init__(self,bal,acc):\n",
    "        self.balance=bal\n",
    "        self.account_no=acc\n",
    "    def debit(self,amount):\n",
    "        self.balance -=amount\n",
    "        print(\"Rs.\",amount,' was debited')\n",
    "    def credit(self,amount):\n",
    "        self.balance=+amount\n",
    "        print(\"Rs.\",amount,\"was credited\")\n",
    "    def get_balance(self):\n",
    "        return self.balance\n",
    "acc=Account(1000,121)\n",
    "acc.debit(11)\n",
    "print(acc.get_balance())\n",
    "acc.credit(111)"
   ]
  },
  {
   "cell_type": "code",
   "execution_count": 20,
   "id": "60b4a924-ab9e-48c7-9ae3-25b3afc9339b",
   "metadata": {},
   "outputs": [
    {
     "name": "stdout",
     "output_type": "stream",
     "text": [
      "Sasa\n"
     ]
    },
    {
     "ename": "NameError",
     "evalue": "name 's1' is not defined",
     "output_type": "error",
     "traceback": [
      "\u001b[1;31m---------------------------------------------------------------------------\u001b[0m",
      "\u001b[1;31mNameError\u001b[0m                                 Traceback (most recent call last)",
      "Cell \u001b[1;32mIn[20], line 7\u001b[0m\n\u001b[0;32m      5\u001b[0m \u001b[38;5;28mprint\u001b[39m(s1\u001b[38;5;241m.\u001b[39mname)\n\u001b[0;32m      6\u001b[0m \u001b[38;5;28;01mdel\u001b[39;00m s1\n\u001b[1;32m----> 7\u001b[0m \u001b[38;5;28mprint\u001b[39m(\u001b[43ms1\u001b[49m\u001b[38;5;241m.\u001b[39mname)\n",
      "\u001b[1;31mNameError\u001b[0m: name 's1' is not defined"
     ]
    }
   ],
   "source": [
    "class Student:\n",
    "    def __init__(self,name):\n",
    "        self.name=name\n",
    "s1=Student('Sasa')\n",
    "print(s1.name)\n",
    "del s1\n",
    "print(s1.name)"
   ]
  },
  {
   "cell_type": "code",
   "execution_count": 28,
   "id": "3fa30020-1679-4070-9cf2-724e864fdfe9",
   "metadata": {},
   "outputs": [
    {
     "name": "stdout",
     "output_type": "stream",
     "text": [
      "1232\n",
      "abcd\n"
     ]
    },
    {
     "ename": "AttributeError",
     "evalue": "'Account' object has no attribute '__acc_pass'",
     "output_type": "error",
     "traceback": [
      "\u001b[1;31m---------------------------------------------------------------------------\u001b[0m",
      "\u001b[1;31mAttributeError\u001b[0m                            Traceback (most recent call last)",
      "Cell \u001b[1;32mIn[28], line 10\u001b[0m\n\u001b[0;32m      8\u001b[0m \u001b[38;5;28mprint\u001b[39m(acc\u001b[38;5;241m.\u001b[39macc)\n\u001b[0;32m      9\u001b[0m acc\u001b[38;5;241m.\u001b[39mreset_pass()\n\u001b[1;32m---> 10\u001b[0m \u001b[38;5;28mprint\u001b[39m(\u001b[43macc\u001b[49m\u001b[38;5;241;43m.\u001b[39;49m\u001b[43m__acc_pass\u001b[49m)\n",
      "\u001b[1;31mAttributeError\u001b[0m: 'Account' object has no attribute '__acc_pass'"
     ]
    }
   ],
   "source": [
    "class Account:\n",
    "    def __init__(self,acc,acc_pass):\n",
    "        self.acc=acc\n",
    "        self.__acc_pass=acc_pass\n",
    "    def reset_pass(self):\n",
    "        print(self.__acc_pass)\n",
    "acc=Account('1232','abcd')\n",
    "print(acc.acc)\n",
    "acc.reset_pass()\n",
    "print(acc.__acc_pass)"
   ]
  },
  {
   "cell_type": "code",
   "execution_count": 31,
   "id": "33ebad8e-d788-4330-bea9-12b15b305204",
   "metadata": {},
   "outputs": [
    {
     "name": "stdout",
     "output_type": "stream",
     "text": [
      "hello  vasant\n"
     ]
    }
   ],
   "source": [
    "class Person:\n",
    "    __name='vasant'\n",
    "    def __hello(self):\n",
    "        print('hello ',self.__name)\n",
    "    def get(self):\n",
    "        self.__hello()\n",
    "p=Person()\n",
    "p.get()"
   ]
  },
  {
   "cell_type": "code",
   "execution_count": 36,
   "id": "4e415797-65a8-4437-a0e3-54ec5c4b3344",
   "metadata": {},
   "outputs": [
    {
     "name": "stdout",
     "output_type": "stream",
     "text": [
      "Tesla\n",
      "Fortuner\n",
      "black\n",
      "car started ..\n"
     ]
    }
   ],
   "source": [
    "class Car:\n",
    "    color='black'\n",
    "    @staticmethod\n",
    "    def start():\n",
    "        print(\"car started ..\")\n",
    "    @staticmethod\n",
    "    def stop():\n",
    "        print(\"car stopped..\")\n",
    "class Hyndui(Car):\n",
    "    def __init__(self,name):\n",
    "        self.name=name\n",
    "t=Hyndui('Tesla')\n",
    "f=Hyndui('Fortuner')\n",
    "print(t.name)\n",
    "print(f.name)\n",
    "print(t.color)\n",
    "t.start()"
   ]
  },
  {
   "cell_type": "code",
   "execution_count": 2,
   "id": "895c0f18-ee0c-4b73-940f-fe466c5cb8e3",
   "metadata": {},
   "outputs": [
    {
     "name": "stdout",
     "output_type": "stream",
     "text": [
      "Welcome To class A\n",
      "Welcome To class B\n",
      "Welcome To class C\n"
     ]
    }
   ],
   "source": [
    "class A:\n",
    "    varA='Welcome To class A'\n",
    "class B:\n",
    "    varB='Welcome To class B'\n",
    "class C(A,B):\n",
    "    varC='Welcome To class C'\n",
    "print(C.varA)\n",
    "print(C.varB)\n",
    "print(C.varC)"
   ]
  },
  {
   "cell_type": "code",
   "execution_count": 26,
   "id": "b421bdb7-e157-4228-a7bc-58621212e62f",
   "metadata": {},
   "outputs": [
    {
     "name": "stdout",
     "output_type": "stream",
     "text": [
      "car started ..\n"
     ]
    }
   ],
   "source": [
    "class Car:\n",
    "    def __init__(self,types):\n",
    "        self.types=types\n",
    "        \n",
    "    @staticmethod\n",
    "    def start():\n",
    "        print(\"car started ..\")\n",
    "        \n",
    "    @staticmethod\n",
    "    def stop():\n",
    "        print(\"car stopped..\")\n",
    "        \n",
    "class Hyndui(Car):\n",
    "    def __init__(self,name,types):\n",
    "        super().__init__(types)\n",
    "        self.name=name\n",
    "        super().start()\n",
    "t=Hyndui('Tesla','electric')\n"
   ]
  },
  {
   "cell_type": "code",
   "execution_count": null,
   "id": "4263f2cc-67bb-4a75-bc6f-808e254d8b3e",
   "metadata": {},
   "outputs": [],
   "source": []
  },
  {
   "cell_type": "code",
   "execution_count": 34,
   "id": "15ee8e77-7ae4-4f62-8622-669078c4806d",
   "metadata": {},
   "outputs": [
    {
     "name": "stdout",
     "output_type": "stream",
     "text": [
      "12.0%\n",
      "15\n",
      "12.0%\n",
      "13.333333333333334%\n"
     ]
    }
   ],
   "source": [
    "class Student:\n",
    "    def __init__(self,p,c,m):\n",
    "        self.p=p\n",
    "        self.c=c\n",
    "        self.m=m\n",
    "        self.cp=str((self.p+self.c+self.m)/3)+'%'\n",
    "    def cpp(self):\n",
    "        self.cp=str((self.p+self.c+self.m)/3)+'%'\n",
    "\n",
    "s=Student(11,12,13)\n",
    "print(s.cp)\n",
    "s.p=15\n",
    "print(s.p)\n",
    "print(s.cp)\n",
    "s.cpp()\n",
    "print(s.cp)"
   ]
  },
  {
   "cell_type": "code",
   "execution_count": 42,
   "id": "7fb2e169-b974-4583-986a-2aaac7ff3bd9",
   "metadata": {},
   "outputs": [
    {
     "name": "stdout",
     "output_type": "stream",
     "text": [
      "chaw\n",
      "anonymous\n"
     ]
    }
   ],
   "source": [
    "class Person:\n",
    "    name='anonymous'\n",
    "    def ChangeName(self,name):\n",
    "        self.name=name\n",
    "p=Person()\n",
    "p.ChangeName('chaw')\n",
    "print(p.name)\n",
    "print(Person.name)"
   ]
  },
  {
   "cell_type": "code",
   "execution_count": 41,
   "id": "dc6f96de-fe8a-44d6-a62b-6284db4e29f4",
   "metadata": {},
   "outputs": [
    {
     "name": "stdout",
     "output_type": "stream",
     "text": [
      "anonymous\n",
      "Chaw\n"
     ]
    }
   ],
   "source": [
    "class Person:\n",
    "    name='anonymous'\n",
    "    def ChangeName(self,name):\n",
    "        self.__class__.name=name\n",
    "p=Person()\n",
    "print(p.name)\n",
    "p.ChangeName('Chaw')\n",
    "print(p.name)"
   ]
  },
  {
   "cell_type": "code",
   "execution_count": 43,
   "id": "a3e27c9f-fedd-4d46-b2f9-0699553fcc14",
   "metadata": {},
   "outputs": [
    {
     "name": "stdout",
     "output_type": "stream",
     "text": [
      "chaw\n",
      "chaw\n"
     ]
    }
   ],
   "source": [
    "class Person:\n",
    "    name='anonymous'\n",
    "    def ChangeName(self,name):\n",
    "        Person.name=name\n",
    "p=Person()\n",
    "p.ChangeName('chaw')\n",
    "print(p.name)\n",
    "print(Person.name)"
   ]
  },
  {
   "cell_type": "code",
   "execution_count": 44,
   "id": "449a69fa-e259-4221-880d-365c4da686b9",
   "metadata": {},
   "outputs": [
    {
     "name": "stdout",
     "output_type": "stream",
     "text": [
      "chaw\n",
      "chaw\n"
     ]
    }
   ],
   "source": [
    "class Person:\n",
    "    name='anonymous'\n",
    "    def ChangeName(self,name):\n",
    "        self.__class__.name=name\n",
    "p=Person()\n",
    "p.ChangeName('chaw')\n",
    "print(p.name)\n",
    "print(Person.name)"
   ]
  },
  {
   "cell_type": "code",
   "execution_count": 45,
   "id": "db285c65-653a-4a7a-8c29-acceb884c23b",
   "metadata": {},
   "outputs": [
    {
     "name": "stdout",
     "output_type": "stream",
     "text": [
      "chaw\n",
      "chaw\n"
     ]
    }
   ],
   "source": [
    "class Person:\n",
    "    name='anonymous'\n",
    "\n",
    "    @classmethod\n",
    "    def ChangeName(cls,name):\n",
    "        cls.name=name\n",
    "p=Person()\n",
    "p.ChangeName('chaw')\n",
    "print(p.name)\n",
    "print(Person.name)"
   ]
  },
  {
   "cell_type": "code",
   "execution_count": 46,
   "id": "b8fa4fc2-2876-4839-8eb8-949a60367229",
   "metadata": {},
   "outputs": [
    {
     "name": "stdout",
     "output_type": "stream",
     "text": [
      "12.0%\n",
      "15\n",
      "12.0%\n",
      "13.333333333333334%\n"
     ]
    }
   ],
   "source": [
    "class Student:\n",
    "    def __init__(self,p,c,m):\n",
    "        self.p=p\n",
    "        self.c=c\n",
    "        self.m=m\n",
    "        self.cp=str((self.p+self.c+self.m)/3)+'%'\n",
    "    def cpp(self):\n",
    "        self.cp=str((self.p+self.c+self.m)/3)+'%'\n",
    "\n",
    "s=Student(11,12,13)\n",
    "print(s.cp)\n",
    "s.p=15\n",
    "print(s.p)\n",
    "print(s.cp)\n",
    "s.cpp()\n",
    "print(s.cp)"
   ]
  },
  {
   "cell_type": "code",
   "execution_count": 54,
   "id": "c20a8e35-2473-45dc-a6de-7f3e8cd3e6d9",
   "metadata": {},
   "outputs": [
    {
     "name": "stdout",
     "output_type": "stream",
     "text": [
      "15.0%\n"
     ]
    }
   ],
   "source": [
    "class Student:\n",
    "    def __init__(self,p,c,m):\n",
    "        self.p=p\n",
    "        self.c=c\n",
    "        self.m=m\n",
    "        \n",
    "    @property\n",
    "    def cpp(self):\n",
    "        return str((self.p+self.c+self.m)/3)+'%'\n",
    "\n",
    "s=Student(11,12,13)\n",
    "s.m=22\n",
    "print(s.cpp)"
   ]
  },
  {
   "cell_type": "code",
   "execution_count": 77,
   "id": "0d422d3b-5210-4041-bf88-8d48b6b9519e",
   "metadata": {},
   "outputs": [
    {
     "name": "stdout",
     "output_type": "stream",
     "text": [
      "1i + 3j\n",
      "3i + 4j\n",
      "--------\n",
      "4i + 7j\n"
     ]
    }
   ],
   "source": [
    "class Complex:\n",
    "    def __init__(self,real,img):\n",
    "        self.real=real\n",
    "        self.img=img\n",
    "    def ShowNum(self):\n",
    "        print(f'{self.real}i + {self.img}j')\n",
    "\n",
    "    def add(self,num1):\n",
    "        newr=self.real+num1.real\n",
    "        newi=self.img+num1.img\n",
    "        return Complex(newr,newi)\n",
    "num=Complex(1,3)\n",
    "num.ShowNum()\n",
    "\n",
    "num1=Complex(3,4)\n",
    "num1.ShowNum()\n",
    "print('--------')\n",
    "num2=num.add(num1)\n",
    "num2.ShowNum()"
   ]
  },
  {
   "cell_type": "code",
   "execution_count": 78,
   "id": "e81fc7d7-b1ab-49e0-aaa9-3cb0b46f43fd",
   "metadata": {},
   "outputs": [
    {
     "name": "stdout",
     "output_type": "stream",
     "text": [
      "1i + 3j\n",
      "3i + 4j\n",
      "--------\n",
      "4i + 7j\n"
     ]
    }
   ],
   "source": [
    "class Complex:\n",
    "    def __init__(self,real,img):\n",
    "        self.real=real\n",
    "        self.img=img\n",
    "    def ShowNum(self):\n",
    "        print(f'{self.real}i + {self.img}j')\n",
    "\n",
    "    def __add__(self,num1):\n",
    "        newr=self.real+num1.real\n",
    "        newi=self.img+num1.img\n",
    "        return Complex(newr,newi)\n",
    "num=Complex(1,3)\n",
    "num.ShowNum()\n",
    "\n",
    "num1=Complex(3,4)\n",
    "num1.ShowNum()\n",
    "print('--------')\n",
    "num2=num+num1\n",
    "num2.ShowNum()"
   ]
  },
  {
   "cell_type": "code",
   "execution_count": null,
   "id": "0f9240f0-c593-43c1-bf7a-bda264f30492",
   "metadata": {},
   "outputs": [],
   "source": []
  },
  {
   "cell_type": "code",
   "execution_count": 80,
   "id": "f9b1caa9-7374-45c2-bd65-46935a8525ef",
   "metadata": {},
   "outputs": [
    {
     "name": "stdout",
     "output_type": "stream",
     "text": [
      "1385.4423602330987\n",
      "131.94689145077132\n"
     ]
    }
   ],
   "source": [
    "import math\n",
    "class Circle:\n",
    "    def __init__(self,radius):\n",
    "        self.radius=radius\n",
    "    def area(self):\n",
    "        return math.pi*self.radius**2\n",
    "    def perimeter(self):\n",
    "        return 2*math.pi*self.radius\n",
    "c=Circle(21)\n",
    "print(c.area())\n",
    "print(c.perimeter())"
   ]
  },
  {
   "cell_type": "code",
   "execution_count": 86,
   "id": "50bf326c-3609-4677-b8da-48afb77cf8f2",
   "metadata": {},
   "outputs": [
    {
     "name": "stdout",
     "output_type": "stream",
     "text": [
      "Name : Vasant\n",
      "age : 23\n",
      "Role : Engineer\n",
      "Department : IT\n",
      "Salary : 8333333\n"
     ]
    }
   ],
   "source": [
    "class Employee:\n",
    "    def __init__(self,role,dept,salary):\n",
    "        self.role=role\n",
    "        self.dept=dept\n",
    "        self.salary=salary\n",
    "    def ShowDetailes(self):\n",
    "        print(f'Role : {self.role}')\n",
    "        print(f'Department : {self.dept}')\n",
    "        print(f'Salary : {self.salary}')\n",
    "class Engineer(Employee):\n",
    "    def __init__(self,name,age):\n",
    "        self.name=name\n",
    "        self.age=age\n",
    "        print(f'Name : {self.name}')\n",
    "        print(f'age : {self.age}')\n",
    "        super().__init__('Engineer','IT','8333333')\n",
    "\n",
    "e2=Engineer('Vasant',23)\n",
    "e2.ShowDetailes()"
   ]
  },
  {
   "cell_type": "code",
   "execution_count": 98,
   "id": "ff573319-646f-4677-b957-2fe352a97378",
   "metadata": {},
   "outputs": [
    {
     "name": "stdout",
     "output_type": "stream",
     "text": [
      "True\n"
     ]
    }
   ],
   "source": [
    "class Order:\n",
    "    def __init__(self,item,price):\n",
    "        self.item=item\n",
    "        self.price=price\n",
    "    def __gt__(self,order2):\n",
    "        return self.price > order2.price\n",
    "        \n",
    "order1=Order('chips',30)\n",
    "order2=Order('tea',23)\n",
    "\n",
    "print(order1 > order2)"
   ]
  },
  {
   "cell_type": "code",
   "execution_count": null,
   "id": "b640b60d-0902-42b5-ab45-4bb9e3a84535",
   "metadata": {},
   "outputs": [],
   "source": []
  }
 ],
 "metadata": {
  "kernelspec": {
   "display_name": "Python 3 (ipykernel)",
   "language": "python",
   "name": "python3"
  },
  "language_info": {
   "codemirror_mode": {
    "name": "ipython",
    "version": 3
   },
   "file_extension": ".py",
   "mimetype": "text/x-python",
   "name": "python",
   "nbconvert_exporter": "python",
   "pygments_lexer": "ipython3",
   "version": "3.10.0"
  }
 },
 "nbformat": 4,
 "nbformat_minor": 5
}
