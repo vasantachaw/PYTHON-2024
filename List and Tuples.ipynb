{
 "cells": [
  {
   "cell_type": "code",
   "execution_count": 20,
   "id": "c73da544-8b4b-4ddf-87ed-fda1530bf7ca",
   "metadata": {},
   "outputs": [
    {
     "name": "stdout",
     "output_type": "stream",
     "text": [
      "[22.3, 32, 34, 35, 66, 77, 88, 66.5]\n"
     ]
    }
   ],
   "source": [
    "mks=[22.3,32,34,35,66,77,88,66.5]\n",
    "print(mks)"
   ]
  },
  {
   "cell_type": "code",
   "execution_count": 21,
   "id": "fafb96e4-04fd-4fd3-a7fe-ab2426c91144",
   "metadata": {},
   "outputs": [
    {
     "data": {
      "text/plain": [
       "list"
      ]
     },
     "execution_count": 21,
     "metadata": {},
     "output_type": "execute_result"
    }
   ],
   "source": [
    "type(mks)"
   ]
  },
  {
   "cell_type": "code",
   "execution_count": 22,
   "id": "2f401b2b-adaa-40ea-9411-e89a54d8aba2",
   "metadata": {},
   "outputs": [
    {
     "data": {
      "text/plain": [
       "32"
      ]
     },
     "execution_count": 22,
     "metadata": {},
     "output_type": "execute_result"
    }
   ],
   "source": [
    "mks[1]"
   ]
  },
  {
   "cell_type": "code",
   "execution_count": 23,
   "id": "3876c10f-ca45-4629-adce-804637911c77",
   "metadata": {},
   "outputs": [
    {
     "data": {
      "text/plain": [
       "'vasanr'"
      ]
     },
     "execution_count": 23,
     "metadata": {},
     "output_type": "execute_result"
    }
   ],
   "source": [
    "s=[12,'vasanr']\n",
    "s[1]"
   ]
  },
  {
   "cell_type": "code",
   "execution_count": 24,
   "id": "06f719c4-3f16-4246-9b74-4f615cb230b9",
   "metadata": {},
   "outputs": [
    {
     "data": {
      "text/plain": [
       "'chaw'"
      ]
     },
     "execution_count": 24,
     "metadata": {},
     "output_type": "execute_result"
    }
   ],
   "source": [
    "s[0]='chaw'\n",
    "s[0]"
   ]
  },
  {
   "cell_type": "code",
   "execution_count": 25,
   "id": "fcc73d3f-a144-4e42-8e74-20a0826d94da",
   "metadata": {},
   "outputs": [],
   "source": [
    "s.append(2)"
   ]
  },
  {
   "cell_type": "code",
   "execution_count": 26,
   "id": "049f9b06-6896-4388-88cc-2bcdd378bb7c",
   "metadata": {},
   "outputs": [
    {
     "data": {
      "text/plain": [
       "['chaw', 'vasanr', 2]"
      ]
     },
     "execution_count": 26,
     "metadata": {},
     "output_type": "execute_result"
    }
   ],
   "source": [
    "s"
   ]
  },
  {
   "cell_type": "code",
   "execution_count": 27,
   "id": "27255208-6705-4e90-afe3-c3685368af1b",
   "metadata": {},
   "outputs": [
    {
     "data": {
      "text/plain": [
       "[22.3, 32, 34, 35, 66, 66.5, 77, 88]"
      ]
     },
     "execution_count": 27,
     "metadata": {},
     "output_type": "execute_result"
    }
   ],
   "source": [
    "mks.sort()\n",
    "mks"
   ]
  },
  {
   "cell_type": "code",
   "execution_count": 28,
   "id": "2f3bb1c1-6392-4c76-93d6-6bddc044e889",
   "metadata": {},
   "outputs": [
    {
     "data": {
      "text/plain": [
       "[88, 77, 66.5, 66, 35, 34, 32, 22.3]"
      ]
     },
     "execution_count": 28,
     "metadata": {},
     "output_type": "execute_result"
    }
   ],
   "source": [
    "mks.sort(reverse=True)\n",
    "mks"
   ]
  },
  {
   "cell_type": "code",
   "execution_count": 17,
   "id": "d92f2ed3-df00-4c3f-8c47-04d026baaa07",
   "metadata": {},
   "outputs": [
    {
     "data": {
      "text/plain": [
       "[88, 77, 66.5, 66, 35, 34, 32, 22.3]"
      ]
     },
     "execution_count": 17,
     "metadata": {},
     "output_type": "execute_result"
    }
   ],
   "source": [
    "mks.reverse()\n",
    "mks"
   ]
  },
  {
   "cell_type": "code",
   "execution_count": 29,
   "id": "1f7ded65-1a35-496d-8f7a-4f4e48b21976",
   "metadata": {},
   "outputs": [],
   "source": [
    "s.insert(2,'chaw')"
   ]
  },
  {
   "cell_type": "code",
   "execution_count": 30,
   "id": "6ae37392-2bc2-4311-ac69-26dd56e400d8",
   "metadata": {},
   "outputs": [
    {
     "data": {
      "text/plain": [
       "[88, 77, 66.5, 66, 35, 34, 32, 22.3]"
      ]
     },
     "execution_count": 30,
     "metadata": {},
     "output_type": "execute_result"
    }
   ],
   "source": [
    "mks"
   ]
  },
  {
   "cell_type": "code",
   "execution_count": 31,
   "id": "47fc5fde-e0d9-4d9d-aefa-e5f8787642ff",
   "metadata": {},
   "outputs": [
    {
     "data": {
      "text/plain": [
       "['chaw', 'vasanr', 'chaw', 2]"
      ]
     },
     "execution_count": 31,
     "metadata": {},
     "output_type": "execute_result"
    }
   ],
   "source": [
    "s"
   ]
  },
  {
   "cell_type": "code",
   "execution_count": 35,
   "id": "481f2e42-de18-4b74-bcff-e96d939c785c",
   "metadata": {},
   "outputs": [
    {
     "data": {
      "text/plain": [
       "['vasanr', 2]"
      ]
     },
     "execution_count": 35,
     "metadata": {},
     "output_type": "execute_result"
    }
   ],
   "source": [
    "s.remove(\"chaw\")\n",
    "s"
   ]
  },
  {
   "cell_type": "code",
   "execution_count": 38,
   "id": "dc3478f1-8582-4a92-b9dc-13fe38ec8c69",
   "metadata": {},
   "outputs": [],
   "source": [
    "s.remove(2)"
   ]
  },
  {
   "cell_type": "code",
   "execution_count": 39,
   "id": "fa674778-ab0c-4954-96f1-6be51fddfa5e",
   "metadata": {},
   "outputs": [
    {
     "data": {
      "text/plain": [
       "22.3"
      ]
     },
     "execution_count": 39,
     "metadata": {},
     "output_type": "execute_result"
    }
   ],
   "source": [
    "mks.pop()"
   ]
  },
  {
   "cell_type": "code",
   "execution_count": 40,
   "id": "cb23b1eb-728e-4c9c-8b40-d0f0b1680dd3",
   "metadata": {},
   "outputs": [
    {
     "data": {
      "text/plain": [
       "[88, 77, 66.5, 66, 35, 34, 32]"
      ]
     },
     "execution_count": 40,
     "metadata": {},
     "output_type": "execute_result"
    }
   ],
   "source": [
    "mks"
   ]
  },
  {
   "cell_type": "code",
   "execution_count": 41,
   "id": "ef70df88-1951-4506-b7c7-b0b0dc346b51",
   "metadata": {},
   "outputs": [
    {
     "data": {
      "text/plain": [
       "32"
      ]
     },
     "execution_count": 41,
     "metadata": {},
     "output_type": "execute_result"
    }
   ],
   "source": [
    "mks.pop()"
   ]
  },
  {
   "cell_type": "code",
   "execution_count": 42,
   "id": "8b7c53f0-a2a9-40a4-a51f-e9dbd9015c95",
   "metadata": {},
   "outputs": [
    {
     "data": {
      "text/plain": [
       "[88, 77, 66.5, 66, 35, 34]"
      ]
     },
     "execution_count": 42,
     "metadata": {},
     "output_type": "execute_result"
    }
   ],
   "source": [
    "mks"
   ]
  },
  {
   "cell_type": "code",
   "execution_count": 43,
   "id": "31f4e3b2-47e7-4694-b832-99d00722ea76",
   "metadata": {},
   "outputs": [
    {
     "data": {
      "text/plain": [
       "88"
      ]
     },
     "execution_count": 43,
     "metadata": {},
     "output_type": "execute_result"
    }
   ],
   "source": [
    "mks.pop(0)"
   ]
  },
  {
   "cell_type": "code",
   "execution_count": 45,
   "id": "e18714c9-8a0b-4982-a80f-ebd320502293",
   "metadata": {},
   "outputs": [
    {
     "data": {
      "text/plain": [
       "tuple"
      ]
     },
     "execution_count": 45,
     "metadata": {},
     "output_type": "execute_result"
    }
   ],
   "source": [
    "tup=(1,2,3,4)\n",
    "type(tup)"
   ]
  },
  {
   "cell_type": "code",
   "execution_count": 46,
   "id": "f1c2f2d5-8450-4058-a9eb-51a805ef919a",
   "metadata": {},
   "outputs": [
    {
     "data": {
      "text/plain": [
       "3"
      ]
     },
     "execution_count": 46,
     "metadata": {},
     "output_type": "execute_result"
    }
   ],
   "source": [
    "tup[2]"
   ]
  },
  {
   "cell_type": "code",
   "execution_count": 48,
   "id": "814925f6-5f4d-486d-81d5-d345024cd5d4",
   "metadata": {},
   "outputs": [
    {
     "data": {
      "text/plain": [
       "(111, 111, 111, 11)"
      ]
     },
     "execution_count": 48,
     "metadata": {},
     "output_type": "execute_result"
    }
   ],
   "source": [
    "t=(111,111,111,11)\n",
    "t"
   ]
  },
  {
   "cell_type": "code",
   "execution_count": 50,
   "id": "99922082-bd40-4f55-bd63-ea401763ebe9",
   "metadata": {},
   "outputs": [
    {
     "data": {
      "text/plain": [
       "0"
      ]
     },
     "execution_count": 50,
     "metadata": {},
     "output_type": "execute_result"
    }
   ],
   "source": [
    "t.index(111)"
   ]
  },
  {
   "cell_type": "code",
   "execution_count": 53,
   "id": "89e85ebe-580c-47c8-8276-ba44112adbc8",
   "metadata": {},
   "outputs": [
    {
     "name": "stdout",
     "output_type": "stream",
     "text": [
      "palin\n"
     ]
    }
   ],
   "source": [
    "ls=[1,2,1]\n",
    "lss=[1,2,1]\n",
    "cl=ls.copy()\n",
    "lss.reverse()\n",
    "if cl==lss:\n",
    "    print('palin')\n",
    "else:\n",
    "    print('no')"
   ]
  },
  {
   "cell_type": "code",
   "execution_count": 54,
   "id": "80d4bfbc-92ca-4ea4-9506-5d3f5ae31ab6",
   "metadata": {},
   "outputs": [
    {
     "data": {
      "text/plain": [
       "{1, 2}"
      ]
     },
     "execution_count": 54,
     "metadata": {},
     "output_type": "execute_result"
    }
   ],
   "source": [
    "x={1,2,2,2,2}\n",
    "x"
   ]
  },
  {
   "cell_type": "code",
   "execution_count": 55,
   "id": "c3ef2a06-ca78-4039-acf0-9388d248b5e9",
   "metadata": {},
   "outputs": [
    {
     "data": {
      "text/plain": [
       "set"
      ]
     },
     "execution_count": 55,
     "metadata": {},
     "output_type": "execute_result"
    }
   ],
   "source": [
    "type(x)"
   ]
  },
  {
   "cell_type": "code",
   "execution_count": null,
   "id": "13843e3a-eab7-47c1-94ec-bed1fd428258",
   "metadata": {},
   "outputs": [],
   "source": []
  }
 ],
 "metadata": {
  "kernelspec": {
   "display_name": "Python 3 (ipykernel)",
   "language": "python",
   "name": "python3"
  },
  "language_info": {
   "codemirror_mode": {
    "name": "ipython",
    "version": 3
   },
   "file_extension": ".py",
   "mimetype": "text/x-python",
   "name": "python",
   "nbconvert_exporter": "python",
   "pygments_lexer": "ipython3",
   "version": "3.8.5"
  }
 },
 "nbformat": 4,
 "nbformat_minor": 5
}
