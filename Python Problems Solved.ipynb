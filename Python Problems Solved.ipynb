{
 "cells": [
  {
   "cell_type": "code",
   "execution_count": 1,
   "id": "597cb5d5-8eeb-4090-95e6-02c6063ed910",
   "metadata": {},
   "outputs": [
    {
     "name": "stdout",
     "output_type": "stream",
     "text": [
      "2\n"
     ]
    }
   ],
   "source": [
    "# How TO  Add Two Numbers in python\n",
    "def add(n,m):\n",
    "    return m+n\n",
    "print(add(1,1))"
   ]
  },
  {
   "cell_type": "code",
   "execution_count": 4,
   "id": "f4545c51",
   "metadata": {},
   "outputs": [
    {
     "name": "stdout",
     "output_type": "stream",
     "text": [
      "4\n"
     ]
    }
   ],
   "source": [
    "# Add Two Numbers Using Lambda function\n",
    "add=lambda x,y:x+y\n",
    "print(add(2,2))"
   ]
  },
  {
   "cell_type": "code",
   "execution_count": 7,
   "id": "4343e5a4",
   "metadata": {},
   "outputs": [
    {
     "name": "stdout",
     "output_type": "stream",
     "text": [
      "120\n"
     ]
    }
   ],
   "source": [
    "# Wap to find factorial numberuisng function define\n",
    "def fact(n):\n",
    "    if 0==n or n==1:\n",
    "        return 1\n",
    "    else:\n",
    "        return fact(n-1)*n\n",
    "print(fact(5))"
   ]
  },
  {
   "cell_type": "code",
   "execution_count": 8,
   "id": "d55fd0e3",
   "metadata": {},
   "outputs": [
    {
     "name": "stdout",
     "output_type": "stream",
     "text": [
      "120\n"
     ]
    }
   ],
   "source": [
    "# wap to find factorial number \n",
    "fact=1\n",
    "n=5\n",
    "for i in range(1,n+1):\n",
    "    fact*=i\n",
    "print(fact)"
   ]
  },
  {
   "cell_type": "code",
   "execution_count": 11,
   "id": "22662373",
   "metadata": {},
   "outputs": [
    {
     "name": "stdout",
     "output_type": "stream",
     "text": [
      "1\n"
     ]
    }
   ],
   "source": [
    "fact=1\n",
    "i=1\n",
    "while 5<0:\n",
    "    fact*=i\n",
    "    i+=1\n",
    "print(fact)"
   ]
  },
  {
   "cell_type": "code",
   "execution_count": 15,
   "id": "22cb633f",
   "metadata": {},
   "outputs": [
    {
     "name": "stdout",
     "output_type": "stream",
     "text": [
      "120\n"
     ]
    }
   ],
   "source": [
    "# Using while loop \n",
    "fact=1\n",
    "i=1\n",
    "while i<=5:\n",
    "    fact*=i\n",
    "    i+=1\n",
    "print(fact)"
   ]
  },
  {
   "cell_type": "code",
   "execution_count": 22,
   "id": "9e41f159",
   "metadata": {},
   "outputs": [
    {
     "name": "stdout",
     "output_type": "stream",
     "text": [
      "120\n"
     ]
    }
   ],
   "source": [
    "import numpy as np\n",
    "n=5\n",
    "print(np.prod([i for i in range(1,n+1)]))"
   ]
  },
  {
   "cell_type": "code",
   "execution_count": 27,
   "id": "d277cc94",
   "metadata": {},
   "outputs": [
    {
     "name": "stdout",
     "output_type": "stream",
     "text": [
      "Not Armstrong Number !\n"
     ]
    }
   ],
   "source": [
    "# Check given number is armstrong or not\n",
    "def arms(num):\n",
    "    str_num=str(num)\n",
    "    return sum(int(digit)**len(str_num) for digit in str_num)==num\n",
    "num=int(input(\"Enter a Number : \"))\n",
    "print(f\"Armstrong Number !\" if arms(num) else \"Not Armstrong Number !\")\n"
   ]
  },
  {
   "cell_type": "code",
   "execution_count": 31,
   "id": "6323e995",
   "metadata": {},
   "outputs": [
    {
     "name": "stdout",
     "output_type": "stream",
     "text": [
      "Area OF Circle :  78.54\n"
     ]
    }
   ],
   "source": [
    "#find area of circle \n",
    "import math\n",
    "def area(radius):\n",
    "    return round(math.pi*radius**2,2)\n",
    "print(\"Area OF Circle : \",area(5))"
   ]
  },
  {
   "cell_type": "code",
   "execution_count": 33,
   "id": "aa623134",
   "metadata": {},
   "outputs": [
    {
     "name": "stdout",
     "output_type": "stream",
     "text": [
      "Prime Number !\n"
     ]
    }
   ],
   "source": [
    "# Write  program to check whether a given number is prime or not\n",
    "def prim(num):\n",
    "    if num<2:\n",
    "        return False\n",
    "    for i in range(num):\n",
    "        if num%2==0:\n",
    "            return False\n",
    "    return True\n",
    "num=int(input(\"Enter a Number : \"))\n",
    "print(f\"Prime Number !\" if(prim(num)) else \"Not Prime !\")"
   ]
  },
  {
   "cell_type": "code",
   "execution_count": 35,
   "id": "80e92079",
   "metadata": {},
   "outputs": [
    {
     "name": "stdout",
     "output_type": "stream",
     "text": [
      "ODD NUMBER \n"
     ]
    }
   ],
   "source": [
    "#check numbe is even or odd\n",
    "def check(num):\n",
    "    if num%2==0:\n",
    "        return True\n",
    "    else:\n",
    "        return False\n",
    "num=int(input(\"Enter a Number : \"))\n",
    "print(\"EVEN NUMBER \"if(check(num))else \"ODD NUMBER \")"
   ]
  },
  {
   "cell_type": "code",
   "execution_count": null,
   "id": "a91ee11b",
   "metadata": {},
   "outputs": [],
   "source": []
  }
 ],
 "metadata": {
  "kernelspec": {
   "display_name": "Python 3",
   "language": "python",
   "name": "python3"
  },
  "language_info": {
   "codemirror_mode": {
    "name": "ipython",
    "version": 3
   },
   "file_extension": ".py",
   "mimetype": "text/x-python",
   "name": "python",
   "nbconvert_exporter": "python",
   "pygments_lexer": "ipython3",
   "version": "3.10.0"
  }
 },
 "nbformat": 4,
 "nbformat_minor": 5
}
