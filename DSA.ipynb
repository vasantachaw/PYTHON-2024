{
 "cells": [
  {
   "cell_type": "code",
   "execution_count": 1,
   "id": "7afb0659-c236-40c9-bd0a-5edb7721da7a",
   "metadata": {},
   "outputs": [
    {
     "name": "stdout",
     "output_type": "stream",
     "text": [
      "1\n",
      "3\n",
      "6\n",
      "10\n",
      "15\n"
     ]
    }
   ],
   "source": [
    "l=[1,2,3,4,5]\n",
    "sum=0\n",
    "for i in l:\n",
    "    sum+=i\n",
    "    print(sum)"
   ]
  },
  {
   "cell_type": "markdown",
   "id": "6897562c-298b-4097-885f-b9c3bddfbf09",
   "metadata": {},
   "source": [
    "Stack Data Structure (DSA)\n",
    "A stack is a linear data structure that follows the LIFO (Last In, First Out) principle. This means that the last item added to the stack is the first one to be removed.\n",
    "\n",
    "Operations in a Stack\n",
    "Push(x): Add element x to the top of the stack.\n",
    "Pop(): Remove and return the top element.\n",
    "Peek()/Top(): Return the top element without removing it.\n",
    "isEmpty(): Check if the stack is empty.\n",
    "Size(): Return the number of elements in the stack."
   ]
  },
  {
   "cell_type": "code",
   "execution_count": 9,
   "id": "7c2b8108-e80b-4f6c-a6c7-20e9b8fee7b7",
   "metadata": {},
   "outputs": [
    {
     "name": "stdout",
     "output_type": "stream",
     "text": [
      "[1, 2, 3]\n"
     ]
    }
   ],
   "source": [
    "stack=[]\n",
    "stack.append(1)\n",
    "stack.append(2)\n",
    "stack.append(3)\n",
    "print(stack)"
   ]
  },
  {
   "cell_type": "code",
   "execution_count": 10,
   "id": "8a12a19b-a0dc-4d80-8092-fe6adf70bd8c",
   "metadata": {},
   "outputs": [
    {
     "name": "stdout",
     "output_type": "stream",
     "text": [
      "[1]\n"
     ]
    }
   ],
   "source": [
    "stack.pop()\n",
    "stack.pop()\n",
    "print(stack)"
   ]
  },
  {
   "cell_type": "code",
   "execution_count": 26,
   "id": "6881641a-a688-4d92-9543-f8795d92ea6c",
   "metadata": {},
   "outputs": [
    {
     "name": "stdout",
     "output_type": "stream",
     "text": [
      "[]\n",
      "[1]\n",
      "[1, 2]\n",
      "[1, 2, 3]\n",
      "[1, 2, 3, 4]\n",
      "[1, 2, 3, 4, 5]\n",
      "---------------\n",
      "[1, 2, 3, 4, 5]\n",
      "[1, 2, 3, 4]\n",
      "[1, 2, 3]\n",
      "[1, 2]\n",
      "[1]\n",
      "[]\n"
     ]
    }
   ],
   "source": [
    "def push(stack,n):\n",
    "    stack.append(n)\n",
    "    return stack\n",
    "def pop(stack):\n",
    "    if isEmpty(stack):\n",
    "        return False\n",
    "    else:\n",
    "        stack.pop()\n",
    "        return stack\n",
    "def isEmpty(stack):\n",
    "    if not stack:\n",
    "        return True\n",
    "    else:\n",
    "        return False\n",
    "if __name__==\"__main__\":\n",
    "    stack=[]\n",
    "    print(stack)\n",
    "    push(stack,1)\n",
    "    print(stack)\n",
    "    push(stack,2)\n",
    "    print(stack)\n",
    "    push(stack,3)\n",
    "    print(stack)\n",
    "    push(stack,4)\n",
    "    print(stack)\n",
    "    push(stack,5)\n",
    "    print(stack \n",
    "    print('---------------')\n",
    "    print(stack)\n",
    "    pop(stack)\n",
    "    print(stack)\n",
    "    pop(stack)\n",
    "    print(stack)\n",
    "    pop(stack)\n",
    "    print(stack)\n",
    "    pop(stack)\n",
    "    print(stack)\n",
    "    pop(stack)\n",
    "    print(stack)\n",
    "    \n"
   ]
  },
  {
   "cell_type": "code",
   "execution_count": null,
   "id": "7243c9e0-03ea-4f16-86be-e25445492c54",
   "metadata": {},
   "outputs": [],
   "source": []
  },
  {
   "cell_type": "markdown",
   "id": "6a49a01f-efbb-4d27-b9b5-4ab298388f90",
   "metadata": {},
   "source": [
    "Queue Data Structure (DSA) \\n\n",
    "A queue is a linear data structure that follows the FIFO (First In, First Out) principle. This means that the first element added to the queue is the first one to be removed.\n",
    "\n",
    "Operations in a Queue\n",
    "Enqueue(x): Add element x to the end of the queue.\n",
    "Dequeue(): Remove and return the element at the front of the queue.\n",
    "Peek()/Front(): Return the front element without removing it.\n",
    "isEmpty(): Check if the queue is empty.\n",
    "Size(): Return the number of elements in the queue."
   ]
  },
  {
   "cell_type": "code",
   "execution_count": 33,
   "id": "17833125-1ba4-47af-9455-ac53212ca3d2",
   "metadata": {},
   "outputs": [
    {
     "name": "stdout",
     "output_type": "stream",
     "text": [
      "[]\n",
      "[1]\n",
      "[1, 2]\n",
      "[1, 2, 3]\n",
      "[1, 2, 3, 4]\n",
      "[1, 2, 3, 4, 5]\n",
      "-----------------\n",
      "[2, 3, 4, 5]\n",
      "[3, 4, 5]\n",
      "[4, 5]\n",
      "[5]\n",
      "[]\n"
     ]
    }
   ],
   "source": [
    "def queue(n,num):\n",
    "    n.append(num)\n",
    "    return n\n",
    "def dequeue(n):\n",
    "    if  isEmpty(n):\n",
    "        return False\n",
    "    else:\n",
    "        n.pop(0)\n",
    "        return n\n",
    "def isEmpty(n):\n",
    "    if not n:\n",
    "        return True\n",
    "    else:\n",
    "        return False\n",
    "\n",
    "if __name__==\"__main__\":\n",
    "    n=[]\n",
    "    print(n)\n",
    "    queue(n,1)\n",
    "    print(n)\n",
    "    queue(n,2)\n",
    "    print(n)\n",
    "    queue(n,3)\n",
    "    print(n)\n",
    "    queue(n,4)\n",
    "    print(n)\n",
    "    queue(n,5)\n",
    "    print(n)\n",
    "    print('-----------------')\n",
    "    dequeue(n)\n",
    "    print(n)\n",
    "    dequeue(n)\n",
    "    print(n)\n",
    "    dequeue(n)\n",
    "    print(n)\n",
    "    dequeue(n)\n",
    "    print(n)\n",
    "    dequeue(n)\n",
    "    print(n)"
   ]
  },
  {
   "cell_type": "code",
   "execution_count": null,
   "id": "d5463e42-f7a5-431e-9e06-6d47e243eb65",
   "metadata": {},
   "outputs": [],
   "source": []
  },
  {
   "cell_type": "markdown",
   "id": "0fd5c7d3-6bc0-41db-bc9d-f8c5ba6262af",
   "metadata": {},
   "source": [
    "Single Linked List (SLL)\n",
    "A single linked list is a linear data structure in which elements (also known as nodes) are connected in a sequence. Each node contains two parts:\n",
    "\n",
    "Data: The value stored in the node.\n",
    "Next: A reference (or pointer) to the next node in the sequence.\n",
    "The last node's next is set to None, indicating the end of the list.\n",
    "\n",
    "Operations in a Single Linked List\n",
    "Insertion: Add a new node to the list.\n",
    "At the beginning.\n",
    "At the end.\n",
    "After a given node.\n",
    "Deletion: Remove a node from the list.\n",
    "From the beginning.\n",
    "From the end.\n",
    "A specific node.\n",
    "Traversal: Visit each node to print or access its value.\n",
    "Search: Find a node by its value.\n",
    "Update: Modify the data of a specific node.\n"
   ]
  },
  {
   "cell_type": "code",
   "execution_count": 35,
   "id": "368f592c-b5a5-404f-b0f8-8bbf533d5610",
   "metadata": {},
   "outputs": [],
   "source": [
    "#create a class for intialize first node\n"
   ]
  },
  {
   "cell_type": "code",
   "execution_count": null,
   "id": "257066b7-0ae1-463c-ba1f-ec388d74c34e",
   "metadata": {},
   "outputs": [],
   "source": []
  }
 ],
 "metadata": {
  "kernelspec": {
   "display_name": "Python 3 (ipykernel)",
   "language": "python",
   "name": "python3"
  },
  "language_info": {
   "codemirror_mode": {
    "name": "ipython",
    "version": 3
   },
   "file_extension": ".py",
   "mimetype": "text/x-python",
   "name": "python",
   "nbconvert_exporter": "python",
   "pygments_lexer": "ipython3",
   "version": "3.10.0"
  },
  "widgets": {
   "application/vnd.jupyter.widget-state+json": {
    "state": {},
    "version_major": 2,
    "version_minor": 0
   }
  }
 },
 "nbformat": 4,
 "nbformat_minor": 5
}
