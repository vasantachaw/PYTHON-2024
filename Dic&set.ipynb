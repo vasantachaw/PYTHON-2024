{
 "cells": [
  {
   "cell_type": "code",
   "execution_count": 11,
   "id": "f554357d-bbbc-48da-8093-771bde97a6b4",
   "metadata": {},
   "outputs": [
    {
     "data": {
      "text/plain": [
       "{'key': 'value',\n",
       " 'name': 'vasant',\n",
       " 'learning': 'coding',\n",
       " 'age': 23,\n",
       " 'weight': 55.5,\n",
       " 'mark': 75.4,\n",
       " 'subjects': {'phy': 22,\n",
       "  'chem': 33,\n",
       "  'program': {'python': 22, 'java': 33, 'c': 45}},\n",
       " 'topics': ('dic', 'set')}"
      ]
     },
     "execution_count": 11,
     "metadata": {},
     "output_type": "execute_result"
    }
   ],
   "source": [
    "info={\n",
    "    'key':'value',\n",
    "    'name':'vasant',\n",
    "    'learning':'coding',\n",
    "    'age':23,\n",
    "    'weight':55.5,\n",
    "    'mark':75.4,\n",
    "    'subjects':['python','java'],\n",
    "    'topics':('dic','set'),\n",
    "    'subjects':{\n",
    "        'phy':22,\n",
    "        'chem':33,\n",
    "        'program':{\n",
    "            'python':22,\n",
    "            'java':33,\n",
    "            'c':45\n",
    "        }\n",
    "    }\n",
    "}\n",
    "info"
   ]
  },
  {
   "cell_type": "code",
   "execution_count": 7,
   "id": "8ca76c0e-74cb-4c4d-a66e-5b0cef272ed1",
   "metadata": {},
   "outputs": [
    {
     "data": {
      "text/plain": [
       "dict"
      ]
     },
     "execution_count": 7,
     "metadata": {},
     "output_type": "execute_result"
    }
   ],
   "source": [
    "type(info)"
   ]
  },
  {
   "cell_type": "code",
   "execution_count": 8,
   "id": "7d348aed-9b48-41b0-a692-881e23937d45",
   "metadata": {},
   "outputs": [
    {
     "data": {
      "text/plain": [
       "dict_keys(['key', 'name', 'learning', 'age', 'weight', 'mark', 'subjects', 'topics'])"
      ]
     },
     "execution_count": 8,
     "metadata": {},
     "output_type": "execute_result"
    }
   ],
   "source": [
    "info.keys()"
   ]
  },
  {
   "cell_type": "code",
   "execution_count": 9,
   "id": "0edafa98-14ff-419a-900c-e93ab69e1b28",
   "metadata": {},
   "outputs": [
    {
     "data": {
      "text/plain": [
       "dict_items([('key', 'value'), ('name', 'vasant'), ('learning', 'coding'), ('age', 23), ('weight', 55.5), ('mark', 75.4), ('subjects', ['python', 'java']), ('topics', ('dic', 'set'))])"
      ]
     },
     "execution_count": 9,
     "metadata": {},
     "output_type": "execute_result"
    }
   ],
   "source": [
    "info.items()"
   ]
  },
  {
   "cell_type": "code",
   "execution_count": 10,
   "id": "2386d463-d602-48b3-aa2e-52c6879fe330",
   "metadata": {},
   "outputs": [
    {
     "data": {
      "text/plain": [
       "['python', 'java']"
      ]
     },
     "execution_count": 10,
     "metadata": {},
     "output_type": "execute_result"
    }
   ],
   "source": [
    "info['subjects']"
   ]
  },
  {
   "cell_type": "code",
   "execution_count": 12,
   "id": "e3e31822-bb27-44a3-81ab-bf208075cc16",
   "metadata": {},
   "outputs": [
    {
     "data": {
      "text/plain": [
       "22"
      ]
     },
     "execution_count": 12,
     "metadata": {},
     "output_type": "execute_result"
    }
   ],
   "source": [
    "info['subjects']['phy']"
   ]
  },
  {
   "cell_type": "code",
   "execution_count": 13,
   "id": "0568d8b4-e4ca-4796-95e6-66e0c8a396f6",
   "metadata": {},
   "outputs": [
    {
     "data": {
      "text/plain": [
       "22"
      ]
     },
     "execution_count": 13,
     "metadata": {},
     "output_type": "execute_result"
    }
   ],
   "source": [
    "info['subjects']['program']['python']"
   ]
  },
  {
   "cell_type": "code",
   "execution_count": 14,
   "id": "2aded177-5d84-44e6-b1e6-f00f765df0b6",
   "metadata": {},
   "outputs": [
    {
     "data": {
      "text/plain": [
       "dict_keys(['key', 'name', 'learning', 'age', 'weight', 'mark', 'subjects', 'topics'])"
      ]
     },
     "execution_count": 14,
     "metadata": {},
     "output_type": "execute_result"
    }
   ],
   "source": [
    "info.keys(\n",
    "    \n",
    ")"
   ]
  },
  {
   "cell_type": "code",
   "execution_count": 15,
   "id": "21bea636-f736-4507-bc98-fe2bc3af78f0",
   "metadata": {},
   "outputs": [
    {
     "data": {
      "text/plain": [
       "dict_values(['value', 'vasant', 'coding', 23, 55.5, 75.4, {'phy': 22, 'chem': 33, 'program': {'python': 22, 'java': 33, 'c': 45}}, ('dic', 'set')])"
      ]
     },
     "execution_count": 15,
     "metadata": {},
     "output_type": "execute_result"
    }
   ],
   "source": [
    "info.values()"
   ]
  },
  {
   "cell_type": "code",
   "execution_count": 16,
   "id": "25b6dc6f-5a49-4940-86ea-6fbcc39ed767",
   "metadata": {},
   "outputs": [
    {
     "data": {
      "text/plain": [
       "['value',\n",
       " 'vasant',\n",
       " 'coding',\n",
       " 23,\n",
       " 55.5,\n",
       " 75.4,\n",
       " {'phy': 22, 'chem': 33, 'program': {'python': 22, 'java': 33, 'c': 45}},\n",
       " ('dic', 'set')]"
      ]
     },
     "execution_count": 16,
     "metadata": {},
     "output_type": "execute_result"
    }
   ],
   "source": [
    "list(info.values())"
   ]
  },
  {
   "cell_type": "code",
   "execution_count": 17,
   "id": "d5b4ee84-1599-4f92-a7b4-b2ba295971d7",
   "metadata": {},
   "outputs": [
    {
     "data": {
      "text/plain": [
       "dict_items([('key', 'value'), ('name', 'vasant'), ('learning', 'coding'), ('age', 23), ('weight', 55.5), ('mark', 75.4), ('subjects', {'phy': 22, 'chem': 33, 'program': {'python': 22, 'java': 33, 'c': 45}}), ('topics', ('dic', 'set'))])"
      ]
     },
     "execution_count": 17,
     "metadata": {},
     "output_type": "execute_result"
    }
   ],
   "source": [
    "info.items()"
   ]
  },
  {
   "cell_type": "code",
   "execution_count": 19,
   "id": "beabfa4e-d50a-49f0-ae9a-63f0c6f7f88e",
   "metadata": {},
   "outputs": [
    {
     "data": {
      "text/plain": [
       "'vasant'"
      ]
     },
     "execution_count": 19,
     "metadata": {},
     "output_type": "execute_result"
    }
   ],
   "source": [
    "info.get('name')"
   ]
  },
  {
   "cell_type": "code",
   "execution_count": 20,
   "id": "e0ecca36-a1d6-4d5a-a806-393267540dfe",
   "metadata": {},
   "outputs": [
    {
     "data": {
      "text/plain": [
       "8"
      ]
     },
     "execution_count": 20,
     "metadata": {},
     "output_type": "execute_result"
    }
   ],
   "source": [
    "len(info)"
   ]
  },
  {
   "cell_type": "code",
   "execution_count": 21,
   "id": "3290a2bc-3712-4839-ad4a-02c6e0c38e0d",
   "metadata": {},
   "outputs": [],
   "source": [
    "info.update({'phone':9808046983})"
   ]
  },
  {
   "cell_type": "code",
   "execution_count": 22,
   "id": "6983e6d4-37bd-4d3d-9d1f-919abd5eeb59",
   "metadata": {},
   "outputs": [
    {
     "data": {
      "text/plain": [
       "{'key': 'value',\n",
       " 'name': 'vasant',\n",
       " 'learning': 'coding',\n",
       " 'age': 23,\n",
       " 'weight': 55.5,\n",
       " 'mark': 75.4,\n",
       " 'subjects': {'phy': 22,\n",
       "  'chem': 33,\n",
       "  'program': {'python': 22, 'java': 33, 'c': 45}},\n",
       " 'topics': ('dic', 'set'),\n",
       " 'phone': 9808046983}"
      ]
     },
     "execution_count": 22,
     "metadata": {},
     "output_type": "execute_result"
    }
   ],
   "source": [
    "info"
   ]
  },
  {
   "cell_type": "code",
   "execution_count": 25,
   "id": "e4b2feca-9173-4ff1-b4a9-06bd532a4b6c",
   "metadata": {},
   "outputs": [
    {
     "data": {
      "text/plain": [
       "{1, 2, 23.2, 3, 4, 5, 'chaw'}"
      ]
     },
     "execution_count": 25,
     "metadata": {},
     "output_type": "execute_result"
    }
   ],
   "source": [
    "collections={1,2,3,4,5,'chaw',23.2}\n",
    "collections"
   ]
  },
  {
   "cell_type": "code",
   "execution_count": 26,
   "id": "77d8a8d7-1b84-4b22-b219-97a52799f786",
   "metadata": {},
   "outputs": [],
   "source": [
    "collections.add(6)"
   ]
  },
  {
   "cell_type": "code",
   "execution_count": 27,
   "id": "07bec886-40bb-402b-ab42-acb21b59ccfb",
   "metadata": {},
   "outputs": [
    {
     "data": {
      "text/plain": [
       "{1, 2, 23.2, 3, 4, 5, 6, 'chaw'}"
      ]
     },
     "execution_count": 27,
     "metadata": {},
     "output_type": "execute_result"
    }
   ],
   "source": [
    "collections"
   ]
  },
  {
   "cell_type": "code",
   "execution_count": 28,
   "id": "d52736ec-1b1e-4749-ab80-a3238079a77d",
   "metadata": {},
   "outputs": [],
   "source": [
    "collections.remove(3)"
   ]
  },
  {
   "cell_type": "code",
   "execution_count": 29,
   "id": "9974c374-6a08-4cb6-b885-8b3733e8a4cd",
   "metadata": {},
   "outputs": [
    {
     "data": {
      "text/plain": [
       "{1, 2, 23.2, 4, 5, 6, 'chaw'}"
      ]
     },
     "execution_count": 29,
     "metadata": {},
     "output_type": "execute_result"
    }
   ],
   "source": [
    "collections\n"
   ]
  },
  {
   "cell_type": "code",
   "execution_count": 30,
   "id": "de49472a-b111-42e4-bb7d-3670359da551",
   "metadata": {},
   "outputs": [
    {
     "data": {
      "text/plain": [
       "1"
      ]
     },
     "execution_count": 30,
     "metadata": {},
     "output_type": "execute_result"
    }
   ],
   "source": [
    "collections.pop()"
   ]
  },
  {
   "cell_type": "code",
   "execution_count": 31,
   "id": "961e2d86-6bc1-4c16-8476-5e381643e976",
   "metadata": {},
   "outputs": [
    {
     "data": {
      "text/plain": [
       "2"
      ]
     },
     "execution_count": 31,
     "metadata": {},
     "output_type": "execute_result"
    }
   ],
   "source": [
    "collections.pop()"
   ]
  },
  {
   "cell_type": "code",
   "execution_count": 32,
   "id": "d3f8d123-fa1e-4a5b-b78b-50fca56ce996",
   "metadata": {},
   "outputs": [
    {
     "data": {
      "text/plain": [
       "4"
      ]
     },
     "execution_count": 32,
     "metadata": {},
     "output_type": "execute_result"
    }
   ],
   "source": [
    "collections.pop()"
   ]
  },
  {
   "cell_type": "code",
   "execution_count": 35,
   "id": "3d70e1bc-d00c-4671-94ab-ad7d04c40a50",
   "metadata": {},
   "outputs": [
    {
     "data": {
      "text/plain": [
       "{1, 2, 3, 4, 5, 6, 7, 8, 9}"
      ]
     },
     "execution_count": 35,
     "metadata": {},
     "output_type": "execute_result"
    }
   ],
   "source": [
    "a={1,2,3,4,5}\n",
    "b={5,6,7,8,9}\n",
    "a.union(b)"
   ]
  },
  {
   "cell_type": "code",
   "execution_count": 36,
   "id": "805ad65a-6098-43bd-ac91-dd33b5c7d319",
   "metadata": {},
   "outputs": [
    {
     "data": {
      "text/plain": [
       "{5}"
      ]
     },
     "execution_count": 36,
     "metadata": {},
     "output_type": "execute_result"
    }
   ],
   "source": [
    "a.intersection(b)"
   ]
  },
  {
   "cell_type": "code",
   "execution_count": 37,
   "id": "37ea1942-140c-40d5-9b70-4fcd06bf3993",
   "metadata": {},
   "outputs": [
    {
     "data": {
      "text/plain": [
       "{'cat': 'a small animal',\n",
       " 'table': ['a piece of funiture', 'list of facts & figures']}"
      ]
     },
     "execution_count": 37,
     "metadata": {},
     "output_type": "execute_result"
    }
   ],
   "source": [
    "d={\n",
    "    'cat':'a small animal',\n",
    "    'table':['a piece of funiture','list of facts & figures']\n",
    "    \n",
    "}\n",
    "d"
   ]
  },
  {
   "cell_type": "code",
   "execution_count": null,
   "id": "ee388e88-9f12-4193-9273-a8649fe42b85",
   "metadata": {},
   "outputs": [],
   "source": []
  }
 ],
 "metadata": {
  "kernelspec": {
   "display_name": "Python 3 (ipykernel)",
   "language": "python",
   "name": "python3"
  },
  "language_info": {
   "codemirror_mode": {
    "name": "ipython",
    "version": 3
   },
   "file_extension": ".py",
   "mimetype": "text/x-python",
   "name": "python",
   "nbconvert_exporter": "python",
   "pygments_lexer": "ipython3",
   "version": "3.8.5"
  }
 },
 "nbformat": 4,
 "nbformat_minor": 5
}
