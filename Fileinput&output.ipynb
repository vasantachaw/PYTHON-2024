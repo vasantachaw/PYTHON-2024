{
 "cells": [
  {
   "cell_type": "code",
   "execution_count": 4,
   "id": "cc07653c-66c2-4bdb-89cf-f939f10c5cc4",
   "metadata": {},
   "outputs": [],
   "source": [
    "f=open('sample.txt','r')\n"
   ]
  },
  {
   "cell_type": "code",
   "execution_count": 2,
   "id": "62a1a2f3-5749-4d50-bce8-64e4845de94a",
   "metadata": {},
   "outputs": [
    {
     "data": {
      "text/plain": [
       "str"
      ]
     },
     "execution_count": 2,
     "metadata": {},
     "output_type": "execute_result"
    }
   ],
   "source": [
    "type(f.readline())"
   ]
  },
  {
   "cell_type": "code",
   "execution_count": 3,
   "id": "90c157e2-fa4f-416b-a701-e5da35c6a8d6",
   "metadata": {},
   "outputs": [
    {
     "data": {
      "text/plain": [
       "'hetaufa'"
      ]
     },
     "execution_count": 3,
     "metadata": {},
     "output_type": "execute_result"
    }
   ],
   "source": [
    "f.read()\n"
   ]
  },
  {
   "cell_type": "code",
   "execution_count": 11,
   "id": "4d3759f8-0aea-4918-9940-4ff44751bbc3",
   "metadata": {},
   "outputs": [],
   "source": [
    "f=open('samples.txt','w')\n",
    "f.write('i want to be like him')\n",
    "f.close()"
   ]
  },
  {
   "cell_type": "code",
   "execution_count": 12,
   "id": "490f4231-d046-4e95-ab0c-a73d477d5833",
   "metadata": {},
   "outputs": [
    {
     "name": "stdout",
     "output_type": "stream",
     "text": [
      "i want to be like him\n"
     ]
    }
   ],
   "source": [
    "with open('samples.txt','r+') as f:\n",
    "    data=f.read()\n",
    "    print(data)"
   ]
  },
  {
   "cell_type": "code",
   "execution_count": 13,
   "id": "fb76ebab-d377-4a05-8654-135407f95a14",
   "metadata": {},
   "outputs": [],
   "source": [
    "import os\n",
    "os.remove('samples.txt')"
   ]
  },
  {
   "cell_type": "code",
   "execution_count": 19,
   "id": "f190310b-37b7-419f-9379-9675b9ef909f",
   "metadata": {},
   "outputs": [],
   "source": [
    "with open('pr.txt', \"w\") as f:\n",
    "    f.write('Hi, I am Vasant Chaudhary.\\n')\n",
    "    f.write('I want to become a programmer from Nepal.\\n')\n",
    "    f.write('Thank you.')\n"
   ]
  },
  {
   "cell_type": "code",
   "execution_count": 4,
   "id": "ff7ba45b-bfa1-41be-83f4-52497557fe22",
   "metadata": {},
   "outputs": [],
   "source": [
    "with open('pr.txt', 'r') as f:\n",
    "    df = f.read() \n",
    "d = df.replace('I', 'you')\n",
    "\n",
    "with open('pr.txt', 'w') as f:\n",
    "    f.write(d)\n"
   ]
  },
  {
   "cell_type": "code",
   "execution_count": 3,
   "id": "9d44d8c3-311f-4929-9835-ebc36a29af25",
   "metadata": {},
   "outputs": [
    {
     "name": "stdout",
     "output_type": "stream",
     "text": [
      "here\n"
     ]
    }
   ],
   "source": [
    "with open('pr.txt','r') as f:\n",
    "    if f.read().find('Vasant') !=-1:\n",
    "        print('here')\n",
    "    else:\n",
    "        print('not here')"
   ]
  },
  {
   "cell_type": "code",
   "execution_count": 11,
   "id": "ff253d6f-ca58-47f5-8dc2-c7318cda72e9",
   "metadata": {},
   "outputs": [
    {
     "name": "stdout",
     "output_type": "stream",
     "text": [
      "3\n"
     ]
    }
   ],
   "source": [
    "def check(s):\n",
    "    data=True\n",
    "    l=1\n",
    "    with open('pr.txt','r') as f:\n",
    "        while data:\n",
    "            data=f.readline()\n",
    "            if data.find(s) !=-1:\n",
    "                print(l)\n",
    "                return\n",
    "            l+=1\n",
    "    return -1\n",
    "check('Thank')\n",
    "            \n",
    "            \n",
    "        "
   ]
  },
  {
   "cell_type": "code",
   "execution_count": 39,
   "id": "8c6c0095-17f0-491c-b8df-352e84a29eb3",
   "metadata": {},
   "outputs": [],
   "source": [
    "def num(nums):\n",
    "    with open('num.txt','w') as f:\n",
    "        f.write(nums)\n",
    "\n",
    "n='1,2,3,4,5,6,7,8,9,10'\n",
    "num(n)"
   ]
  },
  {
   "cell_type": "code",
   "execution_count": 41,
   "id": "a5e23410-fda4-4072-b8ce-31c8243c56cb",
   "metadata": {},
   "outputs": [],
   "source": [
    "def even():\n",
    "    data=True\n",
    "    with open('num.txt','r') as f:\n",
    "        data=f.readline()\n",
    "        n=''\n",
    "        for i in range(len(data)):\n",
    "            if data[i]==',':\n",
    "                if int(n)%2==0:\n",
    "                    pr\n",
    "            else:\n",
    "                n+=data[i]\n",
    "                "
   ]
  },
  {
   "cell_type": "code",
   "execution_count": 42,
   "id": "2b55a02b-0ded-4515-90ae-27ceeb725076",
   "metadata": {},
   "outputs": [
    {
     "name": "stdout",
     "output_type": "stream",
     "text": [
      "1\n",
      "2\n",
      "3\n",
      "4\n",
      "5\n",
      "6\n",
      "7\n",
      "8\n",
      "9\n"
     ]
    }
   ],
   "source": [
    "even()"
   ]
  },
  {
   "cell_type": "code",
   "execution_count": null,
   "id": "caa0ee87-7924-40be-84e1-d703e2888173",
   "metadata": {},
   "outputs": [],
   "source": []
  },
  {
   "cell_type": "code",
   "execution_count": null,
   "id": "ae622551-29af-40d1-99dd-9ca838f0bb9e",
   "metadata": {},
   "outputs": [],
   "source": []
  }
 ],
 "metadata": {
  "kernelspec": {
   "display_name": "Python 3 (ipykernel)",
   "language": "python",
   "name": "python3"
  },
  "language_info": {
   "codemirror_mode": {
    "name": "ipython",
    "version": 3
   },
   "file_extension": ".py",
   "mimetype": "text/x-python",
   "name": "python",
   "nbconvert_exporter": "python",
   "pygments_lexer": "ipython3",
   "version": "3.8.5"
  }
 },
 "nbformat": 4,
 "nbformat_minor": 5
}
