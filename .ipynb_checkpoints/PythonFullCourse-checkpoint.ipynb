{
 "cells": [
  {
   "cell_type": "code",
   "execution_count": 9,
   "id": "17c639fb-1982-4c29-bc4a-0f0377584332",
   "metadata": {},
   "outputs": [
    {
     "name": "stdout",
     "output_type": "stream",
     "text": [
      "Hello CHAW D VASANTA !\n"
     ]
    }
   ],
   "source": [
    "print(\"Hello CHAW D VASANTA !\")"
   ]
  },
  {
   "cell_type": "code",
   "execution_count": null,
   "id": "aecb52a7-5e68-4c7f-8199-0f994bad78cd",
   "metadata": {},
   "outputs": [
    {
     "name": "stdout",
     "output_type": "stream",
     "text": [
      "Enter a any number : 12\n"
     ]
    },
    {
     "name": "stdout",
     "output_type": "stream",
     "text": [
      "Your Number Is : 12\n"
     ]
    }
   ],
   "source": [
    "x = input(\"Enter a any number :\")\n",
    "print(\"Your Number Is :\", x)"
   ]
  },
  {
   "cell_type": "code",
   "execution_count": null,
   "id": "d117bc06-12a8-4a5e-81ae-e0d58e642a02",
   "metadata": {},
   "outputs": [
    {
     "name": "stdout",
     "output_type": "stream",
     "text": [
      "6\n"
     ]
    }
   ],
   "source": [
    "one = 1\n",
    "two = 2\n",
    "three = 3\n",
    "total = one + two + three\n",
    "print(total)"
   ]
  },
  {
   "cell_type": "code",
   "execution_count": null,
   "id": "ced95b4b-5026-4057-a97d-1ca448f3239a",
   "metadata": {},
   "outputs": [],
   "source": [
    "# varibales"
   ]
  },
  {
   "cell_type": "code",
   "execution_count": null,
   "id": "ce90e733-9a3f-41d1-a350-bf74d19b32b0",
   "metadata": {},
   "outputs": [
    {
     "name": "stdout",
     "output_type": "stream",
     "text": [
      "110 12.3 Vasanta I am Vasanta d chaw\n"
     ]
    }
   ],
   "source": [
    "integer = 110\n",
    "floating = 12.3\n",
    "double = 34.44\n",
    "char = \"Vasanta\"\n",
    "name = \"\"\"I am Vasanta d chaw\"\"\"\n",
    "print(integer, floating, char, name)"
   ]
  },
  {
   "cell_type": "code",
   "execution_count": null,
   "id": "c1ba1b5b-6e87-46f9-9253-1b000955f894",
   "metadata": {},
   "outputs": [],
   "source": [
    "a = b = c = d = 12"
   ]
  },
  {
   "cell_type": "code",
   "execution_count": 47,
   "id": "326e1b19-85b1-479f-9eb5-57e13636e1b0",
   "metadata": {},
   "outputs": [
    {
     "data": {
      "text/plain": [
       "12"
      ]
     },
     "execution_count": 47,
     "metadata": {},
     "output_type": "execute_result"
    }
   ],
   "source": [
    "a"
   ]
  },
  {
   "cell_type": "code",
   "execution_count": 49,
   "id": "109d339a-52ba-4fae-b3aa-561a00a2754b",
   "metadata": {},
   "outputs": [
    {
     "data": {
      "text/plain": [
       "12"
      ]
     },
     "execution_count": 49,
     "metadata": {},
     "output_type": "execute_result"
    }
   ],
   "source": [
    "b"
   ]
  },
  {
   "cell_type": "code",
   "execution_count": 51,
   "id": "b318af79-4f5b-415a-a471-42479a2debfe",
   "metadata": {},
   "outputs": [
    {
     "data": {
      "text/plain": [
       "12"
      ]
     },
     "execution_count": 51,
     "metadata": {},
     "output_type": "execute_result"
    }
   ],
   "source": [
    "c"
   ]
  },
  {
   "cell_type": "code",
   "execution_count": null,
   "id": "cc0797b2-b5dc-4b16-9824-206ac0d7ce22",
   "metadata": {},
   "outputs": [
    {
     "data": {
      "text/plain": [
       "1"
      ]
     },
     "execution_count": 53,
     "metadata": {},
     "output_type": "execute_result"
    }
   ],
   "source": [
    "a, b, c = 1, 2, 3\n",
    "a"
   ]
  },
  {
   "cell_type": "code",
   "execution_count": 55,
   "id": "bec3ee53-27ab-449e-a387-2a42419dc321",
   "metadata": {},
   "outputs": [
    {
     "data": {
      "text/plain": [
       "2"
      ]
     },
     "execution_count": 55,
     "metadata": {},
     "output_type": "execute_result"
    }
   ],
   "source": [
    "b"
   ]
  },
  {
   "cell_type": "code",
   "execution_count": 57,
   "id": "5964d0b9-8595-409e-97ea-ad07b1104412",
   "metadata": {},
   "outputs": [
    {
     "data": {
      "text/plain": [
       "3"
      ]
     },
     "execution_count": 57,
     "metadata": {},
     "output_type": "execute_result"
    }
   ],
   "source": [
    "c"
   ]
  },
  {
   "cell_type": "code",
   "execution_count": null,
   "id": "bda5a03b-b428-4558-834b-025fefdd06eb",
   "metadata": {},
   "outputs": [
    {
     "data": {
      "text/plain": [
       "'CHAWDVASANT'"
      ]
     },
     "execution_count": 59,
     "metadata": {},
     "output_type": "execute_result"
    }
   ],
   "source": [
    "name = \"CHAWDVASANT\"\n",
    "name"
   ]
  },
  {
   "cell_type": "code",
   "execution_count": null,
   "id": "55a92a13-b0c9-4399-83a4-a67723dd50ae",
   "metadata": {},
   "outputs": [
    {
     "data": {
      "text/plain": [
       "'CHAWDVASANT'"
      ]
     },
     "execution_count": 61,
     "metadata": {},
     "output_type": "execute_result"
    }
   ],
   "source": [
    "name = \"CHAWDVASANT\"\n",
    "name"
   ]
  },
  {
   "cell_type": "code",
   "execution_count": 63,
   "id": "cbe34459-49a1-492e-9143-1d8dd1efd318",
   "metadata": {},
   "outputs": [
    {
     "data": {
      "text/plain": [
       "'AWDVASANT'"
      ]
     },
     "execution_count": 63,
     "metadata": {},
     "output_type": "execute_result"
    }
   ],
   "source": [
    "name[2:]"
   ]
  },
  {
   "cell_type": "code",
   "execution_count": 65,
   "id": "48106c88-f808-4b7c-9027-3f5c310d6e7d",
   "metadata": {},
   "outputs": [
    {
     "data": {
      "text/plain": [
       "'CH'"
      ]
     },
     "execution_count": 65,
     "metadata": {},
     "output_type": "execute_result"
    }
   ],
   "source": [
    "name[:2]"
   ]
  },
  {
   "cell_type": "code",
   "execution_count": null,
   "id": "9c9732d1-ec58-4beb-8ba3-e4b993f4befc",
   "metadata": {},
   "outputs": [
    {
     "name": "stdout",
     "output_type": "stream",
     "text": [
      "Your Name Is :  VASANTADCHAW\n"
     ]
    }
   ],
   "source": [
    "first = \"VASANTA\"\n",
    "middle = \"D\"\n",
    "last = \"CHAW\"\n",
    "print(\"Your Name Is : \", first + middle + last)"
   ]
  },
  {
   "cell_type": "code",
   "execution_count": null,
   "id": "6bed958e-a2ea-4c9e-951f-70fb8e53d3c4",
   "metadata": {},
   "outputs": [],
   "source": [
    "# list"
   ]
  },
  {
   "cell_type": "code",
   "execution_count": null,
   "id": "e2cef356-70df-4cf4-80ab-ca6b782df8b2",
   "metadata": {},
   "outputs": [
    {
     "name": "stdout",
     "output_type": "stream",
     "text": [
      "['abcd', 123, 2.34, 'chaw', 20.3]\n"
     ]
    }
   ],
   "source": [
    "list = [\"abcd\", 123, 2.34, \"chaw\", 20.3]\n",
    "nlist = [321, \"D\"]\n",
    "print(list)"
   ]
  },
  {
   "cell_type": "code",
   "execution_count": 75,
   "id": "16514c62-f45c-4e27-812a-c910ea1dceff",
   "metadata": {},
   "outputs": [
    {
     "name": "stdout",
     "output_type": "stream",
     "text": [
      "[321, 'D']\n"
     ]
    }
   ],
   "source": [
    "print(nlist)"
   ]
  },
  {
   "cell_type": "code",
   "execution_count": 77,
   "id": "fa456d02-bcc3-4c0f-8472-0a052897a5a6",
   "metadata": {},
   "outputs": [
    {
     "name": "stdout",
     "output_type": "stream",
     "text": [
      "abcd\n"
     ]
    }
   ],
   "source": [
    "print(list[0])"
   ]
  },
  {
   "cell_type": "code",
   "execution_count": 79,
   "id": "444f8c07-b396-4cb7-a415-d3248d9b729c",
   "metadata": {},
   "outputs": [
    {
     "name": "stdout",
     "output_type": "stream",
     "text": [
      "['abcd', 123]\n"
     ]
    }
   ],
   "source": [
    "print(list[:2])"
   ]
  },
  {
   "cell_type": "code",
   "execution_count": 81,
   "id": "6562df71-de36-4aab-b267-70c3b033eb21",
   "metadata": {},
   "outputs": [
    {
     "name": "stdout",
     "output_type": "stream",
     "text": [
      "[2.34, 'chaw', 20.3]\n"
     ]
    }
   ],
   "source": [
    "print(list[2:])"
   ]
  },
  {
   "cell_type": "code",
   "execution_count": 83,
   "id": "bf5ecb84-5f54-4cb9-8759-324363cbe1db",
   "metadata": {},
   "outputs": [
    {
     "name": "stdout",
     "output_type": "stream",
     "text": [
      "[321, 'D']\n"
     ]
    }
   ],
   "source": [
    "print(nlist)"
   ]
  },
  {
   "cell_type": "code",
   "execution_count": null,
   "id": "609b6ed3-893e-4f94-a546-f9bbd2208841",
   "metadata": {},
   "outputs": [
    {
     "name": "stdout",
     "output_type": "stream",
     "text": [
      "[321, 'D', 321, 'D']\n"
     ]
    }
   ],
   "source": [
    "print(nlist * 2)"
   ]
  },
  {
   "cell_type": "raw",
   "id": "5ee3d599-4bfe-47b3-9bba-7f0fac46c25e",
   "metadata": {},
   "source": [
    "print(list+nlist)"
   ]
  },
  {
   "cell_type": "code",
   "execution_count": null,
   "id": "df736625-9593-4e89-a470-1a30d27e278e",
   "metadata": {},
   "outputs": [
    {
     "name": "stdout",
     "output_type": "stream",
     "text": [
      "['abcd', 123, 2.34, 'chaw', 20.3, 321, 'D']\n"
     ]
    }
   ],
   "source": [
    "print(list + nlist)"
   ]
  },
  {
   "cell_type": "code",
   "execution_count": null,
   "id": "32f34c03-2e52-4d63-8b25-1f35a097ffb9",
   "metadata": {},
   "outputs": [],
   "source": [
    "# tuples"
   ]
  },
  {
   "cell_type": "code",
   "execution_count": null,
   "id": "71011709-abc2-4277-8b50-d90dbe7a5e78",
   "metadata": {},
   "outputs": [],
   "source": [
    "tuples = (\"abcd\", 123, 848.4, 1)"
   ]
  },
  {
   "cell_type": "code",
   "execution_count": 95,
   "id": "85cc69d4-3291-4f54-9e12-f892fa8bbd04",
   "metadata": {},
   "outputs": [
    {
     "name": "stdout",
     "output_type": "stream",
     "text": [
      "('abcd', 123, 848.4, 1)\n"
     ]
    }
   ],
   "source": [
    "print(tuples)"
   ]
  },
  {
   "cell_type": "code",
   "execution_count": 97,
   "id": "c73d664d-aa10-49b2-a6c1-57e9fcadaee8",
   "metadata": {},
   "outputs": [
    {
     "data": {
      "text/plain": [
       "tuple"
      ]
     },
     "execution_count": 97,
     "metadata": {},
     "output_type": "execute_result"
    }
   ],
   "source": [
    "type(tuples)"
   ]
  },
  {
   "cell_type": "code",
   "execution_count": 99,
   "id": "1d35010a-654b-4f3e-8773-213c8b826010",
   "metadata": {},
   "outputs": [
    {
     "name": "stdout",
     "output_type": "stream",
     "text": [
      "(848.4,)\n"
     ]
    }
   ],
   "source": [
    "print(tuples[2:3])"
   ]
  },
  {
   "cell_type": "code",
   "execution_count": null,
   "id": "627956af-332e-4bc1-bb6f-663ed2b70b1e",
   "metadata": {},
   "outputs": [
    {
     "name": "stdout",
     "output_type": "stream",
     "text": [
      "{}\n"
     ]
    }
   ],
   "source": [
    "dictionary = {}\n",
    "print(dictionary)"
   ]
  },
  {
   "cell_type": "code",
   "execution_count": 104,
   "id": "16fd2498-7c90-4ec7-a8dc-98f401f7b80a",
   "metadata": {},
   "outputs": [
    {
     "data": {
      "text/plain": [
       "dict"
      ]
     },
     "execution_count": 104,
     "metadata": {},
     "output_type": "execute_result"
    }
   ],
   "source": [
    "type(dictionary)"
   ]
  },
  {
   "cell_type": "code",
   "execution_count": null,
   "id": "b5179c1d-5083-4452-be16-117ec264a821",
   "metadata": {},
   "outputs": [
    {
     "name": "stdout",
     "output_type": "stream",
     "text": [
      "I am beginner !\n"
     ]
    }
   ],
   "source": [
    "dictionary[0] = \"CHAW D VASANTA\"\n",
    "dictionary[1] = \"I am beginner !\"\n",
    "print(dictionary[1])"
   ]
  },
  {
   "cell_type": "code",
   "execution_count": 108,
   "id": "74f92cba-7b9d-42bb-9cc7-796d192c42f8",
   "metadata": {},
   "outputs": [
    {
     "name": "stdout",
     "output_type": "stream",
     "text": [
      "dict_keys([0, 1])\n"
     ]
    }
   ],
   "source": [
    "print(dictionary.keys())"
   ]
  },
  {
   "cell_type": "code",
   "execution_count": 110,
   "id": "8fdb0d4a-e314-4270-9910-3ca58c3d69bc",
   "metadata": {},
   "outputs": [
    {
     "name": "stdout",
     "output_type": "stream",
     "text": [
      "dict_values(['CHAW D VASANTA', 'I am beginner !'])\n"
     ]
    }
   ],
   "source": [
    "print(dictionary.values())"
   ]
  },
  {
   "cell_type": "code",
   "execution_count": 112,
   "id": "7002a154-9b10-45cf-9951-29c11110fea6",
   "metadata": {},
   "outputs": [
    {
     "data": {
      "text/plain": [
       "4"
      ]
     },
     "execution_count": 112,
     "metadata": {},
     "output_type": "execute_result"
    }
   ],
   "source": [
    "2**2"
   ]
  },
  {
   "cell_type": "code",
   "execution_count": 114,
   "id": "f0470e28-5a85-4a49-9ca3-708668a52ee6",
   "metadata": {},
   "outputs": [
    {
     "data": {
      "text/plain": [
       "8"
      ]
     },
     "execution_count": 114,
     "metadata": {},
     "output_type": "execute_result"
    }
   ],
   "source": [
    "2**3"
   ]
  },
  {
   "cell_type": "code",
   "execution_count": null,
   "id": "ed7740d8-71f8-4539-97f6-79f791fce50f",
   "metadata": {},
   "outputs": [
    {
     "data": {
      "text/plain": [
       "1"
      ]
     },
     "execution_count": 118,
     "metadata": {},
     "output_type": "execute_result"
    }
   ],
   "source": [
    "9 % 2"
   ]
  },
  {
   "cell_type": "code",
   "execution_count": null,
   "id": "69ad99fc-ea8a-428f-bc9c-10fe24c0f05e",
   "metadata": {},
   "outputs": [
    {
     "data": {
      "text/plain": [
       "4"
      ]
     },
     "execution_count": 120,
     "metadata": {},
     "output_type": "execute_result"
    }
   ],
   "source": [
    "8 // 2"
   ]
  },
  {
   "cell_type": "code",
   "execution_count": null,
   "id": "1f4857a0-fe4b-4f0c-9e70-2674e25d19cc",
   "metadata": {},
   "outputs": [
    {
     "data": {
      "text/plain": [
       "4.0"
      ]
     },
     "execution_count": 122,
     "metadata": {},
     "output_type": "execute_result"
    }
   ],
   "source": [
    "8 / 2"
   ]
  },
  {
   "cell_type": "code",
   "execution_count": null,
   "id": "5e1406f9-3255-4b74-a842-f8e66a97f425",
   "metadata": {},
   "outputs": [
    {
     "data": {
      "text/plain": [
       "10"
      ]
     },
     "execution_count": 124,
     "metadata": {},
     "output_type": "execute_result"
    }
   ],
   "source": [
    "21 // 2"
   ]
  },
  {
   "cell_type": "code",
   "execution_count": null,
   "id": "13f7660d-f585-4b08-942f-18462eb7b6da",
   "metadata": {},
   "outputs": [
    {
     "data": {
      "text/plain": [
       "10.95"
      ]
     },
     "execution_count": 126,
     "metadata": {},
     "output_type": "execute_result"
    }
   ],
   "source": [
    "21.9 / 2"
   ]
  },
  {
   "cell_type": "code",
   "execution_count": null,
   "id": "4c5399eb-e16d-4549-a2ec-139a2910cca3",
   "metadata": {},
   "outputs": [
    {
     "data": {
      "text/plain": [
       "10.0"
      ]
     },
     "execution_count": 128,
     "metadata": {},
     "output_type": "execute_result"
    }
   ],
   "source": [
    "21.9 // 2"
   ]
  },
  {
   "cell_type": "code",
   "execution_count": null,
   "id": "b4034a7c-0a0f-4396-8826-d3f6bcb3b44b",
   "metadata": {},
   "outputs": [
    {
     "name": "stdout",
     "output_type": "stream",
     "text": [
      "False\n"
     ]
    }
   ],
   "source": [
    "a, b = 12, 13\n",
    "if a == b:\n",
    "    print(\"True\")\n",
    "else:\n",
    "    print(\"False\")"
   ]
  },
  {
   "cell_type": "code",
   "execution_count": null,
   "id": "32971670-7b38-49f3-9675-5f47b6795811",
   "metadata": {},
   "outputs": [
    {
     "name": "stdout",
     "output_type": "stream",
     "text": [
      "True\n"
     ]
    }
   ],
   "source": [
    "if a != b:\n",
    "    print(\"True\")\n",
    "else:\n",
    "    print(\"Flase\")"
   ]
  },
  {
   "cell_type": "code",
   "execution_count": null,
   "id": "01c79e0d-c5c2-4c24-96e5-26691457aae2",
   "metadata": {},
   "outputs": [
    {
     "name": "stdout",
     "output_type": "stream",
     "text": [
      "Flase\n"
     ]
    }
   ],
   "source": [
    "if a > b:\n",
    "    print(\"True\")\n",
    "else:\n",
    "    print(\"Flase\")"
   ]
  },
  {
   "cell_type": "code",
   "execution_count": null,
   "id": "92f59b00-1796-4b8d-b210-e7eff30c232d",
   "metadata": {},
   "outputs": [
    {
     "name": "stdout",
     "output_type": "stream",
     "text": [
      "True\n"
     ]
    }
   ],
   "source": [
    "if a < b:\n",
    "    print(\"True\")\n",
    "else:\n",
    "    print(\"Flase\")"
   ]
  },
  {
   "cell_type": "code",
   "execution_count": null,
   "id": "f793b963-eae0-4d2f-9fea-8ffb0128c196",
   "metadata": {},
   "outputs": [
    {
     "name": "stdout",
     "output_type": "stream",
     "text": [
      "Flase\n"
     ]
    }
   ],
   "source": [
    "if a >= b:\n",
    "    print(\"True\")\n",
    "else:\n",
    "    print(\"Flase\")"
   ]
  },
  {
   "cell_type": "code",
   "execution_count": null,
   "id": "5803ed74-e103-487b-bdc9-3008ad80730e",
   "metadata": {},
   "outputs": [
    {
     "name": "stdout",
     "output_type": "stream",
     "text": [
      "True\n"
     ]
    }
   ],
   "source": [
    "if a <= b:\n",
    "    print(\"True\")\n",
    "else:\n",
    "    print(\"Flase\")"
   ]
  },
  {
   "cell_type": "code",
   "execution_count": null,
   "id": "bf8261cd-ef64-4e7c-8efa-bed76aa553f3",
   "metadata": {},
   "outputs": [],
   "source": [
    "a, b, c = 44, 33, 0"
   ]
  },
  {
   "cell_type": "code",
   "execution_count": null,
   "id": "8d840495-84f8-4c52-a36e-740d40a70ce1",
   "metadata": {},
   "outputs": [
    {
     "name": "stdout",
     "output_type": "stream",
     "text": [
      "77\n"
     ]
    }
   ],
   "source": [
    "print(a + b)"
   ]
  },
  {
   "cell_type": "code",
   "execution_count": null,
   "id": "f157e672-df1c-4884-81a1-66a65d4bbeb1",
   "metadata": {},
   "outputs": [
    {
     "data": {
      "text/plain": [
       "220"
      ]
     },
     "execution_count": 166,
     "metadata": {},
     "output_type": "execute_result"
    }
   ],
   "source": [
    "c += a\n",
    "c"
   ]
  },
  {
   "cell_type": "code",
   "execution_count": null,
   "id": "fb74453a-2417-44f2-bad9-a342b2b109fb",
   "metadata": {},
   "outputs": [
    {
     "data": {
      "text/plain": [
       "9680"
      ]
     },
     "execution_count": 168,
     "metadata": {},
     "output_type": "execute_result"
    }
   ],
   "source": [
    "c *= a\n",
    "c"
   ]
  },
  {
   "cell_type": "code",
   "execution_count": null,
   "id": "be37dd7e-84f7-4ef2-bf4f-63b6c000d389",
   "metadata": {},
   "outputs": [],
   "source": [
    "cc = 0\n",
    "cc *= a"
   ]
  },
  {
   "cell_type": "code",
   "execution_count": 172,
   "id": "0a3e43df-4020-4443-b769-7c89d4881bab",
   "metadata": {},
   "outputs": [
    {
     "data": {
      "text/plain": [
       "0"
      ]
     },
     "execution_count": 172,
     "metadata": {},
     "output_type": "execute_result"
    }
   ],
   "source": [
    "cc"
   ]
  },
  {
   "cell_type": "code",
   "execution_count": null,
   "id": "d1fda829-e759-4c0d-a12c-28b5515c9205",
   "metadata": {},
   "outputs": [],
   "source": [
    "ccc = 2\n",
    "ccc *= 2"
   ]
  },
  {
   "cell_type": "code",
   "execution_count": 176,
   "id": "d28a5444-60a9-4abf-8430-40d55fb78fd3",
   "metadata": {},
   "outputs": [
    {
     "data": {
      "text/plain": [
       "4"
      ]
     },
     "execution_count": 176,
     "metadata": {},
     "output_type": "execute_result"
    }
   ],
   "source": [
    "ccc"
   ]
  },
  {
   "cell_type": "code",
   "execution_count": null,
   "id": "4394ef54-f259-4731-bc6e-8e624eff37ea",
   "metadata": {},
   "outputs": [
    {
     "data": {
      "text/plain": [
       "220.0"
      ]
     },
     "execution_count": 178,
     "metadata": {},
     "output_type": "execute_result"
    }
   ],
   "source": [
    "c /= a\n",
    "c"
   ]
  },
  {
   "cell_type": "code",
   "execution_count": null,
   "id": "1ba9edec-12c4-4579-b280-a94ee15a570e",
   "metadata": {},
   "outputs": [
    {
     "data": {
      "text/plain": [
       "1.0"
      ]
     },
     "execution_count": 184,
     "metadata": {},
     "output_type": "execute_result"
    }
   ],
   "source": [
    "a /= a\n",
    "a"
   ]
  },
  {
   "cell_type": "code",
   "execution_count": null,
   "id": "c63013f4-2501-495b-bcd2-71dd1d703e36",
   "metadata": {},
   "outputs": [
    {
     "data": {
      "text/plain": [
       "220.0"
      ]
     },
     "execution_count": 192,
     "metadata": {},
     "output_type": "execute_result"
    }
   ],
   "source": [
    "c /= a\n",
    "c"
   ]
  },
  {
   "cell_type": "code",
   "execution_count": null,
   "id": "372ecd15-2494-4925-863c-0185ea6d0ccc",
   "metadata": {},
   "outputs": [
    {
     "data": {
      "text/plain": [
       "48400.0"
      ]
     },
     "execution_count": 194,
     "metadata": {},
     "output_type": "execute_result"
    }
   ],
   "source": [
    "c **= 2\n",
    "c"
   ]
  },
  {
   "cell_type": "code",
   "execution_count": null,
   "id": "47553427-a336-4de9-9dca-cd0b9baed3b8",
   "metadata": {},
   "outputs": [
    {
     "data": {
      "text/plain": [
       "48400.0"
      ]
     },
     "execution_count": 196,
     "metadata": {},
     "output_type": "execute_result"
    }
   ],
   "source": [
    "c //= a\n",
    "c"
   ]
  },
  {
   "cell_type": "code",
   "execution_count": null,
   "id": "66c74cdb-d56b-4e1c-97d2-ba38278885ed",
   "metadata": {},
   "outputs": [
    {
     "data": {
      "text/plain": [
       "12"
      ]
     },
     "execution_count": 198,
     "metadata": {},
     "output_type": "execute_result"
    }
   ],
   "source": [
    "a = 60\n",
    "b = 13\n",
    "a & b"
   ]
  },
  {
   "cell_type": "code",
   "execution_count": null,
   "id": "6cc78423-e1a1-480e-b88e-d6f6ed9a6eb5",
   "metadata": {},
   "outputs": [
    {
     "data": {
      "text/plain": [
       "61"
      ]
     },
     "execution_count": 200,
     "metadata": {},
     "output_type": "execute_result"
    }
   ],
   "source": [
    "a | b"
   ]
  },
  {
   "cell_type": "code",
   "execution_count": null,
   "id": "d09d351d-0171-48d4-960f-4a593a8c0108",
   "metadata": {},
   "outputs": [
    {
     "data": {
      "text/plain": [
       "49"
      ]
     },
     "execution_count": 202,
     "metadata": {},
     "output_type": "execute_result"
    }
   ],
   "source": [
    "a ^ b"
   ]
  },
  {
   "cell_type": "code",
   "execution_count": 204,
   "id": "1cbc379e-12f1-4583-bc94-c504143670a5",
   "metadata": {},
   "outputs": [
    {
     "data": {
      "text/plain": [
       "-61"
      ]
     },
     "execution_count": 204,
     "metadata": {},
     "output_type": "execute_result"
    }
   ],
   "source": [
    "~a"
   ]
  },
  {
   "cell_type": "code",
   "execution_count": 206,
   "id": "d40545dd-ee6b-4947-b0f1-f25b1b574090",
   "metadata": {},
   "outputs": [
    {
     "data": {
      "text/plain": [
       "'0b1100'"
      ]
     },
     "execution_count": 206,
     "metadata": {},
     "output_type": "execute_result"
    }
   ],
   "source": [
    "bin(12)"
   ]
  },
  {
   "cell_type": "code",
   "execution_count": 208,
   "id": "356c4393-57d5-449a-a3f7-ba10c0b1e984",
   "metadata": {},
   "outputs": [
    {
     "data": {
      "text/plain": [
       "'0b111100'"
      ]
     },
     "execution_count": 208,
     "metadata": {},
     "output_type": "execute_result"
    }
   ],
   "source": [
    "bin(60)"
   ]
  },
  {
   "cell_type": "code",
   "execution_count": null,
   "id": "bbd22ce8-b50e-4694-aa00-8097cc391578",
   "metadata": {},
   "outputs": [
    {
     "name": "stdout",
     "output_type": "stream",
     "text": [
      "True\n"
     ]
    }
   ],
   "source": [
    "a = 10\n",
    "b = 14\n",
    "lis = [12, 3, 2, 3, 2, 10]\n",
    "if a in lis:\n",
    "    print(\"True\")\n",
    "else:\n",
    "    print(\"False\")"
   ]
  },
  {
   "cell_type": "code",
   "execution_count": null,
   "id": "ee431e75-833c-4fdf-be99-e54e63aab424",
   "metadata": {},
   "outputs": [
    {
     "name": "stdout",
     "output_type": "stream",
     "text": [
      "Flase\n"
     ]
    }
   ],
   "source": [
    "if b in lis:\n",
    "    print(\"True\")\n",
    "else:\n",
    "    print(\"Flase\")"
   ]
  },
  {
   "cell_type": "code",
   "execution_count": null,
   "id": "01fbbeca-3582-45c0-b7d1-08ab6485957a",
   "metadata": {},
   "outputs": [
    {
     "name": "stdout",
     "output_type": "stream",
     "text": [
      "True\n"
     ]
    }
   ],
   "source": [
    "c = (a + b) / 2\n",
    "if c in lis:\n",
    "    print(\"True\")\n",
    "else:\n",
    "    print(\"Flase\")"
   ]
  },
  {
   "cell_type": "code",
   "execution_count": null,
   "id": "c95f1f72-74fd-4ea8-a76e-b7c4323d835e",
   "metadata": {},
   "outputs": [
    {
     "data": {
      "text/plain": [
       "140732009491480"
      ]
     },
     "execution_count": 218,
     "metadata": {},
     "output_type": "execute_result"
    }
   ],
   "source": [
    "a, b = 20, 20\n",
    "id(a)"
   ]
  },
  {
   "cell_type": "code",
   "execution_count": 220,
   "id": "ef7360a8-444f-45b4-a608-ab515531bb73",
   "metadata": {},
   "outputs": [
    {
     "data": {
      "text/plain": [
       "140732009491480"
      ]
     },
     "execution_count": 220,
     "metadata": {},
     "output_type": "execute_result"
    }
   ],
   "source": [
    "id(b)"
   ]
  },
  {
   "cell_type": "code",
   "execution_count": null,
   "id": "24df567c-e417-4945-8c0a-12a79525b432",
   "metadata": {},
   "outputs": [
    {
     "name": "stdout",
     "output_type": "stream",
     "text": [
      "True\n"
     ]
    }
   ],
   "source": [
    "if a is b:\n",
    "    print(\"True\")\n",
    "else:\n",
    "    print(\"False\")"
   ]
  },
  {
   "cell_type": "code",
   "execution_count": null,
   "id": "613146b9-ec3a-4a2c-91af-07747665d8a5",
   "metadata": {},
   "outputs": [
    {
     "name": "stdout",
     "output_type": "stream",
     "text": [
      "False\n"
     ]
    }
   ],
   "source": [
    "if a is not b:\n",
    "    print(\"True\")\n",
    "else:\n",
    "    print(\"False\")"
   ]
  },
  {
   "cell_type": "code",
   "execution_count": null,
   "id": "7b32040a-318c-491e-a9d3-50996e7e8b7a",
   "metadata": {},
   "outputs": [
    {
     "name": "stdout",
     "output_type": "stream",
     "text": [
      "True\n"
     ]
    }
   ],
   "source": [
    "if id(a) == id(b):\n",
    "    print(\"True\")\n",
    "else:\n",
    "    print(\"False\")"
   ]
  },
  {
   "cell_type": "code",
   "execution_count": null,
   "id": "224e256a-b38f-4431-b028-9dcfcf487033",
   "metadata": {},
   "outputs": [],
   "source": [
    "# In the above example discount is calculated on the inputs amount of discount is 5% if the amount is  less than 1000 and 10% when the above 1000"
   ]
  },
  {
   "cell_type": "code",
   "execution_count": null,
   "id": "54a3071e-7fcb-4b23-a011-a5f594f8fd24",
   "metadata": {},
   "outputs": [
    {
     "name": "stdout",
     "output_type": "stream",
     "text": [
      "Enter amounnt :  1200\n"
     ]
    },
    {
     "name": "stdout",
     "output_type": "stream",
     "text": [
      "120.0\n",
      "Not payable\n"
     ]
    }
   ],
   "source": [
    "amount = int(input(\"Enter amounnt : \"))\n",
    "if amount < 1000:\n",
    "    discount = amount * 0.05\n",
    "    print(discount)\n",
    "else:\n",
    "    discount = amount * 0.10\n",
    "    print(discount)\n",
    "print(\"Not payable\")"
   ]
  },
  {
   "cell_type": "markdown",
   "id": "9bcbdeaf",
   "metadata": {},
   "source": []
  },
  {
   "cell_type": "code",
   "execution_count": 2,
   "id": "a485976a-7ae3-4117-b846-102489a8280b",
   "metadata": {},
   "outputs": [
    {
     "name": "stdout",
     "output_type": "stream",
     "text": [
      "Your Largest Number Is : 88\n"
     ]
    }
   ],
   "source": [
    "# wap to find a largest number among them three numbers\n",
    "a = int(input(\"Enter Your First number : \"))\n",
    "b = int(input(\"Enter Your Second Number :\"))\n",
    "c = int(input(\"Enter Your Third Number : \"))\n",
    "if a > b:\n",
    "    if a > c:\n",
    "        print(f\"Your Largest Number Is : {a}\")\n",
    "    else:\n",
    "        print(f\"Your Largest Number Is : {c}\")\n",
    "elif b > a:\n",
    "    if b > c:\n",
    "        print(f\"Your Largest Number Is : {b}\")\n",
    "    else:\n",
    "        print(f\"Your Largest Number Is : {c}\")"
   ]
  },
  {
   "cell_type": "code",
   "execution_count": null,
   "id": "56e97abe",
   "metadata": {},
   "outputs": [
    {
     "name": "stdout",
     "output_type": "stream",
     "text": [
      "The count is : 0\n",
      "The count is : 1\n",
      "The count is : 2\n",
      "The count is : 3\n",
      "The count is : 4\n",
      "The count is : 5\n",
      "The count is : 6\n",
      "The count is : 7\n",
      "The count is : 8\n",
      "Good Bye\n"
     ]
    }
   ],
   "source": [
    "count = 0\n",
    "while count < 9:\n",
    "    print(\"The count is :\", count)\n",
    "    count += 1\n",
    "print(\"Good Bye\")"
   ]
  },
  {
   "cell_type": "code",
   "execution_count": null,
   "id": "837d4001",
   "metadata": {},
   "outputs": [
    {
     "name": "stdout",
     "output_type": "stream",
     "text": [
      "Your Entered Numbber Is :  5\n"
     ]
    },
    {
     "ename": "ValueError",
     "evalue": "invalid literal for int() with base 10: ''",
     "output_type": "error",
     "traceback": [
      "\u001b[1;31m---------------------------------------------------------------------------\u001b[0m",
      "\u001b[1;31mValueError\u001b[0m                                Traceback (most recent call last)",
      "Cell \u001b[1;32mIn[4], line 3\u001b[0m\n\u001b[0;32m      1\u001b[0m var\u001b[38;5;241m=\u001b[39m\u001b[38;5;241m1\u001b[39m\n\u001b[0;32m      2\u001b[0m \u001b[38;5;28;01mwhile\u001b[39;00m var\u001b[38;5;241m==\u001b[39m\u001b[38;5;241m1\u001b[39m:\n\u001b[1;32m----> 3\u001b[0m     num\u001b[38;5;241m=\u001b[39m\u001b[38;5;28mint\u001b[39m(\u001b[38;5;28minput\u001b[39m(\u001b[38;5;124m'\u001b[39m\u001b[38;5;124mEnter aa Number : \u001b[39m\u001b[38;5;124m'\u001b[39m))\n\u001b[0;32m      4\u001b[0m     \u001b[38;5;28mprint\u001b[39m(\u001b[38;5;124m'\u001b[39m\u001b[38;5;124mYour Entered Numbber Is : \u001b[39m\u001b[38;5;124m'\u001b[39m,num)\n\u001b[0;32m      5\u001b[0m \u001b[38;5;28mprint\u001b[39m(\u001b[38;5;124m'\u001b[39m\u001b[38;5;124mgood Bye !\u001b[39m\u001b[38;5;124m'\u001b[39m)\n",
      "\u001b[1;31mValueError\u001b[0m: invalid literal for int() with base 10: ''"
     ]
    }
   ],
   "source": [
    "var = 1\n",
    "while var == 1:\n",
    "    num = int(input(\"Enter aa Number : \"))\n",
    "    print(\"Your Entered Numbber Is : \", num)\n",
    "print(\"good Bye !\")"
   ]
  },
  {
   "cell_type": "code",
   "execution_count": null,
   "id": "bf1023a9",
   "metadata": {},
   "outputs": [
    {
     "name": "stdout",
     "output_type": "stream",
     "text": [
      "0  is lesss than 5\n",
      "1  is lesss than 5\n",
      "2  is lesss than 5\n",
      "3  is lesss than 5\n",
      "4  is lesss than 5\n",
      "5  Is not less an 5\n"
     ]
    }
   ],
   "source": [
    "count = 0\n",
    "while count < 5:\n",
    "    print(count, \" is lesss than 5\")\n",
    "    count += 1\n",
    "else:\n",
    "    print(count, \" Is not less an 5\")"
   ]
  },
  {
   "cell_type": "code",
   "execution_count": 6,
   "id": "2b1855b0",
   "metadata": {},
   "outputs": [
    {
     "data": {
      "text/plain": [
       "range(0, 5)"
      ]
     },
     "execution_count": 6,
     "metadata": {},
     "output_type": "execute_result"
    }
   ],
   "source": [
    "range(5)"
   ]
  },
  {
   "cell_type": "code",
   "execution_count": 7,
   "id": "6c8d9908",
   "metadata": {},
   "outputs": [
    {
     "data": {
      "text/plain": [
       "[0, 1, 2, 3, 4]"
      ]
     },
     "execution_count": 7,
     "metadata": {},
     "output_type": "execute_result"
    }
   ],
   "source": [
    "list(range(5))"
   ]
  },
  {
   "cell_type": "code",
   "execution_count": 8,
   "id": "de62063d",
   "metadata": {},
   "outputs": [
    {
     "name": "stdout",
     "output_type": "stream",
     "text": [
      "0\n",
      "1\n",
      "2\n",
      "3\n",
      "4\n"
     ]
    }
   ],
   "source": [
    "for var in list(range(5)):\n",
    "    print(var)"
   ]
  },
  {
   "cell_type": "code",
   "execution_count": null,
   "id": "d166d05a",
   "metadata": {},
   "outputs": [
    {
     "name": "stdout",
     "output_type": "stream",
     "text": [
      "p\n",
      "y\n",
      "t\n",
      "h\n",
      "o\n",
      "n\n"
     ]
    }
   ],
   "source": [
    "for letter in \"python\":\n",
    "    print(letter)"
   ]
  },
  {
   "cell_type": "code",
   "execution_count": null,
   "id": "66b19cf9",
   "metadata": {},
   "outputs": [
    {
     "name": "stdout",
     "output_type": "stream",
     "text": [
      "banana\n",
      "python\n",
      "mango\n",
      "apple\n"
     ]
    }
   ],
   "source": [
    "fruits = [\"banana\", \"python\", \"mango\", \"apple\"]\n",
    "for i in fruits:\n",
    "    print(i)"
   ]
  },
  {
   "cell_type": "code",
   "execution_count": null,
   "id": "e60f190e",
   "metadata": {},
   "outputs": [
    {
     "name": "stdout",
     "output_type": "stream",
     "text": [
      "current fruits :  banana\n",
      "current fruits :  python\n",
      "current fruits :  mango\n",
      "current fruits :  apple\n"
     ]
    }
   ],
   "source": [
    "fruits = [\"banana\", \"python\", \"mango\", \"apple\"]\n",
    "for i in range(len(fruits)):\n",
    "    print(\"current fruits : \", fruits[i])"
   ]
  },
  {
   "cell_type": "code",
   "execution_count": null,
   "id": "31c9ed32",
   "metadata": {},
   "outputs": [
    {
     "name": "stdout",
     "output_type": "stream",
     "text": [
      "The list doesnot  contain an even number\n"
     ]
    }
   ],
   "source": [
    "nums = [12, 2, 3, 2, 3, 4543, 44, 33, 22, 44, 55, 45, 3, 45, 3, 4]\n",
    "for n in nums:\n",
    "    if i % 2 == 0:\n",
    "        print(\"This lisst contains an evnnumber \")\n",
    "        break\n",
    "else:\n",
    "    print(\"The list doesnot  contain an even number\")"
   ]
  },
  {
   "cell_type": "code",
   "execution_count": 2,
   "id": "4127c057",
   "metadata": {},
   "outputs": [
    {
     "name": "stdout",
     "output_type": "stream",
     "text": [
      "1 2 3 4 5 6 7 8 9 10 \n",
      "2 4 6 8 10 12 14 16 18 20 \n",
      "3 6 9 12 15 18 21 24 27 30 \n",
      "4 8 12 16 20 24 28 32 36 40 \n",
      "5 10 15 20 25 30 35 40 45 50 \n",
      "6 12 18 24 30 36 42 48 54 60 \n",
      "7 14 21 28 35 42 49 56 63 70 \n",
      "8 16 24 32 40 48 56 64 72 80 \n",
      "9 18 27 36 45 54 63 72 81 90 \n",
      "10 20 30 40 50 60 70 80 90 100 \n"
     ]
    }
   ],
   "source": [
    "for i in range(1, 11):\n",
    "    for j in range(1, 11):\n",
    "        k = i * j\n",
    "        print(k, end=\" \")\n",
    "    print()"
   ]
  },
  {
   "cell_type": "code",
   "execution_count": null,
   "id": "1a755d53",
   "metadata": {},
   "outputs": [
    {
     "name": "stdout",
     "output_type": "stream",
     "text": [
      "current letter is : P\n",
      "current letter is : y\n",
      "current letter is : t\n",
      "current letter vaalue :  10\n",
      "current letter vaalue :  9\n",
      "current letter vaalue :  8\n",
      "current letter vaalue :  7\n",
      "current letter vaalue :  6\n",
      "good bye\n"
     ]
    }
   ],
   "source": [
    "for letter in \"Python\":\n",
    "    if letter == \"h\":\n",
    "        break\n",
    "    print(\"current letter is :\", letter)\n",
    "var = 10\n",
    "while var > 0:\n",
    "    print(\"current letter vaalue : \", var)\n",
    "    var -= 1\n",
    "    if var == 5:\n",
    "        break\n",
    "print(\"good bye\")"
   ]
  },
  {
   "cell_type": "code",
   "execution_count": null,
   "id": "f004a6e8",
   "metadata": {},
   "outputs": [
    {
     "name": "stdout",
     "output_type": "stream",
     "text": [
      "Your number not  found in list  !\n"
     ]
    }
   ],
   "source": [
    "num = int(input(\"Enter aany nnumber : \"))\n",
    "nums = [11, 22, 33, 444, 55, 66, 77, 88, 99, 1100]\n",
    "for nu in nums:\n",
    "    if nu == num:\n",
    "        print(\"Your Number found in list\")\n",
    "        break\n",
    "else:\n",
    "    print(\"Your number not  found in list  !\")"
   ]
  },
  {
   "cell_type": "code",
   "execution_count": 7,
   "id": "4b315354",
   "metadata": {},
   "outputs": [
    {
     "name": "stdout",
     "output_type": "stream",
     "text": [
      "current letter is : P\n",
      "current letter is : y\n",
      "current letter is : t\n",
      "current letter is : o\n",
      "current letter is : n\n",
      "current letter vaalue :  10\n",
      "current letter vaalue :  9\n",
      "current letter vaalue :  8\n",
      "current letter vaalue :  7\n",
      "current letter vaalue :  6\n",
      "current letter vaalue :  5\n",
      "current letter vaalue :  4\n",
      "current letter vaalue :  3\n",
      "current letter vaalue :  2\n",
      "current letter vaalue :  1\n",
      "good bye\n"
     ]
    }
   ],
   "source": [
    "for letter in \"Python\":\n",
    "    if letter == \"h\":\n",
    "        continue\n",
    "    print(\"current letter is :\", letter)\n",
    "var = 10\n",
    "while var > 0:\n",
    "    print(\"current letter vaalue : \", var)\n",
    "    var -= 1\n",
    "    if var == 5:\n",
    "        continue\n",
    "print(\"good bye\")"
   ]
  },
  {
   "cell_type": "code",
   "execution_count": null,
   "id": "150bdc84",
   "metadata": {},
   "outputs": [
    {
     "name": "stdout",
     "output_type": "stream",
     "text": [
      "current letter : P\n",
      "current letter : Y\n",
      "current letter : T\n",
      "This is pass block\n",
      "current letter : H\n",
      "current letter : O\n",
      "current letter : N\n",
      "current letter : N\n"
     ]
    }
   ],
   "source": [
    "for letter in \"PYTHONN\":\n",
    "    if letter == \"H\":\n",
    "        pass\n",
    "        print(\"This is pass block\")\n",
    "    print(\"current letter :\", letter)"
   ]
  },
  {
   "cell_type": "code",
   "execution_count": null,
   "id": "4e286af5",
   "metadata": {},
   "outputs": [
    {
     "name": "stdout",
     "output_type": "stream",
     "text": [
      "1\n",
      "2 3 4 5 "
     ]
    }
   ],
   "source": [
    "list = [1, 2, 3, 4, 5]\n",
    "it = iter(list)\n",
    "print(next(it))\n",
    "for x in it:\n",
    "    print(x, end=\" \")"
   ]
  },
  {
   "cell_type": "code",
   "execution_count": null,
   "id": "bfff44f9",
   "metadata": {},
   "outputs": [
    {
     "ename": "SystemExit",
     "evalue": "",
     "output_type": "error",
     "traceback": [
      "An exception has occurred, use %tb to see the full traceback.\n",
      "\u001b[1;31mSystemExit\u001b[0m\n"
     ]
    },
    {
     "name": "stderr",
     "output_type": "stream",
     "text": [
      "c:\\Users\\CHAW  D VASANT\\anaconda3\\Lib\\site-packages\\IPython\\core\\interactiveshell.py:3585: UserWarning: To exit: use 'exit', 'quit', or Ctrl-D.\n",
      "  warn(\"To exit: use 'exit', 'quit', or Ctrl-D.\", stacklevel=1)\n"
     ]
    }
   ],
   "source": [
    "import sys\n",
    "\n",
    "while True:\n",
    "    try:\n",
    "        print(next(it))\n",
    "    except StopIteration:\n",
    "        sys.exit()"
   ]
  },
  {
   "cell_type": "code",
   "execution_count": 1,
   "id": "47db048b",
   "metadata": {},
   "outputs": [
    {
     "name": "stdout",
     "output_type": "stream",
     "text": [
      "11\n"
     ]
    }
   ],
   "source": [
    "print(abs(-11))"
   ]
  },
  {
   "cell_type": "code",
   "execution_count": null,
   "id": "e9248234",
   "metadata": {},
   "outputs": [
    {
     "name": "stdout",
     "output_type": "stream",
     "text": [
      "-3\n",
      "-3\n",
      "-3\n",
      "4\n",
      "4\n"
     ]
    }
   ],
   "source": [
    "import math\n",
    "\n",
    "print(math.ceil(-3.3))\n",
    "\n",
    "\n",
    "print(math.ceil(-3.3000))\n",
    "\n",
    "\n",
    "print(math.ceil(-3.135))\n",
    "\n",
    "\n",
    "print(math.ceil(3.8))\n",
    "\n",
    "\n",
    "print(math.ceil(3.2))"
   ]
  },
  {
   "cell_type": "code",
   "execution_count": 5,
   "id": "ccca3742",
   "metadata": {},
   "outputs": [
    {
     "name": "stdout",
     "output_type": "stream",
     "text": [
      "2.718281828459045\n"
     ]
    }
   ],
   "source": [
    "print(math.exp(1))"
   ]
  },
  {
   "cell_type": "code",
   "execution_count": 11,
   "id": "0654d925",
   "metadata": {},
   "outputs": [
    {
     "name": "stdout",
     "output_type": "stream",
     "text": [
      "44.45\n",
      "44.45\n",
      "44.453243\n"
     ]
    }
   ],
   "source": [
    "print(math.fabs(-44.45))\n",
    "print(math.fabs(-44.4500))\n",
    "print(math.fabs(44.4532430000))"
   ]
  },
  {
   "cell_type": "code",
   "execution_count": 12,
   "id": "165bb544",
   "metadata": {},
   "outputs": [
    {
     "name": "stdout",
     "output_type": "stream",
     "text": [
      "5\n"
     ]
    }
   ],
   "source": [
    "print(math.floor(5.4))"
   ]
  },
  {
   "cell_type": "code",
   "execution_count": null,
   "id": "8a75221f",
   "metadata": {},
   "outputs": [
    {
     "name": "stdout",
     "output_type": "stream",
     "text": [
      "1.0986122886681098\n",
      "4.605170185988092\n",
      "0.47712125471966244\n",
      "0.0\n"
     ]
    }
   ],
   "source": [
    "import math\n",
    "\n",
    "print(math.log(3))\n",
    "\n",
    "\n",
    "print(math.log(100))\n",
    "\n",
    "\n",
    "print(math.log10(3))\n",
    "\n",
    "\n",
    "print(math.log2(1))"
   ]
  },
  {
   "cell_type": "code",
   "execution_count": null,
   "id": "4f47e73b",
   "metadata": {},
   "outputs": [
    {
     "name": "stdout",
     "output_type": "stream",
     "text": [
      "999\n",
      "11\n"
     ]
    }
   ],
   "source": [
    "lis = [11, 32, 43, 55, 33, 999, 88, 77]\n",
    "print(max(lis))\n",
    "print(min(lis))"
   ]
  },
  {
   "cell_type": "code",
   "execution_count": 10,
   "id": "688e4fb6",
   "metadata": {},
   "outputs": [
    {
     "name": "stdout",
     "output_type": "stream",
     "text": [
      "(0.0, 11.0)\n",
      "(0.0, 199.0)\n"
     ]
    }
   ],
   "source": [
    "print(math.modf(11))\n",
    "print(math.modf(199))"
   ]
  },
  {
   "cell_type": "code",
   "execution_count": null,
   "id": "45079e89",
   "metadata": {},
   "outputs": [
    {
     "name": "stdout",
     "output_type": "stream",
     "text": [
      "8.0\n"
     ]
    }
   ],
   "source": [
    "print(math.pow(2, 3))"
   ]
  },
  {
   "cell_type": "code",
   "execution_count": 12,
   "id": "c82803b3",
   "metadata": {},
   "outputs": [
    {
     "data": {
      "text/plain": [
       "2"
      ]
     },
     "execution_count": 12,
     "metadata": {},
     "output_type": "execute_result"
    }
   ],
   "source": [
    "round(2.3)"
   ]
  },
  {
   "cell_type": "code",
   "execution_count": 14,
   "id": "2764b6e0",
   "metadata": {},
   "outputs": [
    {
     "data": {
      "text/plain": [
       "4"
      ]
     },
     "execution_count": 14,
     "metadata": {},
     "output_type": "execute_result"
    }
   ],
   "source": [
    "round(4.5)"
   ]
  },
  {
   "cell_type": "code",
   "execution_count": 15,
   "id": "9c73b763",
   "metadata": {},
   "outputs": [
    {
     "data": {
      "text/plain": [
       "6"
      ]
     },
     "execution_count": 15,
     "metadata": {},
     "output_type": "execute_result"
    }
   ],
   "source": [
    "round(5.6)"
   ]
  },
  {
   "cell_type": "code",
   "execution_count": 16,
   "id": "44979cec",
   "metadata": {},
   "outputs": [
    {
     "data": {
      "text/plain": [
       "11.0"
      ]
     },
     "execution_count": 16,
     "metadata": {},
     "output_type": "execute_result"
    }
   ],
   "source": [
    "math.sqrt(121)"
   ]
  },
  {
   "cell_type": "code",
   "execution_count": null,
   "id": "16b4cfaf",
   "metadata": {},
   "outputs": [
    {
     "name": "stdout",
     "output_type": "stream",
     "text": [
      "5\n"
     ]
    }
   ],
   "source": [
    "import random\n",
    "\n",
    "lis = [1, 2, 3, 4, 5, 6]\n",
    "print(random.choice(lis))"
   ]
  },
  {
   "cell_type": "code",
   "execution_count": null,
   "id": "59bee3cb",
   "metadata": {},
   "outputs": [
    {
     "name": "stdout",
     "output_type": "stream",
     "text": [
      "[3]\n"
     ]
    }
   ],
   "source": [
    "import random\n",
    "\n",
    "lis = [1, 2, 3, 4, 5, 6]\n",
    "print(random.choices(lis))"
   ]
  },
  {
   "cell_type": "code",
   "execution_count": null,
   "id": "340b6391",
   "metadata": {},
   "outputs": [
    {
     "name": "stdout",
     "output_type": "stream",
     "text": [
      "7\n"
     ]
    }
   ],
   "source": [
    "print(random.randrange(1, 10, 2))"
   ]
  },
  {
   "cell_type": "code",
   "execution_count": 24,
   "id": "47967d03",
   "metadata": {},
   "outputs": [
    {
     "name": "stdout",
     "output_type": "stream",
     "text": [
      "0.8768266529899342\n"
     ]
    }
   ],
   "source": [
    "print(random.random())"
   ]
  },
  {
   "cell_type": "code",
   "execution_count": null,
   "id": "85aec974",
   "metadata": {},
   "outputs": [
    {
     "name": "stdout",
     "output_type": "stream",
     "text": [
      "random number with default seed 0.1286970710491533\n",
      "random number with int seed 0.5714025946899135\n",
      "random number with string seed 0.3537754404730722\n"
     ]
    }
   ],
   "source": [
    "random.seed()\n",
    "print(\"random number with default seed\", random.random())\n",
    "random.seed(10)\n",
    "print(\"random number with int seed\", random.random())\n",
    "random.seed(\"hello\", 2)\n",
    "print(\"random number with string seed\", random.random())"
   ]
  },
  {
   "cell_type": "code",
   "execution_count": null,
   "id": "780c7d3e",
   "metadata": {},
   "outputs": [
    {
     "name": "stdout",
     "output_type": "stream",
     "text": [
      "[2, 6, 3, 1, 4, 5]\n"
     ]
    }
   ],
   "source": [
    "lis = [1, 2, 3, 4, 5, 6]\n",
    "random.shuffle(lis)\n",
    "print(lis)"
   ]
  },
  {
   "cell_type": "code",
   "execution_count": null,
   "id": "9a965e9d",
   "metadata": {},
   "outputs": [
    {
     "name": "stdout",
     "output_type": "stream",
     "text": [
      "Random Float uniform(5, 10) :  7.118117212049173\n"
     ]
    }
   ],
   "source": [
    "print(\"Random Float uniform(5, 10) : \", random.uniform(5, 10))"
   ]
  },
  {
   "cell_type": "code",
   "execution_count": null,
   "id": "534cb90e",
   "metadata": {},
   "outputs": [
    {
     "name": "stdout",
     "output_type": "stream",
     "text": [
      "this is a long string that is made up of \n",
      "several lines and non-printable characters such as \n",
      "TAB ( \t ) and they will show up that way when displayed. \n",
      "NEWLINEs within the string, whether explicitly given like \n",
      "this within the brackets [ \n",
      " ], or just a NEWLINE within \n",
      "the variable assignment will also show up. \n",
      "\n"
     ]
    }
   ],
   "source": [
    "para_str = \"\"\"this is a long string that is made up of \n",
    "several lines and non-printable characters such as \n",
    "TAB ( \\t ) and they will show up that way when displayed. \n",
    "NEWLINEs within the string, whether explicitly given like \n",
    "this within the brackets [ \\n ], or just a NEWLINE within \n",
    "the variable assignment will also show up. \n",
    "\"\"\"\n",
    "print(para_str)"
   ]
  },
  {
   "cell_type": "code",
   "execution_count": 43,
   "id": "88d1f7c2",
   "metadata": {},
   "outputs": [
    {
     "data": {
      "text/plain": [
       "'This is a long string that is made up of \\nseveral lines and non-printable characters such as \\ntab ( \\t ) and they will show up that way when displayed. \\nnewlines within the string, whether explicitly given like \\nthis within the brackets [ \\n ], or just a newline within \\nthe variable assignment will also show up. \\n'"
      ]
     },
     "execution_count": 43,
     "metadata": {},
     "output_type": "execute_result"
    }
   ],
   "source": [
    "para_str.capitalize()"
   ]
  },
  {
   "cell_type": "code",
   "execution_count": null,
   "id": "80342719",
   "metadata": {},
   "outputs": [
    {
     "data": {
      "text/plain": [
       "19"
      ]
     },
     "execution_count": 44,
     "metadata": {},
     "output_type": "execute_result"
    }
   ],
   "source": [
    "para_str.count(\"a\")"
   ]
  },
  {
   "cell_type": "code",
   "execution_count": null,
   "id": "a37b92c8",
   "metadata": {},
   "outputs": [
    {
     "data": {
      "text/plain": [
       "2"
      ]
     },
     "execution_count": 48,
     "metadata": {},
     "output_type": "execute_result"
    }
   ],
   "source": [
    "para_str.count((\"a\"), 10, 40)"
   ]
  },
  {
   "cell_type": "code",
   "execution_count": null,
   "id": "eedfa123",
   "metadata": {},
   "outputs": [
    {
     "name": "stdout",
     "output_type": "stream",
     "text": [
      "True\n",
      "True\n",
      "False\n",
      "True\n"
     ]
    }
   ],
   "source": [
    "Str = \"this is string example....wow!!!\"\n",
    "suffix = \"!!\"\n",
    "print(Str.endswith(suffix))\n",
    "print(Str.endswith(suffix, 20))\n",
    "suffix = \"exam\"\n",
    "print(Str.endswith(suffix))\n",
    "print(Str.endswith(suffix, 0, 19))"
   ]
  },
  {
   "cell_type": "code",
   "execution_count": null,
   "id": "76b7c57e",
   "metadata": {},
   "outputs": [
    {
     "data": {
      "text/plain": [
       "0"
      ]
     },
     "execution_count": 57,
     "metadata": {},
     "output_type": "execute_result"
    }
   ],
   "source": [
    "para_str.find(\"this\")"
   ]
  },
  {
   "cell_type": "code",
   "execution_count": null,
   "id": "3f01eb87",
   "metadata": {},
   "outputs": [
    {
     "data": {
      "text/plain": [
       "35"
      ]
     },
     "execution_count": 58,
     "metadata": {},
     "output_type": "execute_result"
    }
   ],
   "source": [
    "para_str.find(\"up\")"
   ]
  },
  {
   "cell_type": "code",
   "execution_count": null,
   "id": "8e67f29a",
   "metadata": {},
   "outputs": [
    {
     "data": {
      "text/plain": [
       "35"
      ]
     },
     "execution_count": 59,
     "metadata": {},
     "output_type": "execute_result"
    }
   ],
   "source": [
    "para_str.index(\"up\")"
   ]
  },
  {
   "cell_type": "code",
   "execution_count": 60,
   "id": "b519a3fc",
   "metadata": {},
   "outputs": [
    {
     "data": {
      "text/plain": [
       "False"
      ]
     },
     "execution_count": 60,
     "metadata": {},
     "output_type": "execute_result"
    }
   ],
   "source": [
    "para_str.isalnum()"
   ]
  },
  {
   "cell_type": "code",
   "execution_count": null,
   "id": "e1cdcb6f",
   "metadata": {},
   "outputs": [
    {
     "data": {
      "text/plain": [
       "False"
      ]
     },
     "execution_count": 61,
     "metadata": {},
     "output_type": "execute_result"
    }
   ],
   "source": [
    "strs = \"hello woeld 2u2 100\"\n",
    "strs.isalnum()"
   ]
  },
  {
   "cell_type": "code",
   "execution_count": null,
   "id": "0f91a9de",
   "metadata": {},
   "outputs": [
    {
     "data": {
      "text/plain": [
       "True"
      ]
     },
     "execution_count": 62,
     "metadata": {},
     "output_type": "execute_result"
    }
   ],
   "source": [
    "n = \"21\"\n",
    "n.isalnum()"
   ]
  },
  {
   "cell_type": "code",
   "execution_count": null,
   "id": "dd961aa4",
   "metadata": {},
   "outputs": [
    {
     "data": {
      "text/plain": [
       "True"
      ]
     },
     "execution_count": 64,
     "metadata": {},
     "output_type": "execute_result"
    }
   ],
   "source": [
    "sstr = \"this100\"\n",
    "sstr.isalnum()"
   ]
  },
  {
   "cell_type": "code",
   "execution_count": null,
   "id": "99bd886c",
   "metadata": {},
   "outputs": [
    {
     "data": {
      "text/plain": [
       "True"
      ]
     },
     "execution_count": 68,
     "metadata": {},
     "output_type": "execute_result"
    }
   ],
   "source": [
    "str = \"vasantaachaw\"\n",
    "str.isalpha()"
   ]
  },
  {
   "cell_type": "code",
   "execution_count": null,
   "id": "38401b30",
   "metadata": {},
   "outputs": [
    {
     "data": {
      "text/plain": [
       "False"
      ]
     },
     "execution_count": 69,
     "metadata": {},
     "output_type": "execute_result"
    }
   ],
   "source": [
    "str = \"vasant aachaw\"\n",
    "str.isalpha()"
   ]
  },
  {
   "cell_type": "code",
   "execution_count": null,
   "id": "f1931c9d",
   "metadata": {},
   "outputs": [
    {
     "data": {
      "text/plain": [
       "True"
      ]
     },
     "execution_count": 70,
     "metadata": {},
     "output_type": "execute_result"
    }
   ],
   "source": [
    "isd = \"98989\"\n",
    "isd.isdigit()"
   ]
  },
  {
   "cell_type": "code",
   "execution_count": null,
   "id": "439c787d",
   "metadata": {},
   "outputs": [
    {
     "data": {
      "text/plain": [
       "False"
      ]
     },
     "execution_count": 71,
     "metadata": {},
     "output_type": "execute_result"
    }
   ],
   "source": [
    "isd = \"98989t\"\n",
    "isd.isdigit()"
   ]
  },
  {
   "cell_type": "code",
   "execution_count": null,
   "id": "0de014e9",
   "metadata": {},
   "outputs": [
    {
     "data": {
      "text/plain": [
       "False"
      ]
     },
     "execution_count": 72,
     "metadata": {},
     "output_type": "execute_result"
    }
   ],
   "source": [
    "isd = \"98989 t\"\n",
    "isd.isdigit()"
   ]
  },
  {
   "cell_type": "code",
   "execution_count": null,
   "id": "8085d7f9",
   "metadata": {},
   "outputs": [
    {
     "data": {
      "text/plain": [
       "False"
      ]
     },
     "execution_count": 73,
     "metadata": {},
     "output_type": "execute_result"
    }
   ],
   "source": [
    "st = \"VASANTA CHAW\"\n",
    "st.islower()"
   ]
  },
  {
   "cell_type": "code",
   "execution_count": 74,
   "id": "50f3704b",
   "metadata": {},
   "outputs": [
    {
     "data": {
      "text/plain": [
       "True"
      ]
     },
     "execution_count": 74,
     "metadata": {},
     "output_type": "execute_result"
    }
   ],
   "source": [
    "st.isupper()"
   ]
  },
  {
   "cell_type": "code",
   "execution_count": 75,
   "id": "f18847a8",
   "metadata": {},
   "outputs": [
    {
     "data": {
      "text/plain": [
       "'vasanta chaw'"
      ]
     },
     "execution_count": 75,
     "metadata": {},
     "output_type": "execute_result"
    }
   ],
   "source": [
    "st.lower()"
   ]
  },
  {
   "cell_type": "code",
   "execution_count": 76,
   "id": "85fc7c99",
   "metadata": {},
   "outputs": [
    {
     "data": {
      "text/plain": [
       "'VASANTA CHAW'"
      ]
     },
     "execution_count": 76,
     "metadata": {},
     "output_type": "execute_result"
    }
   ],
   "source": [
    "st.upper()"
   ]
  },
  {
   "cell_type": "code",
   "execution_count": null,
   "id": "de018ec1",
   "metadata": {},
   "outputs": [
    {
     "name": "stdout",
     "output_type": "stream",
     "text": [
      "False\n",
      "True\n"
     ]
    }
   ],
   "source": [
    "str = \"this2016\"\n",
    "print(str.isnumeric())\n",
    "str = \"23443434\"\n",
    "print(str.isnumeric())"
   ]
  },
  {
   "cell_type": "code",
   "execution_count": null,
   "id": "4767185a",
   "metadata": {},
   "outputs": [
    {
     "name": "stdout",
     "output_type": "stream",
     "text": [
      "True\n",
      "False\n"
     ]
    }
   ],
   "source": [
    "str = \"      \"\n",
    "print(str.isspace())\n",
    "str = \"This is string example....wow!!!\"\n",
    "print(str.isspace())"
   ]
  },
  {
   "cell_type": "code",
   "execution_count": null,
   "id": "a90d3d20",
   "metadata": {},
   "outputs": [
    {
     "name": "stdout",
     "output_type": "stream",
     "text": [
      "True\n",
      "False\n"
     ]
    }
   ],
   "source": [
    "str = \"This Is String Example...Wow!!!\"\n",
    "print(str.istitle())\n",
    "str = \"This is string example....wow!!!\"\n",
    "print(str.istitle())"
   ]
  },
  {
   "cell_type": "code",
   "execution_count": null,
   "id": "634c5ecd",
   "metadata": {},
   "outputs": [
    {
     "data": {
      "text/plain": [
       "'1+33+55+6'"
      ]
     },
     "execution_count": 81,
     "metadata": {},
     "output_type": "execute_result"
    }
   ],
   "source": [
    "b = \"+\"\n",
    "a = [\"1\", \"33\", \"55\", \"6\"]\n",
    "b.join(a)"
   ]
  },
  {
   "cell_type": "code",
   "execution_count": 83,
   "id": "cbe61eea",
   "metadata": {},
   "outputs": [
    {
     "data": {
      "text/plain": [
       "4"
      ]
     },
     "execution_count": 83,
     "metadata": {},
     "output_type": "execute_result"
    }
   ],
   "source": [
    "len(a)"
   ]
  },
  {
   "cell_type": "code",
   "execution_count": null,
   "id": "94939713",
   "metadata": {},
   "outputs": [
    {
     "name": "stdout",
     "output_type": "stream",
     "text": [
      "this is string example....wow!!!\n",
      "this is string example....wow!!!*****\n"
     ]
    }
   ],
   "source": [
    "str = \" this is string example....wow!!!\"\n",
    "print(str.lstrip())\n",
    "str = \"*****this is string example....wow!!!*****\"\n",
    "print(str.lstrip(\"*\"))"
   ]
  },
  {
   "cell_type": "code",
   "execution_count": null,
   "id": "127e16fe",
   "metadata": {},
   "outputs": [
    {
     "data": {
      "text/plain": [
       "'v'"
      ]
     },
     "execution_count": 90,
     "metadata": {},
     "output_type": "execute_result"
    }
   ],
   "source": [
    "a = \"VVASANTAAv\"\n",
    "b = \"vasanta\"\n",
    "max(a)"
   ]
  },
  {
   "cell_type": "code",
   "execution_count": 89,
   "id": "9cab3966",
   "metadata": {},
   "outputs": [
    {
     "data": {
      "text/plain": [
       "'v'"
      ]
     },
     "execution_count": 89,
     "metadata": {},
     "output_type": "execute_result"
    }
   ],
   "source": [
    "max(b)"
   ]
  },
  {
   "cell_type": "code",
   "execution_count": null,
   "id": "fe0fde04",
   "metadata": {},
   "outputs": [
    {
     "name": "stdout",
     "output_type": "stream",
     "text": [
      "Min character: .\n",
      "Min character: A\n"
     ]
    }
   ],
   "source": [
    "str = \"www.tutorialspoint.com\"\n",
    "print(\"Min character: \" + min(str))\n",
    "str = \"TUTORIALSPOINT\"\n",
    "print(\"Min character: \" + min(str))"
   ]
  },
  {
   "cell_type": "code",
   "execution_count": null,
   "id": "5da2892f",
   "metadata": {},
   "outputs": [
    {
     "name": "stdout",
     "output_type": "stream",
     "text": [
      "thwas was string example....wow!!! thwas was really string\n",
      "thwas was string example....wow!!! thwas is really string\n"
     ]
    }
   ],
   "source": [
    "str = \"this is string example....wow!!! this is really string\"\n",
    "print(str.replace(\"is\", \"was\"))\n",
    "print(str.replace(\"is\", \"was\", 3))"
   ]
  },
  {
   "cell_type": "code",
   "execution_count": null,
   "id": "a706aa1d",
   "metadata": {},
   "outputs": [
    {
     "name": "stdout",
     "output_type": "stream",
     "text": [
      "['this', 'is', 'string', 'example....wow!!!']\n",
      "['th', 's is string example....wow!!!']\n",
      "['this is string example....', 'o', '!!!']\n"
     ]
    }
   ],
   "source": [
    "str = \"this is string example....wow!!!\"\n",
    "print(str.split())\n",
    "print(str.split(\"i\", 1))\n",
    "print(str.split(\"w\"))"
   ]
  },
  {
   "cell_type": "code",
   "execution_count": null,
   "id": "1a5379ab",
   "metadata": {},
   "outputs": [],
   "source": [
    "# lisst"
   ]
  },
  {
   "cell_type": "code",
   "execution_count": null,
   "id": "80dbddfe",
   "metadata": {},
   "outputs": [
    {
     "data": {
      "text/plain": [
       "'physics'"
      ]
     },
     "execution_count": 1,
     "metadata": {},
     "output_type": "execute_result"
    }
   ],
   "source": [
    "list1 = [\"physics\", \"chemistry\", 1997, 2000]\n",
    "list2 = [1, 2, 3, 4, 5]\n",
    "list3 = [\"a\", \"b\", \"c\", \"d\"]\n",
    "list1[0]"
   ]
  },
  {
   "cell_type": "code",
   "execution_count": 2,
   "id": "f8b33456",
   "metadata": {},
   "outputs": [
    {
     "data": {
      "text/plain": [
       "['chemistry', 1997]"
      ]
     },
     "execution_count": 2,
     "metadata": {},
     "output_type": "execute_result"
    }
   ],
   "source": [
    "list1[1:3]"
   ]
  },
  {
   "cell_type": "code",
   "execution_count": null,
   "id": "dc2f1655",
   "metadata": {},
   "outputs": [],
   "source": [
    "list1[2] = 1212"
   ]
  },
  {
   "cell_type": "code",
   "execution_count": 4,
   "id": "aeb66d59",
   "metadata": {},
   "outputs": [
    {
     "data": {
      "text/plain": [
       "['physics', 'chemistry', 1212, 2000]"
      ]
     },
     "execution_count": 4,
     "metadata": {},
     "output_type": "execute_result"
    }
   ],
   "source": [
    "list1"
   ]
  },
  {
   "cell_type": "code",
   "execution_count": 5,
   "id": "05df5ce0",
   "metadata": {},
   "outputs": [],
   "source": [
    "del list1[2]"
   ]
  },
  {
   "cell_type": "code",
   "execution_count": 6,
   "id": "7db44d4a",
   "metadata": {},
   "outputs": [
    {
     "data": {
      "text/plain": [
       "['physics', 'chemistry', 2000]"
      ]
     },
     "execution_count": 6,
     "metadata": {},
     "output_type": "execute_result"
    }
   ],
   "source": [
    "list1"
   ]
  },
  {
   "cell_type": "code",
   "execution_count": 8,
   "id": "59930a16",
   "metadata": {},
   "outputs": [
    {
     "data": {
      "text/plain": [
       "3"
      ]
     },
     "execution_count": 8,
     "metadata": {},
     "output_type": "execute_result"
    }
   ],
   "source": [
    "len(list1)"
   ]
  },
  {
   "cell_type": "code",
   "execution_count": null,
   "id": "bee0ad60",
   "metadata": {},
   "outputs": [],
   "source": [
    "lis = list(range(len(list1)))"
   ]
  },
  {
   "cell_type": "code",
   "execution_count": 11,
   "id": "64422881",
   "metadata": {},
   "outputs": [
    {
     "data": {
      "text/plain": [
       "[0, 1, 2]"
      ]
     },
     "execution_count": 11,
     "metadata": {},
     "output_type": "execute_result"
    }
   ],
   "source": [
    "lis"
   ]
  },
  {
   "cell_type": "code",
   "execution_count": 13,
   "id": "58c13ab3",
   "metadata": {},
   "outputs": [
    {
     "data": {
      "text/plain": [
       "'d'"
      ]
     },
     "execution_count": 13,
     "metadata": {},
     "output_type": "execute_result"
    }
   ],
   "source": [
    "max(list3)"
   ]
  },
  {
   "cell_type": "code",
   "execution_count": null,
   "id": "71865624",
   "metadata": {},
   "outputs": [
    {
     "name": "stdout",
     "output_type": "stream",
     "text": [
      "[123, 'wer', 'java', 'python']\n"
     ]
    }
   ],
   "source": [
    "atuple = (123, \"wer\", \"java\", \"python\")\n",
    "lista = list(atuple)\n",
    "print(lista)"
   ]
  },
  {
   "cell_type": "code",
   "execution_count": null,
   "id": "5133b6a6",
   "metadata": {},
   "outputs": [
    {
     "data": {
      "text/plain": [
       "['v', 'a', 's', 'a', 'n', 't', 'a', ' ', 'c', 'h', 'a', 'w']"
      ]
     },
     "execution_count": 15,
     "metadata": {},
     "output_type": "execute_result"
    }
   ],
   "source": [
    "str = \"vasanta chaw\"\n",
    "str = list(str)\n",
    "str"
   ]
  },
  {
   "cell_type": "code",
   "execution_count": 16,
   "id": "1ea17d7a",
   "metadata": {},
   "outputs": [
    {
     "data": {
      "text/plain": [
       "['physics',\n",
       " 'chemistry',\n",
       " 2000,\n",
       " ['v', 'a', 's', 'a', 'n', 't', 'a', ' ', 'c', 'h', 'a', 'w']]"
      ]
     },
     "execution_count": 16,
     "metadata": {},
     "output_type": "execute_result"
    }
   ],
   "source": [
    "list1.append(str)\n",
    "list1"
   ]
  },
  {
   "cell_type": "code",
   "execution_count": null,
   "id": "8ed3b3b7",
   "metadata": {},
   "outputs": [
    {
     "data": {
      "text/plain": [
       "['physics',\n",
       " 'chemistry',\n",
       " 2000,\n",
       " ['v', 'a', 's', 'a', 'n', 't', 'a', ' ', 'c', 'h', 'a', 'w'],\n",
       " 'chaw0',\n",
       " 'chaw0']"
      ]
     },
     "execution_count": 19,
     "metadata": {},
     "output_type": "execute_result"
    }
   ],
   "source": [
    "l = \"chaw0\"\n",
    "list1.append(l)\n",
    "list1"
   ]
  },
  {
   "cell_type": "code",
   "execution_count": null,
   "id": "9e2bfd8a",
   "metadata": {},
   "outputs": [
    {
     "data": {
      "text/plain": [
       "2"
      ]
     },
     "execution_count": 21,
     "metadata": {},
     "output_type": "execute_result"
    }
   ],
   "source": [
    "list1.count(\"chaw0\")"
   ]
  },
  {
   "cell_type": "code",
   "execution_count": null,
   "id": "0ae2a91d",
   "metadata": {},
   "outputs": [],
   "source": [
    "num = list(range(6))\n",
    "list1.extend(num)"
   ]
  },
  {
   "cell_type": "code",
   "execution_count": 23,
   "id": "9fe2d535",
   "metadata": {},
   "outputs": [
    {
     "data": {
      "text/plain": [
       "['physics',\n",
       " 'chemistry',\n",
       " 2000,\n",
       " ['v', 'a', 's', 'a', 'n', 't', 'a', ' ', 'c', 'h', 'a', 'w'],\n",
       " 'chaw0',\n",
       " 'chaw0',\n",
       " 0,\n",
       " 1,\n",
       " 2,\n",
       " 3,\n",
       " 4,\n",
       " 5]"
      ]
     },
     "execution_count": 23,
     "metadata": {},
     "output_type": "execute_result"
    }
   ],
   "source": [
    "list1"
   ]
  },
  {
   "cell_type": "code",
   "execution_count": 25,
   "id": "538e0c02",
   "metadata": {},
   "outputs": [
    {
     "name": "stdout",
     "output_type": "stream",
     "text": [
      "7\n"
     ]
    }
   ],
   "source": [
    "print(list1.index(1))"
   ]
  },
  {
   "cell_type": "code",
   "execution_count": null,
   "id": "713aeb33",
   "metadata": {},
   "outputs": [
    {
     "data": {
      "text/plain": [
       "['physics',\n",
       " 'chemistry',\n",
       " 'chawbasanta',\n",
       " 'chawbasanta',\n",
       " 2000,\n",
       " ['v', 'a', 's', 'a', 'n', 't', 'a', ' ', 'c', 'h', 'a', 'w'],\n",
       " 'chaw0',\n",
       " 'chaw0',\n",
       " 0,\n",
       " 1,\n",
       " 2,\n",
       " 3,\n",
       " 4,\n",
       " 5]"
      ]
     },
     "execution_count": 27,
     "metadata": {},
     "output_type": "execute_result"
    }
   ],
   "source": [
    "list1.insert(2, \"chawbasanta\")\n",
    "list1"
   ]
  },
  {
   "cell_type": "code",
   "execution_count": 28,
   "id": "00920b37",
   "metadata": {},
   "outputs": [
    {
     "data": {
      "text/plain": [
       "5"
      ]
     },
     "execution_count": 28,
     "metadata": {},
     "output_type": "execute_result"
    }
   ],
   "source": [
    "list1.pop()"
   ]
  },
  {
   "cell_type": "code",
   "execution_count": 29,
   "id": "12c4de6c",
   "metadata": {},
   "outputs": [
    {
     "data": {
      "text/plain": [
       "['physics',\n",
       " 'chemistry',\n",
       " 'chawbasanta',\n",
       " 'chawbasanta',\n",
       " 2000,\n",
       " ['v', 'a', 's', 'a', 'n', 't', 'a', ' ', 'c', 'h', 'a', 'w'],\n",
       " 'chaw0',\n",
       " 'chaw0',\n",
       " 0,\n",
       " 1,\n",
       " 2,\n",
       " 3,\n",
       " 4]"
      ]
     },
     "execution_count": 29,
     "metadata": {},
     "output_type": "execute_result"
    }
   ],
   "source": [
    "list1"
   ]
  },
  {
   "cell_type": "code",
   "execution_count": null,
   "id": "e1f75ac1",
   "metadata": {},
   "outputs": [
    {
     "data": {
      "text/plain": [
       "['physics',\n",
       " 'chemistry',\n",
       " 2000,\n",
       " ['v', 'a', 's', 'a', 'n', 't', 'a', ' ', 'c', 'h', 'a', 'w'],\n",
       " 'chaw0',\n",
       " 'chaw0',\n",
       " 0,\n",
       " 1,\n",
       " 2,\n",
       " 3,\n",
       " 4]"
      ]
     },
     "execution_count": 31,
     "metadata": {},
     "output_type": "execute_result"
    }
   ],
   "source": [
    "list1.remove(\"chawbasanta\")\n",
    "list1"
   ]
  },
  {
   "cell_type": "code",
   "execution_count": 32,
   "id": "68c2e95b",
   "metadata": {},
   "outputs": [],
   "source": [
    "list1.reverse()"
   ]
  },
  {
   "cell_type": "code",
   "execution_count": 33,
   "id": "963cf988",
   "metadata": {},
   "outputs": [
    {
     "data": {
      "text/plain": [
       "[4,\n",
       " 3,\n",
       " 2,\n",
       " 1,\n",
       " 0,\n",
       " 'chaw0',\n",
       " 'chaw0',\n",
       " ['v', 'a', 's', 'a', 'n', 't', 'a', ' ', 'c', 'h', 'a', 'w'],\n",
       " 2000,\n",
       " 'chemistry',\n",
       " 'physics']"
      ]
     },
     "execution_count": 33,
     "metadata": {},
     "output_type": "execute_result"
    }
   ],
   "source": [
    "list1"
   ]
  },
  {
   "cell_type": "code",
   "execution_count": 37,
   "id": "cfedbf54",
   "metadata": {},
   "outputs": [
    {
     "data": {
      "text/plain": [
       "[1, 2, 3, 4, 5]"
      ]
     },
     "execution_count": 37,
     "metadata": {},
     "output_type": "execute_result"
    }
   ],
   "source": [
    "list2.sort()\n",
    "list2"
   ]
  },
  {
   "cell_type": "code",
   "execution_count": null,
   "id": "2ea5d702",
   "metadata": {},
   "outputs": [],
   "source": [
    "tup1 = (\"physics\", \"chemistry\", 1997, 2000)\n",
    "tup2 = (1, 2, 3, 4, 5)\n",
    "tup3 = \"a\", \"b\", \"c\", \"d\""
   ]
  },
  {
   "cell_type": "code",
   "execution_count": null,
   "id": "a81b3ac2",
   "metadata": {},
   "outputs": [
    {
     "name": "stdout",
     "output_type": "stream",
     "text": [
      "tup1[0]:  physics\n",
      "tup2[1:5]:  (2, 3, 4, 5)\n"
     ]
    }
   ],
   "source": [
    "tup1 = (\"physics\", \"chemistry\", 1997, 2000)\n",
    "tup2 = (1, 2, 3, 4, 5, 6, 7)\n",
    "print(\"tup1[0]: \", tup1[0])\n",
    "print(\"tup2[1:5]: \", tup2[1:5])"
   ]
  },
  {
   "cell_type": "code",
   "execution_count": null,
   "id": "2daecfa8",
   "metadata": {},
   "outputs": [
    {
     "name": "stdout",
     "output_type": "stream",
     "text": [
      "(12, 34.56, 'abc', 'xyz')\n"
     ]
    }
   ],
   "source": [
    "tup1 = (12, 34.56)\n",
    "tup2 = (\"abc\", \"xyz\")\n",
    "\n",
    "# Following action is not valid for tuples\n",
    "# tup1[0] = 100;\n",
    "\n",
    "# So let's create a new tuple as follows\n",
    "tup3 = tup1 + tup2\n",
    "print(tup3)"
   ]
  },
  {
   "cell_type": "code",
   "execution_count": null,
   "id": "4acc4bc8",
   "metadata": {},
   "outputs": [
    {
     "name": "stdout",
     "output_type": "stream",
     "text": [
      "('physics', 'chemistry', 1997, 2000)\n",
      "After deleting tup : \n"
     ]
    },
    {
     "ename": "NameError",
     "evalue": "name 'tup' is not defined",
     "output_type": "error",
     "traceback": [
      "\u001b[1;31m---------------------------------------------------------------------------\u001b[0m",
      "\u001b[1;31mNameError\u001b[0m                                 Traceback (most recent call last)",
      "Cell \u001b[1;32mIn[43], line 5\u001b[0m\n\u001b[0;32m      3\u001b[0m \u001b[38;5;28;01mdel\u001b[39;00m tup\n\u001b[0;32m      4\u001b[0m \u001b[38;5;28mprint\u001b[39m (\u001b[38;5;124m\"\u001b[39m\u001b[38;5;124mAfter deleting tup : \u001b[39m\u001b[38;5;124m\"\u001b[39m)\n\u001b[1;32m----> 5\u001b[0m \u001b[38;5;28mprint\u001b[39m (tup)\n",
      "\u001b[1;31mNameError\u001b[0m: name 'tup' is not defined"
     ]
    }
   ],
   "source": [
    "tup = (\"physics\", \"chemistry\", 1997, 2000)\n",
    "print(tup)\n",
    "del tup\n",
    "print(\"After deleting tup : \")\n",
    "print(tup)"
   ]
  },
  {
   "cell_type": "code",
   "execution_count": null,
   "id": "c457970d",
   "metadata": {},
   "outputs": [
    {
     "name": "stdout",
     "output_type": "stream",
     "text": [
      "First tuple length :  3\n",
      "Second tuple length :  2\n"
     ]
    }
   ],
   "source": [
    "tuple1, tuple2 = (123, \"xyz\", \"zara\"), (456, \"abc\")\n",
    "print(\"First tuple length : \", len(tuple1))\n",
    "print(\"Second tuple length : \", len(tuple2))"
   ]
  },
  {
   "cell_type": "code",
   "execution_count": null,
   "id": "ea5e1f60",
   "metadata": {},
   "outputs": [
    {
     "name": "stdout",
     "output_type": "stream",
     "text": [
      "Max value element :  phy\n",
      "Max value element :  700\n"
     ]
    }
   ],
   "source": [
    "tuple1, tuple2 = (\"maths\", \"che\", \"phy\", \"bio\"), (456, 700, 200)\n",
    "print(\"Max value element : \", max(tuple1))\n",
    "print(\"Max value element : \", max(tuple2))"
   ]
  },
  {
   "cell_type": "code",
   "execution_count": null,
   "id": "3007696c",
   "metadata": {},
   "outputs": [
    {
     "name": "stdout",
     "output_type": "stream",
     "text": [
      "min value element :  bio\n",
      "min value element :  200\n"
     ]
    }
   ],
   "source": [
    "tuple1, tuple2 = (\"maths\", \"che\", \"phy\", \"bio\"), (456, 700, 200)\n",
    "print(\"min value element : \", min(tuple1))\n",
    "print(\"min value element : \", min(tuple2))"
   ]
  },
  {
   "cell_type": "code",
   "execution_count": null,
   "id": "46331661",
   "metadata": {},
   "outputs": [
    {
     "name": "stdout",
     "output_type": "stream",
     "text": [
      "tuple elements :  ('maths', 'che', 'phy', 'bio')\n"
     ]
    }
   ],
   "source": [
    "list1 = [\"maths\", \"che\", \"phy\", \"bio\"]\n",
    "tuple1 = tuple(list1)\n",
    "print(\"tuple elements : \", tuple1)"
   ]
  },
  {
   "cell_type": "code",
   "execution_count": null,
   "id": "84a1a894",
   "metadata": {},
   "outputs": [],
   "source": [
    "# dictionary"
   ]
  },
  {
   "cell_type": "code",
   "execution_count": null,
   "id": "8715f040",
   "metadata": {},
   "outputs": [
    {
     "data": {
      "text/plain": [
       "'zara'"
      ]
     },
     "execution_count": 50,
     "metadata": {},
     "output_type": "execute_result"
    }
   ],
   "source": [
    "dict = {\"Name\": \"zara\", \"Age\": 224, \"class\": \"first\"}\n",
    "dict[\"Name\"]"
   ]
  },
  {
   "cell_type": "code",
   "execution_count": null,
   "id": "b30e4c13",
   "metadata": {},
   "outputs": [
    {
     "data": {
      "text/plain": [
       "224"
      ]
     },
     "execution_count": 51,
     "metadata": {},
     "output_type": "execute_result"
    }
   ],
   "source": [
    "dict[\"Age\"]"
   ]
  },
  {
   "cell_type": "code",
   "execution_count": null,
   "id": "cbdc7287",
   "metadata": {},
   "outputs": [
    {
     "data": {
      "text/plain": [
       "'BTS'"
      ]
     },
     "execution_count": 53,
     "metadata": {},
     "output_type": "execute_result"
    }
   ],
   "source": [
    "dict[\"class\"] = \"BTS\"\n",
    "dict[\"class\"]"
   ]
  },
  {
   "cell_type": "code",
   "execution_count": null,
   "id": "8576c68b",
   "metadata": {},
   "outputs": [
    {
     "data": {
      "text/plain": [
       "{'Name': 'zara', 'Age': 224, 'class': 'BTS'}"
      ]
     },
     "execution_count": 54,
     "metadata": {},
     "output_type": "execute_result"
    }
   ],
   "source": [
    "d = dict.copy()\n",
    "d"
   ]
  },
  {
   "cell_type": "code",
   "execution_count": 55,
   "id": "03bf959c",
   "metadata": {},
   "outputs": [],
   "source": [
    "d.clear()"
   ]
  },
  {
   "cell_type": "code",
   "execution_count": 56,
   "id": "89adb695",
   "metadata": {},
   "outputs": [
    {
     "data": {
      "text/plain": [
       "{}"
      ]
     },
     "execution_count": 56,
     "metadata": {},
     "output_type": "execute_result"
    }
   ],
   "source": [
    "d"
   ]
  },
  {
   "cell_type": "code",
   "execution_count": 57,
   "id": "aaf3ef17",
   "metadata": {},
   "outputs": [],
   "source": [
    "del d"
   ]
  },
  {
   "cell_type": "code",
   "execution_count": 58,
   "id": "cfc09987",
   "metadata": {},
   "outputs": [
    {
     "ename": "NameError",
     "evalue": "name 'd' is not defined",
     "output_type": "error",
     "traceback": [
      "\u001b[1;31m---------------------------------------------------------------------------\u001b[0m",
      "\u001b[1;31mNameError\u001b[0m                                 Traceback (most recent call last)",
      "Cell \u001b[1;32mIn[58], line 1\u001b[0m\n\u001b[1;32m----> 1\u001b[0m d\n",
      "\u001b[1;31mNameError\u001b[0m: name 'd' is not defined"
     ]
    }
   ],
   "source": [
    "d"
   ]
  },
  {
   "cell_type": "code",
   "execution_count": null,
   "id": "7df2ef36",
   "metadata": {},
   "outputs": [
    {
     "ename": "TypeError",
     "evalue": "'list' object is not callable",
     "output_type": "error",
     "traceback": [
      "\u001b[1;31m---------------------------------------------------------------------------\u001b[0m",
      "\u001b[1;31mTypeError\u001b[0m                                 Traceback (most recent call last)",
      "Cell \u001b[1;32mIn[60], line 3\u001b[0m\n\u001b[0;32m      1\u001b[0m seq \u001b[38;5;241m=\u001b[39m (\u001b[38;5;124m'\u001b[39m\u001b[38;5;124mname\u001b[39m\u001b[38;5;124m'\u001b[39m, \u001b[38;5;124m'\u001b[39m\u001b[38;5;124mage\u001b[39m\u001b[38;5;124m'\u001b[39m, \u001b[38;5;124m'\u001b[39m\u001b[38;5;124msex\u001b[39m\u001b[38;5;124m'\u001b[39m) \n\u001b[0;32m      2\u001b[0m \u001b[38;5;28mdict\u001b[39m \u001b[38;5;241m=\u001b[39m \u001b[38;5;28mdict\u001b[39m\u001b[38;5;241m.\u001b[39mfromkeys(seq) \n\u001b[1;32m----> 3\u001b[0m \u001b[38;5;28mprint\u001b[39m (\u001b[38;5;124m\"\u001b[39m\u001b[38;5;124mNew Dictionary : \u001b[39m\u001b[38;5;132;01m%s\u001b[39;00m\u001b[38;5;124m\"\u001b[39m , \u001b[38;5;28mstr\u001b[39m(\u001b[38;5;28mdict\u001b[39m)) \n\u001b[0;32m      4\u001b[0m \u001b[38;5;28mdict\u001b[39m \u001b[38;5;241m=\u001b[39m \u001b[38;5;28mdict\u001b[39m\u001b[38;5;241m.\u001b[39mfromkeys(seq, \u001b[38;5;241m10\u001b[39m) \n\u001b[0;32m      5\u001b[0m \u001b[38;5;28mprint\u001b[39m (\u001b[38;5;124m\"\u001b[39m\u001b[38;5;124mNew Dictionary : \u001b[39m\u001b[38;5;132;01m%s\u001b[39;00m\u001b[38;5;124m\"\u001b[39m , \u001b[38;5;28mstr\u001b[39m(\u001b[38;5;28mdict\u001b[39m))\n",
      "\u001b[1;31mTypeError\u001b[0m: 'list' object is not callable"
     ]
    }
   ],
   "source": [
    "seq = (\"name\", \"age\", \"sex\")\n",
    "dict = dict.fromkeys(seq)\n",
    "print(\"New Dictionary : %s\", str(dict))\n",
    "dict = dict.fromkeys(seq, 10)\n",
    "print(\"New Dictionary : %s\", str(dict))"
   ]
  },
  {
   "cell_type": "code",
   "execution_count": null,
   "id": "5fb02f20",
   "metadata": {},
   "outputs": [
    {
     "name": "stdout",
     "output_type": "stream",
     "text": [
      "Value : 27\n",
      "Value : NA\n"
     ]
    }
   ],
   "source": [
    "dict = {\"Name\": \"Zara\", \"Age\": 27}\n",
    "print(\"Value : %s\" % dict.get(\"Age\"))\n",
    "print(\"Value : %s\" % dict.get(\"Sex\", \"NA\"))"
   ]
  },
  {
   "cell_type": "code",
   "execution_count": null,
   "id": "4c9fe606",
   "metadata": {},
   "outputs": [
    {
     "name": "stdout",
     "output_type": "stream",
     "text": [
      "Value : dict_items([('Name', 'Zara'), ('Age', 7)])\n"
     ]
    }
   ],
   "source": [
    "dict = {\"Name\": \"Zara\", \"Age\": 7}\n",
    "print(\"Value : %s\" % dict.items())"
   ]
  },
  {
   "cell_type": "code",
   "execution_count": null,
   "id": "23c32e76",
   "metadata": {},
   "outputs": [
    {
     "name": "stdout",
     "output_type": "stream",
     "text": [
      "Value : dict_keys(['Name', 'Age'])\n"
     ]
    }
   ],
   "source": [
    "dict = {\"Name\": \"Zara\", \"Age\": 7}\n",
    "print(\"Value : %s\" % dict.keys())"
   ]
  },
  {
   "cell_type": "code",
   "execution_count": null,
   "id": "fb77d271",
   "metadata": {},
   "outputs": [
    {
     "name": "stdout",
     "output_type": "stream",
     "text": [
      "Value : 7\n",
      "Value : None\n",
      "{'Name': 'Zara', 'Age': 7, 'Sex': None}\n"
     ]
    }
   ],
   "source": [
    "dict = {\"Name\": \"Zara\", \"Age\": 7}\n",
    "print(\"Value : %s\" % dict.setdefault(\"Age\", None))\n",
    "print(\"Value : %s\" % dict.setdefault(\"Sex\", None))\n",
    "print(dict)"
   ]
  },
  {
   "cell_type": "code",
   "execution_count": null,
   "id": "fcaca571",
   "metadata": {},
   "outputs": [
    {
     "name": "stdout",
     "output_type": "stream",
     "text": [
      "updated dict :  {'Name': 'Zara', 'Age': 7, 'Sex': 'female'}\n"
     ]
    }
   ],
   "source": [
    "dict = {\"Name\": \"Zara\", \"Age\": 7}\n",
    "dict2 = {\"Sex\": \"female\"}\n",
    "dict.update(dict2)\n",
    "print(\"updated dict : \", dict)"
   ]
  },
  {
   "cell_type": "code",
   "execution_count": null,
   "id": "36170c1b",
   "metadata": {},
   "outputs": [],
   "source": [
    "# date and time"
   ]
  },
  {
   "cell_type": "code",
   "execution_count": null,
   "id": "92bc315f",
   "metadata": {},
   "outputs": [
    {
     "data": {
      "text/plain": [
       "1733309455.2375011"
      ]
     },
     "execution_count": 69,
     "metadata": {},
     "output_type": "execute_result"
    }
   ],
   "source": [
    "import time\n",
    "\n",
    "time.time()"
   ]
  },
  {
   "cell_type": "code",
   "execution_count": 70,
   "id": "f66c5e49",
   "metadata": {},
   "outputs": [
    {
     "data": {
      "text/plain": [
       "time.struct_time(tm_year=2024, tm_mon=12, tm_mday=4, tm_hour=16, tm_min=36, tm_sec=22, tm_wday=2, tm_yday=339, tm_isdst=0)"
      ]
     },
     "execution_count": 70,
     "metadata": {},
     "output_type": "execute_result"
    }
   ],
   "source": [
    "time.localtime()"
   ]
  },
  {
   "cell_type": "code",
   "execution_count": null,
   "id": "b8c15e6f",
   "metadata": {},
   "outputs": [
    {
     "name": "stdout",
     "output_type": "stream",
     "text": [
      "Local current time : Wed Dec  4 16:36:53 2024\n"
     ]
    }
   ],
   "source": [
    "localtime = time.asctime(time.localtime(time.time()))\n",
    "print(\"Local current time :\", localtime)"
   ]
  },
  {
   "cell_type": "code",
   "execution_count": null,
   "id": "7d62e61e",
   "metadata": {},
   "outputs": [
    {
     "name": "stdout",
     "output_type": "stream",
     "text": [
      "Here is the calendar:\n",
      "   February 2016\n",
      "Mo Tu We Th Fr Sa Su\n",
      " 1  2  3  4  5  6  7\n",
      " 8  9 10 11 12 13 14\n",
      "15 16 17 18 19 20 21\n",
      "22 23 24 25 26 27 28\n",
      "29\n",
      "\n"
     ]
    }
   ],
   "source": [
    "import calendar\n",
    "\n",
    "cal = calendar.month(2016, 2)\n",
    "\n",
    "\n",
    "print(\"Here is the calendar:\")\n",
    "\n",
    "\n",
    "print(cal)"
   ]
  },
  {
   "cell_type": "code",
   "execution_count": null,
   "id": "223028da",
   "metadata": {},
   "outputs": [
    {
     "name": "stdout",
     "output_type": "stream",
     "text": [
      "time.altzone :  -24300\n"
     ]
    }
   ],
   "source": [
    "print(\"time.altzone : \", time.altzone)"
   ]
  },
  {
   "cell_type": "code",
   "execution_count": null,
   "id": "c8db32a9",
   "metadata": {},
   "outputs": [
    {
     "name": "stdout",
     "output_type": "stream",
     "text": [
      "asctime :  Wed Dec  4 16:38:50 2024\n"
     ]
    }
   ],
   "source": [
    "t = time.localtime()\n",
    "print(\"asctime : \", time.asctime(t))"
   ]
  },
  {
   "cell_type": "code",
   "execution_count": null,
   "id": "f269e60c",
   "metadata": {},
   "outputs": [
    {
     "ename": "AttributeError",
     "evalue": "module 'time' has no attribute 'clock'",
     "output_type": "error",
     "traceback": [
      "\u001b[1;31m---------------------------------------------------------------------------\u001b[0m",
      "\u001b[1;31mAttributeError\u001b[0m                            Traceback (most recent call last)",
      "Cell \u001b[1;32mIn[76], line 5\u001b[0m\n\u001b[0;32m      3\u001b[0m     time\u001b[38;5;241m.\u001b[39msleep(\u001b[38;5;241m2.5\u001b[39m) \n\u001b[0;32m      4\u001b[0m \u001b[38;5;66;03m# measure process time \u001b[39;00m\n\u001b[1;32m----> 5\u001b[0m t0 \u001b[38;5;241m=\u001b[39m time\u001b[38;5;241m.\u001b[39mclock() \n\u001b[0;32m      6\u001b[0m procedure() \n\u001b[0;32m      7\u001b[0m \u001b[38;5;28mprint\u001b[39m (time\u001b[38;5;241m.\u001b[39mclock() \u001b[38;5;241m-\u001b[39m t0, \u001b[38;5;124m\"\u001b[39m\u001b[38;5;124mseconds process time\u001b[39m\u001b[38;5;124m\"\u001b[39m) \n",
      "\u001b[1;31mAttributeError\u001b[0m: module 'time' has no attribute 'clock'"
     ]
    }
   ],
   "source": [
    "import time\n",
    "\n",
    "\n",
    "def procedure():\n",
    "    time.sleep(2.5)\n",
    "\n",
    "\n",
    "# measure process time\n",
    "\n",
    "\n",
    "procedure()\n",
    "\n",
    "\n",
    "print(time.clock() - t0, \"seconds process time\")\n",
    "\n",
    "\n",
    "# measure wall t\n",
    "procedure()\n",
    "\n",
    "\n",
    "t0 = time.time()\n",
    "procedure()\n",
    "\n",
    "\n",
    "print(time.time() - t0, \"seconds wall time\")"
   ]
  },
  {
   "cell_type": "code",
   "execution_count": null,
   "id": "f4525980",
   "metadata": {},
   "outputs": [
    {
     "name": "stdout",
     "output_type": "stream",
     "text": [
      "ctime :  Wed Dec  4 16:39:58 2024\n"
     ]
    }
   ],
   "source": [
    "print(\"ctime : \", time.ctime())"
   ]
  },
  {
   "cell_type": "code",
   "execution_count": null,
   "id": "24aed553",
   "metadata": {},
   "outputs": [],
   "source": [
    "# function"
   ]
  },
  {
   "cell_type": "code",
   "execution_count": null,
   "id": "bede07a9",
   "metadata": {},
   "outputs": [
    {
     "name": "stdout",
     "output_type": "stream",
     "text": [
      "Hello World !\n"
     ]
    }
   ],
   "source": [
    "def message():\n",
    "    print(\"Hello World !\")\n",
    "\n",
    "\n",
    "message()"
   ]
  },
  {
   "cell_type": "code",
   "execution_count": null,
   "id": "1a1c036d",
   "metadata": {},
   "outputs": [
    {
     "name": "stdout",
     "output_type": "stream",
     "text": [
      "Hi Vasanta chaw\n"
     ]
    }
   ],
   "source": [
    "def show(dt):\n",
    "    print(dt)\n",
    "\n",
    "\n",
    "show(\"Hi Vasanta chaw\")"
   ]
  },
  {
   "cell_type": "code",
   "execution_count": null,
   "id": "7c6583e3",
   "metadata": {},
   "outputs": [
    {
     "name": "stdout",
     "output_type": "stream",
     "text": [
      "Values inside the function:  [1, 2, 3, 4]\n",
      "Values outside the function:  [10, 20, 30]\n"
     ]
    }
   ],
   "source": [
    "def changeme(mylist):\n",
    "    \"This changes a passed list into this function\"\n",
    "    mylist = [1, 2, 3, 4]  # This would assi new reference in mylist\n",
    "    print(\"Values inside the function: \", mylist)\n",
    "    return\n",
    "\n",
    "\n",
    "# Now you can call changeme function\n",
    "mylist = [10, 20, 30]\n",
    "changeme(mylist)\n",
    "print(\"Values outside the function: \", mylist)"
   ]
  },
  {
   "cell_type": "code",
   "execution_count": null,
   "id": "7e8d55cb",
   "metadata": {},
   "outputs": [
    {
     "name": "stdout",
     "output_type": "stream",
     "text": [
      "1\n",
      "()\n",
      "1\n",
      "(2, 3, 45)\n"
     ]
    }
   ],
   "source": [
    "def num(k=1, *kk):\n",
    "    print(k)\n",
    "    print(kk)\n",
    "\n",
    "\n",
    "num(1)\n",
    "num(1, 2, 3, 45)"
   ]
  },
  {
   "cell_type": "code",
   "execution_count": null,
   "id": "f4d46c59",
   "metadata": {},
   "outputs": [],
   "source": []
  },
  {
   "cell_type": "code",
   "execution_count": null,
   "id": "aa70a80c",
   "metadata": {},
   "outputs": [
    {
     "data": {
      "text/plain": [
       "3"
      ]
     },
     "execution_count": 85,
     "metadata": {},
     "output_type": "execute_result"
    }
   ],
   "source": [
    "sus = lambda a, b: a + b\n",
    "sus(1, 2)"
   ]
  },
  {
   "cell_type": "code",
   "execution_count": null,
   "id": "d29dd852",
   "metadata": {},
   "outputs": [
    {
     "data": {
      "text/plain": [
       "False"
      ]
     },
     "execution_count": 86,
     "metadata": {},
     "output_type": "execute_result"
    }
   ],
   "source": [
    "sus = lambda a, b: a > b\n",
    "sus(1, 2)"
   ]
  },
  {
   "cell_type": "code",
   "execution_count": null,
   "id": "29c20911",
   "metadata": {},
   "outputs": [
    {
     "name": "stdout",
     "output_type": "stream",
     "text": [
      "2000\n"
     ]
    },
    {
     "ename": "TypeError",
     "evalue": "AddMoney() missing 1 required positional argument: 'self'",
     "output_type": "error",
     "traceback": [
      "\u001b[1;31m---------------------------------------------------------------------------\u001b[0m",
      "\u001b[1;31mTypeError\u001b[0m                                 Traceback (most recent call last)",
      "Cell \u001b[1;32mIn[90], line 7\u001b[0m\n\u001b[0;32m      5\u001b[0m     \u001b[38;5;28mself\u001b[39m\u001b[38;5;241m.\u001b[39mMoney \u001b[38;5;241m=\u001b[39m \u001b[38;5;28mself\u001b[39m\u001b[38;5;241m.\u001b[39mMoney \u001b[38;5;241m+\u001b[39m \u001b[38;5;241m1\u001b[39m \n\u001b[0;32m      6\u001b[0m \u001b[38;5;28mprint\u001b[39m (Money) \n\u001b[1;32m----> 7\u001b[0m AddMoney() \n\u001b[0;32m      8\u001b[0m \u001b[38;5;28mprint\u001b[39m (Money)\n",
      "\u001b[1;31mTypeError\u001b[0m: AddMoney() missing 1 required positional argument: 'self'"
     ]
    }
   ],
   "source": [
    "Money = 2000\n",
    "\n",
    "\n",
    "def AddMoney(self):\n",
    "    # Uncomment the following line to fix the code:\n",
    "    # global Money\n",
    "    self.Money = self.Money + 1\n",
    "\n",
    "\n",
    "print(Money)\n",
    "\n",
    "\n",
    "AddMoney()\n",
    "\n",
    "\n",
    "print(Money)"
   ]
  },
  {
   "cell_type": "code",
   "execution_count": null,
   "id": "41fd1b83",
   "metadata": {},
   "outputs": [
    {
     "name": "stdout",
     "output_type": "stream",
     "text": [
      "['__doc__', '__loader__', '__name__', '__package__', '__spec__', 'acos', 'acosh', 'asin', 'asinh', 'atan', 'atan2', 'atanh', 'cbrt', 'ceil', 'comb', 'copysign', 'cos', 'cosh', 'degrees', 'dist', 'e', 'erf', 'erfc', 'exp', 'exp2', 'expm1', 'fabs', 'factorial', 'floor', 'fmod', 'frexp', 'fsum', 'gamma', 'gcd', 'hypot', 'inf', 'isclose', 'isfinite', 'isinf', 'isnan', 'isqrt', 'lcm', 'ldexp', 'lgamma', 'log', 'log10', 'log1p', 'log2', 'modf', 'nan', 'nextafter', 'perm', 'pi', 'pow', 'prod', 'radians', 'remainder', 'sin', 'sinh', 'sqrt', 'sumprod', 'tan', 'tanh', 'tau', 'trunc', 'ulp']\n"
     ]
    }
   ],
   "source": [
    "import math\n",
    "\n",
    "content = dir(math)\n",
    "\n",
    "\n",
    "print(content)"
   ]
  },
  {
   "cell_type": "code",
   "execution_count": null,
   "id": "22bda74e",
   "metadata": {},
   "outputs": [],
   "source": [
    "# ops"
   ]
  },
  {
   "cell_type": "code",
   "execution_count": null,
   "id": "5680f1a4",
   "metadata": {},
   "outputs": [
    {
     "name": "stdout",
     "output_type": "stream",
     "text": [
      "<__main__.Car object at 0x0000018D03324EC0>\n"
     ]
    }
   ],
   "source": [
    "class Car:\n",
    "    brand = None\n",
    "    model = None\n",
    "\n",
    "\n",
    "my_car = Car()\n",
    "print(my_car)"
   ]
  },
  {
   "cell_type": "code",
   "execution_count": null,
   "id": "68ae418c",
   "metadata": {},
   "outputs": [
    {
     "name": "stdout",
     "output_type": "stream",
     "text": [
      "Honda\n",
      "civic\n",
      "Tata\n",
      "Safari\n"
     ]
    }
   ],
   "source": [
    "class Car:\n",
    "    def __init__(self, brand, model):\n",
    "        self.brand = brand\n",
    "        self.model = model\n",
    "\n",
    "\n",
    "my_car = Car(\"Honda\", \"civic\")\n",
    "print(my_car.brand)\n",
    "print(my_car.model)\n",
    "my_new_car = Car(\"Tata\", \"Safari\")\n",
    "print(my_new_car.brand)\n",
    "print(my_new_car.model)"
   ]
  },
  {
   "cell_type": "code",
   "execution_count": null,
   "id": "dd8ba948",
   "metadata": {},
   "outputs": [
    {
     "ename": "TypeError",
     "evalue": "Car.__init__() takes 3 positional arguments but 4 were given",
     "output_type": "error",
     "traceback": [
      "\u001b[1;31m---------------------------------------------------------------------------\u001b[0m",
      "\u001b[1;31mTypeError\u001b[0m                                 Traceback (most recent call last)",
      "Cell \u001b[1;32mIn[47], line 15\u001b[0m\n\u001b[0;32m     12\u001b[0m         \u001b[38;5;28msuper\u001b[39m()\u001b[38;5;241m.\u001b[39m\u001b[38;5;21m__init__\u001b[39m(brand, model)\n\u001b[0;32m     13\u001b[0m         \u001b[38;5;28mself\u001b[39m\u001b[38;5;241m.\u001b[39mbattery_size \u001b[38;5;241m=\u001b[39m battery_size\n\u001b[1;32m---> 15\u001b[0m my \u001b[38;5;241m=\u001b[39m ElectricCar(\u001b[38;5;124m\"\u001b[39m\u001b[38;5;124mTesla\u001b[39m\u001b[38;5;124m\"\u001b[39m, \u001b[38;5;124m\"\u001b[39m\u001b[38;5;124mModel s\u001b[39m\u001b[38;5;124m\"\u001b[39m, \u001b[38;5;124m\"\u001b[39m\u001b[38;5;124m85kwh\u001b[39m\u001b[38;5;124m\"\u001b[39m)\n\u001b[0;32m     16\u001b[0m \u001b[38;5;28mprint\u001b[39m(my\u001b[38;5;241m.\u001b[39mbrand)\n",
      "\u001b[1;31mTypeError\u001b[0m: Car.__init__() takes 3 positional arguments but 4 were given"
     ]
    }
   ],
   "source": [
    "class Car:\n",
    "    def __init__(self, brand, model):\n",
    "        self.brand = brand\n",
    "        self.model = model\n",
    "\n",
    "    def full_name(self):\n",
    "        return f\"{self.brand} {self.model}\"\n",
    "\n",
    "\n",
    "class ElectricCar(Car):\n",
    "    def ___init___(self, brand, model, battery_size):\n",
    "        super().__init__(brand, model)\n",
    "        self.battery_size = battery_size\n",
    "\n",
    "\n",
    "my = ElectricCar(\"Tesla\", \"Model s\", \"85kwh\")\n",
    "print(my.brand)\n",
    "\n",
    "# my_car = Car(\"Honda\", \"civic\")\n",
    "# print(my_car.full_name())\n",
    "# my_new_car = Car(\"Tata\", \"Safari\")\n",
    "# print(my_new_car.full_name())"
   ]
  },
  {
   "cell_type": "code",
   "execution_count": 14,
   "id": "445faf63",
   "metadata": {},
   "outputs": [],
   "source": [
    "# Inheritance"
   ]
  },
  {
   "cell_type": "code",
   "execution_count": null,
   "id": "fd806fa4",
   "metadata": {},
   "outputs": [
    {
     "name": "stdout",
     "output_type": "stream",
     "text": [
      "John 25\n"
     ]
    }
   ],
   "source": [
    "class Parent:\n",
    "    def __init__(self, name):\n",
    "        self.name = name\n",
    "\n",
    "\n",
    "class Child(Parent):\n",
    "    def __init__(self, name, age):\n",
    "        super().__init__(name)  # Call Parent's constructor\n",
    "        self.age = age\n",
    "\n",
    "\n",
    "c = Child(\"John\", 25)\n",
    "print(c.name, c.age)  # Output: John 25"
   ]
  },
  {
   "cell_type": "code",
   "execution_count": null,
   "id": "1f8083ac",
   "metadata": {},
   "outputs": [],
   "source": [
    "class PaarentClass:\n",
    "    pass\n",
    "\n",
    "\n",
    "class ChildClass(PaarentClass):\n",
    "    pass"
   ]
  },
  {
   "cell_type": "code",
   "execution_count": null,
   "id": "226fd8ee",
   "metadata": {},
   "outputs": [
    {
     "name": "stdout",
     "output_type": "stream",
     "text": [
      "dog barks !\n"
     ]
    }
   ],
   "source": [
    "class Animal:\n",
    "    def sound(self):\n",
    "        print((\"aAnimal makes a sound\"))\n",
    "\n",
    "\n",
    "class Dog(Animal):\n",
    "\n",
    "    def sound(self):\n",
    "        print(\"dog barks !\")\n",
    "\n",
    "\n",
    "d = Dog()\n",
    "d.sound()"
   ]
  },
  {
   "cell_type": "code",
   "execution_count": null,
   "id": "0f7325c6",
   "metadata": {},
   "outputs": [
    {
     "name": "stdout",
     "output_type": "stream",
     "text": [
      "Method from class A\n",
      "method from claass B\n"
     ]
    }
   ],
   "source": [
    "class A:\n",
    "    def method_a(self):\n",
    "        print(\"Method from class A\")\n",
    "\n",
    "\n",
    "class B:\n",
    "\n",
    "    def method_b(self):\n",
    "        print(\"method from claass B\")\n",
    "\n",
    "\n",
    "class C(A, B):\n",
    "    pass\n",
    "\n",
    "\n",
    "obj = C()\n",
    "obj.method_a()\n",
    "obj.method_b()"
   ]
  },
  {
   "cell_type": "code",
   "execution_count": null,
   "id": "23c5fef6",
   "metadata": {},
   "outputs": [
    {
     "name": "stdout",
     "output_type": "stream",
     "text": [
      "Method from class A\n",
      "method from claass B\n"
     ]
    }
   ],
   "source": [
    "class A:\n",
    "    def method_a(self):\n",
    "        print(\"Method from class A\")\n",
    "\n",
    "\n",
    "class B(A):\n",
    "\n",
    "    def method_b(self):\n",
    "        print(\"method from claass B\")\n",
    "\n",
    "\n",
    "class C(B):\n",
    "    pass\n",
    "\n",
    "\n",
    "obj = C()\n",
    "obj.method_a()\n",
    "obj.method_b()"
   ]
  },
  {
   "cell_type": "code",
   "execution_count": null,
   "id": "a966f0a2",
   "metadata": {},
   "outputs": [
    {
     "name": "stdout",
     "output_type": "stream",
     "text": [
      "John 21\n"
     ]
    }
   ],
   "source": [
    "class Parent:\n",
    "    def __init__(self, name):\n",
    "        self.name = name\n",
    "\n",
    "\n",
    "class Child(Parent):\n",
    "    def __init__(self, name, age):\n",
    "        super().__init__(name)\n",
    "        self.age = age\n",
    "\n",
    "\n",
    "c = Child(\"John\", 21)\n",
    "print(c.name, c.age)"
   ]
  },
  {
   "cell_type": "code",
   "execution_count": null,
   "id": "e5919b9a",
   "metadata": {},
   "outputs": [
    {
     "name": "stdout",
     "output_type": "stream",
     "text": [
      "Hello from Parent !\n",
      "Hello world !\n",
      "Hello From child !\n"
     ]
    }
   ],
   "source": [
    "class Parent:\n",
    "    def greet(self):\n",
    "        print(\"Hello from Parent !\")\n",
    "\n",
    "    def me(self):\n",
    "        print(\"Hello world !\")\n",
    "\n",
    "\n",
    "class Child(Parent):\n",
    "    def greet(self):\n",
    "        super().greet()\n",
    "        super().me()\n",
    "        print(\"Hello From child !\")\n",
    "\n",
    "\n",
    "cc = Child()\n",
    "cc.greet()"
   ]
  },
  {
   "cell_type": "code",
   "execution_count": 36,
   "id": "61930705",
   "metadata": {},
   "outputs": [
    {
     "name": "stdout",
     "output_type": "stream",
     "text": [
      "Method from D\n",
      "Method from C\n",
      "Method from B\n",
      "Method from A\n"
     ]
    }
   ],
   "source": [
    "class A:\n",
    "    def method(self):\n",
    "        print(\"Method from A\")\n",
    "\n",
    "\n",
    "class B(A):\n",
    "    def method(self):\n",
    "        print(\"Method from B\")\n",
    "        super().method()\n",
    "\n",
    "\n",
    "class C(B):\n",
    "    def method(self):\n",
    "        print(\"Method from C\")\n",
    "        super().method()\n",
    "\n",
    "\n",
    "class D(C):\n",
    "    def method(self):\n",
    "        print(\"Method from D\")\n",
    "        super().method()\n",
    "\n",
    "\n",
    "d = D()\n",
    "d.method()\n",
    "# Output:\n",
    "# Method from D\n",
    "# Method from B\n",
    "# Method from C\n",
    "# Method from A"
   ]
  },
  {
   "cell_type": "code",
   "execution_count": null,
   "id": "bd3e5a4a",
   "metadata": {},
   "outputs": [
    {
     "name": "stdout",
     "output_type": "stream",
     "text": [
      "Method from D\n",
      "Method from B\n",
      "Method from C\n",
      "Method from A\n"
     ]
    }
   ],
   "source": [
    "class A:\n",
    "    def method(self):\n",
    "        print(\"Method from A\")\n",
    "\n",
    "\n",
    "class B(A):\n",
    "    def method(self):\n",
    "        print(\"Method from B\")\n",
    "        super().method()\n",
    "\n",
    "\n",
    "class C(A):\n",
    "    def method(self):\n",
    "        print(\"Method from C\")\n",
    "        super().method()\n",
    "\n",
    "\n",
    "class D(B, C):\n",
    "    def method(self):\n",
    "        print(\"Method from D\")\n",
    "        super().method()\n",
    "\n",
    "\n",
    "d = D()\n",
    "d.method()\n",
    "# Output:\n",
    "# Method from D\n",
    "# Method from B\n",
    "# Method from C\n",
    "# Method from A"
   ]
  },
  {
   "cell_type": "code",
   "execution_count": null,
   "id": "45badf24",
   "metadata": {},
   "outputs": [
    {
     "name": "stdout",
     "output_type": "stream",
     "text": [
      "Hondaa\n",
      "Civic\n",
      "full NAme :  Hondaa Civic\n"
     ]
    }
   ],
   "source": [
    "class Car:\n",
    "    def __init__(self, brand, model):\n",
    "        self.brand = brand\n",
    "        self.model = model\n",
    "\n",
    "    def full_name(self):\n",
    "        return f\"{self.brand} {self.model}\"\n",
    "\n",
    "\n",
    "_car = Car(\"Hondaa\", \"Civic\")\n",
    "print(_car.brand)\n",
    "print(_car.model)\n",
    "print(\"full NAme : \", _car.full_name())"
   ]
  },
  {
   "cell_type": "code",
   "execution_count": null,
   "id": "773d89db",
   "metadata": {},
   "outputs": [
    {
     "name": "stdout",
     "output_type": "stream",
     "text": [
      "85kwh\n",
      "Tesla\n",
      "Model s\n",
      "Tesla Model s\n"
     ]
    }
   ],
   "source": [
    "class Car:\n",
    "    def __init__(self, brand, model):\n",
    "        self.brand = brand\n",
    "        self.model = model\n",
    "\n",
    "    def full_name(self):\n",
    "        return f\"{self.brand} {self.model}\"\n",
    "\n",
    "\n",
    "class Electric_car(Car):\n",
    "    def __init__(self, brand, model, battery_size):\n",
    "        super().__init__(brand, model)\n",
    "        self.battery_size = battery_size\n",
    "\n",
    "\n",
    "_car = Electric_car(\"Tesla\", \"Model s\", \"85kwh\")\n",
    "print(_car.battery_size)\n",
    "print(_car.brand)\n",
    "print(_car.model)\n",
    "print(_car.full_name())"
   ]
  },
  {
   "cell_type": "code",
   "execution_count": null,
   "id": "d5ed1ab6",
   "metadata": {},
   "outputs": [
    {
     "name": "stdout",
     "output_type": "stream",
     "text": [
      "HAW D VASANT\n",
      "employee Name : HAW D VASANT\n"
     ]
    }
   ],
   "source": [
    "class Employee:\n",
    "    def __init__(self, name):\n",
    "        self.name = name\n",
    "\n",
    "    def display(self):\n",
    "        print(f\"employee Name : {self.name}\")\n",
    "\n",
    "\n",
    "e = Employee(\"HAW D VASANT\")\n",
    "print(e.name)\n",
    "e.display()"
   ]
  },
  {
   "cell_type": "code",
   "execution_count": null,
   "id": "0eebdcf5",
   "metadata": {},
   "outputs": [],
   "source": [
    "# Encapsulation"
   ]
  },
  {
   "cell_type": "code",
   "execution_count": null,
   "id": "78b4ec42",
   "metadata": {},
   "outputs": [
    {
     "name": "stdout",
     "output_type": "stream",
     "text": [
      "Name : vasant Salary : 1232\n",
      "vasant 1232 1\n"
     ]
    }
   ],
   "source": [
    "class Employee:\n",
    "    def __init__(self, name, salary):\n",
    "        self._name = name\n",
    "        self._salary = salary\n",
    "\n",
    "    def get_display(self):\n",
    "        print(f\"Name : {self._name} Salary : {self._salary}\")\n",
    "\n",
    "\n",
    "class New_employee(Employee):\n",
    "    def __init__(self, name, salary, id):\n",
    "        super().__init__(name, salary)\n",
    "        self.id = id\n",
    "\n",
    "\n",
    "new_e = New_employee(\"vasant\", 1232, 1)\n",
    "new_e.get_display()\n",
    "# print(new_e.name, new_e.salary, new_e.id)"
   ]
  },
  {
   "cell_type": "code",
   "execution_count": null,
   "id": "c38d0dca",
   "metadata": {},
   "outputs": [],
   "source": [
    "new_e"
   ]
  },
  {
   "cell_type": "code",
   "execution_count": null,
   "id": "ca7a7e38",
   "metadata": {},
   "outputs": [
    {
     "name": "stdout",
     "output_type": "stream",
     "text": [
      "Model s\n",
      "Tesla!\n",
      "Electric Ccharge\n",
      "Petrol or Diesel\n",
      "Total Of Car Created : 2\n"
     ]
    }
   ],
   "source": [
    "class Car:\n",
    "    total_car = 0\n",
    "\n",
    "    def __init__(self, brand, model):\n",
    "        self.__brand = brand\n",
    "        self.model = model\n",
    "        Car.total_car += 1\n",
    "\n",
    "    def get_brand(self):\n",
    "        return self.__brand + \"!\"\n",
    "\n",
    "    def full_name(self):\n",
    "        return f\"{self.__brand} {self.model}\"\n",
    "\n",
    "    def fuel_type(self):\n",
    "        return \"Petrol or Diesel\"\n",
    "\n",
    "\n",
    "class Electric_car(Car):\n",
    "    def __init__(self, brand, model, battery_size):\n",
    "        super().__init__(brand, model)\n",
    "        self.battery_size = battery_size\n",
    "\n",
    "    def fuel_type(self):\n",
    "        return \"Electric Ccharge\"\n",
    "\n",
    "\n",
    "_car = Electric_car(\"Tesla\", \"Model s\", \"85kwh\")\n",
    "print(_car.model)\n",
    "print(_car.get_brand())\n",
    "print(_car.fuel_type())\n",
    "safari = Car(\"Honda\", \"civic\")\n",
    "print(safari.fuel_type())\n",
    "print(f\"Total Of Car Created : {Car.total_car}\")"
   ]
  },
  {
   "cell_type": "code",
   "execution_count": null,
   "id": "ac6a01ff",
   "metadata": {},
   "outputs": [
    {
     "name": "stdout",
     "output_type": "stream",
     "text": [
      "Total Of Car Created : 4\n"
     ]
    }
   ],
   "source": [
    "class Car:\n",
    "    total_car = 0\n",
    "\n",
    "    def __init__(self, brand, model):\n",
    "        self.__brand = brand\n",
    "        self.model = model\n",
    "        Car.total_car += 1\n",
    "\n",
    "    def get_brand(self):\n",
    "        return self.__brand + \"!\"\n",
    "\n",
    "    def full_name(self):\n",
    "        return f\"{self.__brand} {self.model}\"\n",
    "\n",
    "    def fuel_type(self):\n",
    "        return \"Petrol or Diesel\"\n",
    "\n",
    "\n",
    "class Electric_car(Car):\n",
    "    def __init__(self, brand, model, battery_size):\n",
    "        super().__init__(brand, model)\n",
    "        self.battery_size = battery_size\n",
    "\n",
    "    def fuel_type(self):\n",
    "        return \"Electric Ccharge\"\n",
    "\n",
    "\n",
    "Electric_car(\"Tesla\", \"Model s\", \"85kwh\")\n",
    "Car(\"Honda\", \"civic\")\n",
    "Electric_car(\"BMW\", \"W1s\", \"851kwh\")\n",
    "Car(\"TATA\", \"NEXON\")\n",
    "print(f\"Total Of Car Created : {Car.total_car}\")"
   ]
  },
  {
   "cell_type": "code",
   "execution_count": null,
   "id": "c90cf5df",
   "metadata": {},
   "outputs": [
    {
     "name": "stdout",
     "output_type": "stream",
     "text": [
      "Total Of Car Created : 4\n"
     ]
    }
   ],
   "source": [
    "class Car:\n",
    "    total_car = 0\n",
    "\n",
    "    def __init__(self, brand, model):\n",
    "        self.__brand = brand\n",
    "        self.model = model\n",
    "        Car.total_car += 1\n",
    "\n",
    "    def get_brand(self):\n",
    "        return self.__brand + \"!\"\n",
    "\n",
    "    def full_name(self):\n",
    "        return f\"{self.__brand} {self.model}\"\n",
    "\n",
    "    def fuel_type(self):\n",
    "        return \"Petrol or Diesel\"\n",
    "\n",
    "\n",
    "class Electric_car(Car):\n",
    "    def __init__(self, brand, model, battery_size):\n",
    "        super().__init__(brand, model)\n",
    "        self.battery_size = battery_size\n",
    "\n",
    "    def fuel_type(self):\n",
    "        return \"Electric Ccharge\"\n",
    "\n",
    "\n",
    "Electric_car(\"Tesla\", \"Model s\", \"85kwh\")\n",
    "Car(\"Honda\", \"civic\")\n",
    "Electric_car(\"BMW\", \"W1s\", \"851kwh\")\n",
    "Car(\"TATA\", \"NEXON\")\n",
    "print(f\"Total Of Car Created : {Car.total_car}\")"
   ]
  },
  {
   "cell_type": "code",
   "execution_count": null,
   "id": "3182e07c",
   "metadata": {},
   "outputs": [
    {
     "name": "stdout",
     "output_type": "stream",
     "text": [
      "Hello world !\n"
     ]
    }
   ],
   "source": [
    "import time\n",
    "\n",
    "time.sleep(10)\n",
    "print"
   ]
  },
  {
   "cell_type": "code",
   "execution_count": null,
   "id": "959e589c",
   "metadata": {},
   "outputs": [],
   "source": [
    "# How to build ATM machine code using pythonn"
   ]
  },
  {
   "cell_type": "code",
   "execution_count": null,
   "id": "67d50def",
   "metadata": {},
   "outputs": [
    {
     "name": "stdout",
     "output_type": "stream",
     "text": [
      " WE L C O M E   T O    S B I    A T M \n",
      "\n",
      " Please Insert Your Card .\n"
     ]
    },
    {
     "name": "stderr",
     "output_type": "stream",
     "text": [
      " Loading…: 100%|█████████████████████████| 101/101 [00:05<00:00, 19.22it/s]\n"
     ]
    },
    {
     "name": "stdout",
     "output_type": "stream",
     "text": [
      "\n",
      " 1. Set Your Pin Code .\n",
      " 2. Deposite Your Amount .\n",
      " 3. Withdraw Your Amount .\n",
      " 4. Inqury Your blance .\n",
      " 5. Cancel .\n",
      "\n"
     ]
    },
    {
     "name": "stdout",
     "output_type": "stream",
     "text": [
      " 1\n",
      " Set Your New Pin Code : 3324\n"
     ]
    },
    {
     "name": "stdout",
     "output_type": "stream",
     "text": [
      " Successfully Set your Pin !\n"
     ]
    },
    {
     "name": "stdout",
     "output_type": "stream",
     "text": [
      " 2\n",
      " Enter Your Pin Code :  3324\n",
      " Enter Your amount :  1000\n"
     ]
    },
    {
     "name": "stdout",
     "output_type": "stream",
     "text": [
      " Successfully Deposited !\n"
     ]
    },
    {
     "name": "stdout",
     "output_type": "stream",
     "text": [
      " 4\n"
     ]
    },
    {
     "name": "stdout",
     "output_type": "stream",
     "text": [
      " Your Total Amount : 1000\n"
     ]
    },
    {
     "name": "stdout",
     "output_type": "stream",
     "text": [
      " 3\n",
      " Enter Your Pin Code :  3324\n",
      " Enter Your amount :  900\n"
     ]
    },
    {
     "name": "stdout",
     "output_type": "stream",
     "text": [
      " Successfully Withdraw : 900\n"
     ]
    },
    {
     "name": "stdout",
     "output_type": "stream",
     "text": [
      " 4\n"
     ]
    },
    {
     "name": "stdout",
     "output_type": "stream",
     "text": [
      " Your Total Amount : 100\n"
     ]
    },
    {
     "name": "stdout",
     "output_type": "stream",
     "text": [
      " 5\n"
     ]
    }
   ],
   "source": [
    "from tqdm import tqdm\n",
    "import time\n",
    "\n",
    "\n",
    "class SBI_ATM:\n",
    "    balance = 0\n",
    "    pin = 0\n",
    "\n",
    "    def __init__(self):\n",
    "        print(\" WE L C O M E   T O    S B I    A T M \\n\")\n",
    "        print(\" Please Insert Your Card .\")\n",
    "        for i in tqdm(range(101), desc=\" Loading…\", ascii=False, ncols=75):\n",
    "            time.sleep(0.05)\n",
    "        print(\"\\n 1. Set Your Pin Code .\")\n",
    "        print(\" 2. Deposite Your Amount .\")\n",
    "        print(\" 3. Withdraw Your Amount .\")\n",
    "        print(\" 4. Inqury Your blance .\")\n",
    "        print(\" 5. Cancel .\\n\")\n",
    "       \n",
    "    def enter_pin(self):\n",
    "        self.pin_code = int(input(\" Enter Your Pin Code : \"))\n",
    "\n",
    "    def enter_amount(self):\n",
    "        self.amount = int(input(\" Enter Your amount : \"))\n",
    "\n",
    "    def set_your_pin(self):\n",
    "        self.pin =int(input(' Set Your New Pin Code :'))\n",
    "        \n",
    "        print(\" Successfully Set your Pin !\")\n",
    "\n",
    "    def deposite_amount(self):\n",
    "        try:\n",
    "            self.enter_pin()\n",
    "            if self.pin_code == self.pin:\n",
    "                self.enter_amount()\n",
    "                self.balance += self.amount\n",
    "                print(\" Successfully Deposited !\")\n",
    "            else:\n",
    "                print(' Invalid Pin Code !')\n",
    "        except ValueError as e:\n",
    "            print(e)\n",
    "\n",
    "    def inqury_balannc(self):\n",
    "        print(f\" Your Total Amount : {self.balance}\")\n",
    "\n",
    "    def withdraw_amount(self):\n",
    "        try:\n",
    "            self.enter_pin()\n",
    "            if self.pin == self.pin_code:\n",
    "                self.enter_amount()\n",
    "                if self.balance > self.amount and self.balance > 100:\n",
    "                    self.balance -= self.amount\n",
    "                    print(f\" Successfully Withdraw : {self.amount}\")\n",
    "                else:\n",
    "                    print(\" Insufficiant balance !\")\n",
    "            else:\n",
    "                print(' Invalid Pin Code !')\n",
    "        except ValueError as e:\n",
    "            print(e)\n",
    "\n",
    "\n",
    "if __name__ == \"__main__\":\n",
    "    sbi = SBI_ATM()\n",
    "    while True:\n",
    "        chose=int(input())\n",
    "        match chose:\n",
    "            case 1:\n",
    "                sbi.set_your_pin()\n",
    "\n",
    "            case 2:\n",
    "                sbi.deposite_amount()\n",
    "\n",
    "            case 3:\n",
    "                sbi.withdraw_amount()\n",
    "\n",
    "            case 4:\n",
    "                sbi.inqury_balannc()            \n",
    "            case 5:\n",
    "                break\n",
    "\n",
    "          "
   ]
  },
  {
   "cell_type": "code",
   "execution_count": 3,
   "id": "827a0958",
   "metadata": {},
   "outputs": [
    {
     "name": "stdout",
     "output_type": "stream",
     "text": [
      "s\n"
     ]
    }
   ],
   "source": [
    "s=input()\n",
    "s=input()\n",
    "if  s==s:\n",
    "    print('s')\n",
    "else:\n",
    "    print('n')"
   ]
  },
  {
   "cell_type": "code",
   "execution_count": null,
   "id": "ab21a2e3",
   "metadata": {},
   "outputs": [],
   "source": [
    "#oop "
   ]
  },
  {
   "cell_type": "code",
   "execution_count": null,
   "id": "8f31b821",
   "metadata": {},
   "outputs": [],
   "source": [
    "\n",
    "\n"
   ]
  }
 ],
 "metadata": {
  "kernelspec": {
   "display_name": "base",
   "language": "python",
   "name": "python3"
  },
  "language_info": {
   "codemirror_mode": {
    "name": "ipython",
    "version": 3
   },
   "file_extension": ".py",
   "mimetype": "text/x-python",
   "name": "python",
   "nbconvert_exporter": "python",
   "pygments_lexer": "ipython3",
   "version": "3.12.3"
  }
 },
 "nbformat": 4,
 "nbformat_minor": 5
}
