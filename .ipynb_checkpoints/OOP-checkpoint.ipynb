{
 "cells": [
  {
   "cell_type": "code",
   "execution_count": null,
   "id": "54b2f637-53a6-43db-a671-6eae9ee3230f",
   "metadata": {},
   "outputs": [
    {
     "name": "stdout",
     "output_type": "stream",
     "text": [
      "Vasant\n",
      "Vasant Java 120000 M\n",
      "Java\n"
     ]
    }
   ],
   "source": [
    "class Employee:\n",
    "    name = \"Vasant\"\n",
    "    language = \"Python\"\n",
    "    salary = 120000\n",
    "\n",
    "\n",
    "print(Employee.name)\n",
    "s = Employee()\n",
    "s.gender = \"M\"\n",
    "s.language = \"Java\"\n",
    "print(s.name, s.language, s.salary, s.gender)\n",
    "print(s.language)"
   ]
  },
  {
   "cell_type": "code",
   "execution_count": null,
   "id": "d37faedb",
   "metadata": {},
   "outputs": [
    {
     "name": "stdout",
     "output_type": "stream",
     "text": [
      "Vasant\n",
      "Vasant Python\n"
     ]
    }
   ],
   "source": [
    "class Employee:\n",
    "    name = \"Vasant\"\n",
    "    language = \"Python\"\n",
    "    salary = 120000\n",
    "\n",
    "    def info(self):\n",
    "        print(self.name, self.language)\n",
    "\n",
    "\n",
    "print(Employee.name)\n",
    "s = Employee()\n",
    "s.info()"
   ]
  },
  {
   "cell_type": "code",
   "execution_count": 15,
   "id": "66b922a5",
   "metadata": {},
   "outputs": [
    {
     "name": "stdout",
     "output_type": "stream",
     "text": [
      "We are showing models of cars\n",
      "Good Morning !\n",
      "Car name : Honda Car Model : Civic\n"
     ]
    }
   ],
   "source": [
    "class Car:\n",
    "    model = \"T-s\"\n",
    "    car = \"Tesla\"\n",
    "\n",
    "    def __init__(self,car,model):\n",
    "        self.car=car\n",
    "        self.model=model\n",
    "        print(\"We are showing models of cars\")\n",
    "    def getCarInfo(self):\n",
    "        print(f\"Car name : {self.car} Car Model : {self.model}\")\n",
    "\n",
    "    @staticmethod\n",
    "    def say():\n",
    "        print(\"Good Morning !\")\n",
    "\n",
    "\n",
    "car = Car('Honda','Civic')\n",
    "car.say()\n",
    "car.getCarInfo()"
   ]
  },
  {
   "cell_type": "code",
   "execution_count": null,
   "id": "19c2be31",
   "metadata": {},
   "outputs": [],
   "source": []
  }
 ],
 "metadata": {
  "kernelspec": {
   "display_name": "base",
   "language": "python",
   "name": "python3"
  },
  "language_info": {
   "codemirror_mode": {
    "name": "ipython",
    "version": 3
   },
   "file_extension": ".py",
   "mimetype": "text/x-python",
   "name": "python",
   "nbconvert_exporter": "python",
   "pygments_lexer": "ipython3",
   "version": "3.12.3"
  }
 },
 "nbformat": 4,
 "nbformat_minor": 5
}
